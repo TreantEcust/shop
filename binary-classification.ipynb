{
 "cells": [
  {
   "cell_type": "code",
   "execution_count": 1,
   "metadata": {
    "collapsed": true
   },
   "outputs": [],
   "source": [
    "import numpy as np\n",
    "import pandas as pd\n",
    "import matplotlib\n",
    "import matplotlib.pyplot as plt\n",
    "import seaborn as sns\n",
    "import time\n",
    "import os\n",
    "from tqdm import tqdm\n",
    "from geohash import encode\n",
    "# from sklearn.feature_extraction import FeatureHasher\n",
    "# from sklearn.metrics.pairwise import cosine_similarity\n",
    "\n",
    "%config InlineBackend.figure_format = 'retina' # set 'png' here when working on notebook\n",
    "%matplotlib inline\n",
    "\n",
    "cache_dir='cache'\n",
    "flag=True"
   ]
  },
  {
   "cell_type": "markdown",
   "metadata": {},
   "source": [
    "## 加载数据"
   ]
  },
  {
   "cell_type": "code",
   "execution_count": 2,
   "metadata": {
    "scrolled": true
   },
   "outputs": [
    {
     "name": "stderr",
     "output_type": "stream",
     "text": [
      "100%|██████████| 1138015/1138015 [00:11<00:00, 102800.41it/s]\n",
      "100%|██████████| 483931/483931 [00:04<00:00, 108340.33it/s]\n"
     ]
    }
   ],
   "source": [
    "geo_precision=[7,8,9]\n",
    "\n",
    "# 将经纬度geohash编码\n",
    "def make_geohash(df,precision=[7]):\n",
    "    for p in precision:\n",
    "        df['geohash_%d'%p]=[encode(coor[0],coor[1],p) for coor in tqdm(df[['latitude','longitude']].values)]\n",
    "    return df\n",
    "\n",
    "# 提取时间结构信息\n",
    "def make_struct_time(df):\n",
    "    time_infos=[]\n",
    "    for t in tqdm(df.time_stamp):\n",
    "        _struct_time=time.strptime(t,'%Y-%m-%d %H:%M')\n",
    "        time_infos.append([_struct_time.tm_hour+_struct_time.tm_min/60.,_struct_time.tm_hour,_struct_time.tm_wday])\n",
    "    time_infos=pd.DataFrame(time_infos,columns=['time','hour','wday'])\n",
    "    df=pd.concat((df,time_infos),axis=1)\n",
    "    return df\n",
    "\n",
    "# 按照强度降序排列wifi_bssid\n",
    "def make_wifi_sorted(df,how='max',cache=False):\n",
    "    cache_path=os.path.join(cache_dir,'加载数据','wifi_sorted_%d_%s.hdf'%(df.shape[0],how))\n",
    "    if os.path.exists(cache_path) & flag & cache:\n",
    "        result=pd.read_hdf(cache_path,'data')\n",
    "    else:\n",
    "        print('wifi_bssid %s排序中...'%how)\n",
    "        def _sort_wifi(wifi_infos):\n",
    "            d={}\n",
    "            for i in wifi_infos.split(';'):\n",
    "                infos=i.split('|')[:2] # ['bssid','strength']\n",
    "                strength=int(infos[1])\n",
    "                if infos[0] not in d:\n",
    "                    d.update({infos[0]:[strength]})\n",
    "                else:\n",
    "                    d[infos[0]].append(strength)\n",
    "            _agg=(lambda x:np.mean(x)) if how=='mean' else (lambda x:np.max(x))\n",
    "            _serialize=lambda x:';'.join(['%s|%d'%(i[0],i[1]) for i in x]) # 序列化\n",
    "            d=[(i[0],_agg(i[1])) for i in d.items()]\n",
    "            return _serialize(sorted(d,key=lambda x:x[1],reverse=True))\n",
    "        result=df.wifi_infos.apply(_sort_wifi)\n",
    "        if cache:\n",
    "            result.to_hdf(cache_path,'data')\n",
    "    def _deserialize(x):\n",
    "        # 反序列化\n",
    "        result=[]\n",
    "        for i in x.split(';'):\n",
    "            ls=i.split('|')\n",
    "            ls[1]=int(ls[1])\n",
    "            result.append(ls)\n",
    "        return result\n",
    "    df['wifi_sorted_%s'%how]=result.apply(_deserialize)\n",
    "    return df\n",
    "\n",
    "# 加载数据\n",
    "def load_data(file_path):\n",
    "    df=pd.read_csv(file_path)\n",
    "#     df=make_geohash(df,geo_precision)\n",
    "    df=make_struct_time(df)\n",
    "    df=make_wifi_sorted(df,'max',True)\n",
    "    return df\n",
    "\n",
    "meta_df=pd.read_csv('data/训练数据-ccf_first_round_shop_info.csv')\n",
    "# meta_df=make_geohash(meta_df,geo_precision)\n",
    "train_df=load_data('data/训练数据-ccf_first_round_user_shop_behavior.csv')\n",
    "test_df=load_data('data/AB榜测试集-evaluation_public.csv')\n",
    "\n",
    "# 加入商铺信息（测试集此时还没有候选集，没有shop_id）\n",
    "# meta_df.rename(columns={'geohash_6':'_geohash_6'},inplace=True)\n",
    "train_df=pd.merge(train_df,meta_df[['shop_id','mall_id','category_id','price']],on='shop_id',how='left')\n",
    "train_df['row_id']=train_df.index"
   ]
  },
  {
   "cell_type": "code",
   "execution_count": 3,
   "metadata": {
    "collapsed": true
   },
   "outputs": [],
   "source": [
    "# # 标记出手机定位不可信的样本\n",
    "# train_df['unbelievable']=(train_df.geohash_6!=train_df._geohash_6)*1\n",
    "# _match=pd.merge(test_df[['row_id','geohash_6','mall_id']],meta_df[['_geohash_6','shop_id','mall_id']],on='mall_id',how='left')\n",
    "# _match['equal']=(_match.geohash_6==_match._geohash_6)*1\n",
    "# _match=_match[['row_id','equal']].groupby('row_id',as_index=False)['equal'].agg({'nb_equal':'sum'})\n",
    "# _match=_match[_match.nb_equal==0]\n",
    "# _match.rename(columns={'nb_equal':'unbelievable'},inplace=True)\n",
    "# _match.unbelievable=1\n",
    "\n",
    "# test_df=pd.merge(test_df,_match,on='row_id',how='left')\n",
    "# test_df.fillna(0,inplace=True)"
   ]
  },
  {
   "cell_type": "code",
   "execution_count": 41,
   "metadata": {
    "collapsed": true
   },
   "outputs": [],
   "source": [
    "# train_df=train_df[train_df.mall_id=='m_7800']\n",
    "# test_df=test_df[test_df.mall_id=='m_7800']\n",
    "# meta_df=meta_df[meta_df.mall_id=='m_7800']"
   ]
  },
  {
   "cell_type": "code",
   "execution_count": 3,
   "metadata": {
    "collapsed": true
   },
   "outputs": [],
   "source": [
    "x_train=train_df"
   ]
  },
  {
   "cell_type": "code",
   "execution_count": 3,
   "metadata": {
    "collapsed": true
   },
   "outputs": [],
   "source": [
    "# 构造线下验证集\n",
    "x_train=train_df[train_df.time_stamp<'2017-08-30 00:00']\n",
    "x_val=train_df[train_df.time_stamp>='2017-08-30 00:00']"
   ]
  },
  {
   "cell_type": "code",
   "execution_count": 5,
   "metadata": {
    "collapsed": true,
    "scrolled": true
   },
   "outputs": [],
   "source": [
    "# # x_val & test_df同分布？\n",
    "# def count_plot(df1,df2,key=None):\n",
    "#     sns.set({'figure.figsize':(16,4)})\n",
    "#     fig,axs=plt.subplots(1,2)\n",
    "#     sns.countplot(data=df1,x=key,ax=axs[0])\n",
    "#     sns.countplot(data=df2,x=key,ax=axs[1])\n",
    "\n",
    "# merge_mall_id=lambda df:pd.merge(df,meta_df[['shop_id','mall_id']],on='shop_id',how='left')\n",
    "\n",
    "# count_plot(x_val,test_df,'hour')\n",
    "# count_plot(x_val,test_df,'wday')\n",
    "# count_plot(x_val,test_df,'mall_id')"
   ]
  },
  {
   "cell_type": "code",
   "execution_count": 4,
   "metadata": {
    "scrolled": false
   },
   "outputs": [
    {
     "name": "stderr",
     "output_type": "stream",
     "text": [
      "100%|██████████| 97/97 [00:05<00:00, 18.93it/s]\n"
     ]
    },
    {
     "data": {
      "text/html": [
       "<div>\n",
       "<style>\n",
       "    .dataframe thead tr:only-child th {\n",
       "        text-align: right;\n",
       "    }\n",
       "\n",
       "    .dataframe thead th {\n",
       "        text-align: left;\n",
       "    }\n",
       "\n",
       "    .dataframe tbody tr th {\n",
       "        vertical-align: top;\n",
       "    }\n",
       "</style>\n",
       "<table border=\"1\" class=\"dataframe\">\n",
       "  <thead>\n",
       "    <tr style=\"text-align: right;\">\n",
       "      <th></th>\n",
       "      <th>_count</th>\n",
       "      <th>wifi</th>\n",
       "    </tr>\n",
       "  </thead>\n",
       "  <tbody>\n",
       "    <tr>\n",
       "      <th>0</th>\n",
       "      <td>1</td>\n",
       "      <td>395574</td>\n",
       "    </tr>\n",
       "    <tr>\n",
       "      <th>1</th>\n",
       "      <td>2</td>\n",
       "      <td>3966</td>\n",
       "    </tr>\n",
       "    <tr>\n",
       "      <th>2</th>\n",
       "      <td>3</td>\n",
       "      <td>103</td>\n",
       "    </tr>\n",
       "    <tr>\n",
       "      <th>3</th>\n",
       "      <td>4</td>\n",
       "      <td>18</td>\n",
       "    </tr>\n",
       "    <tr>\n",
       "      <th>4</th>\n",
       "      <td>5</td>\n",
       "      <td>4</td>\n",
       "    </tr>\n",
       "    <tr>\n",
       "      <th>5</th>\n",
       "      <td>6</td>\n",
       "      <td>5</td>\n",
       "    </tr>\n",
       "    <tr>\n",
       "      <th>6</th>\n",
       "      <td>7</td>\n",
       "      <td>3</td>\n",
       "    </tr>\n",
       "    <tr>\n",
       "      <th>7</th>\n",
       "      <td>9</td>\n",
       "      <td>1</td>\n",
       "    </tr>\n",
       "    <tr>\n",
       "      <th>8</th>\n",
       "      <td>10</td>\n",
       "      <td>1</td>\n",
       "    </tr>\n",
       "    <tr>\n",
       "      <th>9</th>\n",
       "      <td>14</td>\n",
       "      <td>3</td>\n",
       "    </tr>\n",
       "    <tr>\n",
       "      <th>10</th>\n",
       "      <td>21</td>\n",
       "      <td>1</td>\n",
       "    </tr>\n",
       "  </tbody>\n",
       "</table>\n",
       "</div>"
      ],
      "text/plain": [
       "    _count    wifi\n",
       "0        1  395574\n",
       "1        2    3966\n",
       "2        3     103\n",
       "3        4      18\n",
       "4        5       4\n",
       "5        6       5\n",
       "6        7       3\n",
       "7        9       1\n",
       "8       10       1\n",
       "9       14       3\n",
       "10      21       1"
      ]
     },
     "execution_count": 4,
     "metadata": {},
     "output_type": "execute_result"
    }
   ],
   "source": [
    "# 统计每个商场出现的wifi，并筛选掉出现在多个商场的wifi，如ChinaNet\n",
    "mall_wifi=train_df.groupby('mall_id',as_index=False)['wifi_infos'].agg(lambda x:';'.join(x.wifi_infos))\n",
    "ls=[]\n",
    "for i in tqdm(mall_wifi.values):\n",
    "    ls+=[(i[0],j.split('|')[0]) for j in i[1].split(';')]\n",
    "mall_wifi=pd.DataFrame(ls,columns=['mall_id','wifi'])\n",
    "wifi_mall_count=mall_wifi.groupby('wifi',as_index=False)['mall_id'].agg({'_count':lambda x:len(x.unique())})\n",
    "wifi_mall_count.groupby('_count',as_index=False).count()"
   ]
  },
  {
   "cell_type": "code",
   "execution_count": 5,
   "metadata": {
    "collapsed": true
   },
   "outputs": [],
   "source": [
    "# 筛选掉出现在多个商场中的wifi\n",
    "def wifi_filter(wifi_infos):\n",
    "    result=pd.DataFrame([i.split('|')[:2] for i in wifi_infos.split(';')],columns=['wifi','strength'])\n",
    "    result=pd.merge(result,wifi_mall_count[wifi_mall_count._count>3],on='wifi',how='left')\n",
    "    result=result[result._count.isnull()]\n",
    "    return ';'.join(['|'.join(i) for i in result[['wifi','strength']].values])\n",
    "\n",
    "# 整合每个店铺对应的wi-fi信息\n",
    "def make_aggregated_wifi(df):\n",
    "    cache_path=os.path.join(cache_dir,'加载数据','aggregate_wifi_%d.hdf'% df.shape[0])\n",
    "    if os.path.exists(cache_path) & flag:\n",
    "        result=pd.read_hdf(cache_path,'data')\n",
    "    else:\n",
    "        result=df[['shop_id','wifi_infos']].groupby('shop_id',as_index=False).agg(lambda x:';'.join(x)) # x:pd.Series\n",
    "        print('筛选wifi...')\n",
    "        result.wifi_infos=result.wifi_infos.apply(wifi_filter)\n",
    "        result=make_wifi_sorted(result,'max')\n",
    "        result=make_wifi_sorted(result,'mean')\n",
    "        result.to_hdf(cache_path,'data')\n",
    "    return result\n",
    "\n",
    "train_shop_wifi=make_aggregated_wifi(x_train)\n",
    "test_shop_wifi=make_aggregated_wifi(train_df)"
   ]
  },
  {
   "cell_type": "code",
   "execution_count": 6,
   "metadata": {},
   "outputs": [
    {
     "data": {
      "text/html": [
       "<div>\n",
       "<style>\n",
       "    .dataframe thead tr:only-child th {\n",
       "        text-align: right;\n",
       "    }\n",
       "\n",
       "    .dataframe thead th {\n",
       "        text-align: left;\n",
       "    }\n",
       "\n",
       "    .dataframe tbody tr th {\n",
       "        vertical-align: top;\n",
       "    }\n",
       "</style>\n",
       "<table border=\"1\" class=\"dataframe\">\n",
       "  <thead>\n",
       "    <tr style=\"text-align: right;\">\n",
       "      <th></th>\n",
       "      <th>user_id</th>\n",
       "      <th>shop_id</th>\n",
       "      <th>time_stamp</th>\n",
       "      <th>longitude</th>\n",
       "      <th>latitude</th>\n",
       "      <th>wifi_infos</th>\n",
       "      <th>time</th>\n",
       "      <th>hour</th>\n",
       "      <th>wday</th>\n",
       "      <th>wifi_sorted_max</th>\n",
       "      <th>mall_id</th>\n",
       "      <th>category_id</th>\n",
       "      <th>price</th>\n",
       "      <th>row_id</th>\n",
       "    </tr>\n",
       "  </thead>\n",
       "  <tbody>\n",
       "    <tr>\n",
       "      <th>0</th>\n",
       "      <td>u_376</td>\n",
       "      <td>s_2871718</td>\n",
       "      <td>2017-08-06 21:20</td>\n",
       "      <td>122.308291</td>\n",
       "      <td>32.088040</td>\n",
       "      <td>b_6396480|-67|false;b_41124514|-86|false;b_287...</td>\n",
       "      <td>21.333333</td>\n",
       "      <td>21</td>\n",
       "      <td>6</td>\n",
       "      <td>[[b_6396479, -55], [b_5857369, -55], [b_639648...</td>\n",
       "      <td>m_1409</td>\n",
       "      <td>c_38</td>\n",
       "      <td>42</td>\n",
       "      <td>0</td>\n",
       "    </tr>\n",
       "    <tr>\n",
       "      <th>1</th>\n",
       "      <td>u_376</td>\n",
       "      <td>s_2871718</td>\n",
       "      <td>2017-08-06 21:20</td>\n",
       "      <td>122.308162</td>\n",
       "      <td>32.087970</td>\n",
       "      <td>b_6396480|-67|false;b_56328155|-73|false;b_411...</td>\n",
       "      <td>21.333333</td>\n",
       "      <td>21</td>\n",
       "      <td>6</td>\n",
       "      <td>[[b_6396479, -57], [b_5857369, -57], [b_639648...</td>\n",
       "      <td>m_1409</td>\n",
       "      <td>c_38</td>\n",
       "      <td>42</td>\n",
       "      <td>1</td>\n",
       "    </tr>\n",
       "    <tr>\n",
       "      <th>2</th>\n",
       "      <td>u_1041</td>\n",
       "      <td>s_181637</td>\n",
       "      <td>2017-08-02 13:10</td>\n",
       "      <td>117.365255</td>\n",
       "      <td>40.638214</td>\n",
       "      <td>b_8006367|-78|false;b_2485110|-52|false;b_3005...</td>\n",
       "      <td>13.166667</td>\n",
       "      <td>13</td>\n",
       "      <td>2</td>\n",
       "      <td>[[b_2485110, -52], [b_33503892, -56], [b_35013...</td>\n",
       "      <td>m_4079</td>\n",
       "      <td>c_30</td>\n",
       "      <td>40</td>\n",
       "      <td>2</td>\n",
       "    </tr>\n",
       "    <tr>\n",
       "      <th>3</th>\n",
       "      <td>u_1158</td>\n",
       "      <td>s_609470</td>\n",
       "      <td>2017-08-13 12:30</td>\n",
       "      <td>121.134451</td>\n",
       "      <td>31.197416</td>\n",
       "      <td>b_26250579|-73|false;b_26250580|-64|false;b_26...</td>\n",
       "      <td>12.500000</td>\n",
       "      <td>12</td>\n",
       "      <td>6</td>\n",
       "      <td>[[b_30424471, -60], [b_26250580, -64], [b_2625...</td>\n",
       "      <td>m_6587</td>\n",
       "      <td>c_27</td>\n",
       "      <td>49</td>\n",
       "      <td>3</td>\n",
       "    </tr>\n",
       "    <tr>\n",
       "      <th>4</th>\n",
       "      <td>u_1654</td>\n",
       "      <td>s_3816766</td>\n",
       "      <td>2017-08-25 19:50</td>\n",
       "      <td>122.255867</td>\n",
       "      <td>31.351320</td>\n",
       "      <td>b_39004150|-66|false;b_39004148|-58|false;b_21...</td>\n",
       "      <td>19.833333</td>\n",
       "      <td>19</td>\n",
       "      <td>4</td>\n",
       "      <td>[[b_39004148, -58], [b_39004150, -66], [b_1845...</td>\n",
       "      <td>m_3005</td>\n",
       "      <td>c_6</td>\n",
       "      <td>62</td>\n",
       "      <td>4</td>\n",
       "    </tr>\n",
       "  </tbody>\n",
       "</table>\n",
       "</div>"
      ],
      "text/plain": [
       "  user_id    shop_id        time_stamp   longitude   latitude  \\\n",
       "0   u_376  s_2871718  2017-08-06 21:20  122.308291  32.088040   \n",
       "1   u_376  s_2871718  2017-08-06 21:20  122.308162  32.087970   \n",
       "2  u_1041   s_181637  2017-08-02 13:10  117.365255  40.638214   \n",
       "3  u_1158   s_609470  2017-08-13 12:30  121.134451  31.197416   \n",
       "4  u_1654  s_3816766  2017-08-25 19:50  122.255867  31.351320   \n",
       "\n",
       "                                          wifi_infos       time  hour  wday  \\\n",
       "0  b_6396480|-67|false;b_41124514|-86|false;b_287...  21.333333    21     6   \n",
       "1  b_6396480|-67|false;b_56328155|-73|false;b_411...  21.333333    21     6   \n",
       "2  b_8006367|-78|false;b_2485110|-52|false;b_3005...  13.166667    13     2   \n",
       "3  b_26250579|-73|false;b_26250580|-64|false;b_26...  12.500000    12     6   \n",
       "4  b_39004150|-66|false;b_39004148|-58|false;b_21...  19.833333    19     4   \n",
       "\n",
       "                                     wifi_sorted_max mall_id category_id  \\\n",
       "0  [[b_6396479, -55], [b_5857369, -55], [b_639648...  m_1409        c_38   \n",
       "1  [[b_6396479, -57], [b_5857369, -57], [b_639648...  m_1409        c_38   \n",
       "2  [[b_2485110, -52], [b_33503892, -56], [b_35013...  m_4079        c_30   \n",
       "3  [[b_30424471, -60], [b_26250580, -64], [b_2625...  m_6587        c_27   \n",
       "4  [[b_39004148, -58], [b_39004150, -66], [b_1845...  m_3005         c_6   \n",
       "\n",
       "   price  row_id  \n",
       "0     42       0  \n",
       "1     42       1  \n",
       "2     40       2  \n",
       "3     49       3  \n",
       "4     62       4  "
      ]
     },
     "execution_count": 6,
     "metadata": {},
     "output_type": "execute_result"
    }
   ],
   "source": [
    "x_train.head()"
   ]
  },
  {
   "cell_type": "markdown",
   "metadata": {},
   "source": [
    "## EDA"
   ]
  },
  {
   "cell_type": "code",
   "execution_count": 37,
   "metadata": {},
   "outputs": [
    {
     "name": "stdout",
     "output_type": "stream",
     "text": [
      "训练集中单条记录最多有20条wi-fi信息\n",
      "测试集中单条记录最多有10条wi-fi信息\n"
     ]
    }
   ],
   "source": [
    "print('训练集中单条记录最多有{}条wi-fi信息'.format(train_df.wifi_infos.apply(lambda x:len(x.split(';'))).max()))\n",
    "print('测试集中单条记录最多有{}条wi-fi信息'.format(test_df.wifi_infos.apply(lambda x:len(x.split(';'))).max()))"
   ]
  },
  {
   "cell_type": "code",
   "execution_count": 7,
   "metadata": {
    "collapsed": true
   },
   "outputs": [],
   "source": [
    "# 计算两点之间距离\n",
    "def cal_distance(lat1, lon1, lat2, lon2):\n",
    "    dx = np.abs(lon1 - lon2)  # 经度差\n",
    "    dy = np.abs(lat1 - lat2)  # 维度差\n",
    "    b = (lat1 + lat2) / 2.0\n",
    "    Lx = 6371004.0 * (dx / 57.2958) * np.cos(b / 57.2958)\n",
    "    Ly = 6371004.0 * (dy / 57.2958)\n",
    "    L = (Lx ** 2 + Ly ** 2) ** 0.5\n",
    "    return L"
   ]
  },
  {
   "cell_type": "code",
   "execution_count": 14,
   "metadata": {
    "collapsed": true
   },
   "outputs": [
    {
     "ename": "KeyError",
     "evalue": "'latitude_x'",
     "output_type": "error",
     "traceback": [
      "\u001b[0;31m---------------------------------------------------------------------------\u001b[0m",
      "\u001b[0;31mKeyError\u001b[0m                                  Traceback (most recent call last)",
      "\u001b[0;32m/usr/local/lib/python3.6/site-packages/pandas/indexes/base.py\u001b[0m in \u001b[0;36mget_loc\u001b[0;34m(self, key, method, tolerance)\u001b[0m\n\u001b[1;32m   2133\u001b[0m             \u001b[0;32mtry\u001b[0m\u001b[0;34m:\u001b[0m\u001b[0;34m\u001b[0m\u001b[0m\n\u001b[0;32m-> 2134\u001b[0;31m                 \u001b[0;32mreturn\u001b[0m \u001b[0mself\u001b[0m\u001b[0;34m.\u001b[0m\u001b[0m_engine\u001b[0m\u001b[0;34m.\u001b[0m\u001b[0mget_loc\u001b[0m\u001b[0;34m(\u001b[0m\u001b[0mkey\u001b[0m\u001b[0;34m)\u001b[0m\u001b[0;34m\u001b[0m\u001b[0m\n\u001b[0m\u001b[1;32m   2135\u001b[0m             \u001b[0;32mexcept\u001b[0m \u001b[0mKeyError\u001b[0m\u001b[0;34m:\u001b[0m\u001b[0;34m\u001b[0m\u001b[0m\n",
      "\u001b[0;32mpandas/index.pyx\u001b[0m in \u001b[0;36mpandas.index.IndexEngine.get_loc (pandas/index.c:4433)\u001b[0;34m()\u001b[0m\n",
      "\u001b[0;32mpandas/index.pyx\u001b[0m in \u001b[0;36mpandas.index.IndexEngine.get_loc (pandas/index.c:4279)\u001b[0;34m()\u001b[0m\n",
      "\u001b[0;32mpandas/src/hashtable_class_helper.pxi\u001b[0m in \u001b[0;36mpandas.hashtable.PyObjectHashTable.get_item (pandas/hashtable.c:13742)\u001b[0;34m()\u001b[0m\n",
      "\u001b[0;32mpandas/src/hashtable_class_helper.pxi\u001b[0m in \u001b[0;36mpandas.hashtable.PyObjectHashTable.get_item (pandas/hashtable.c:13696)\u001b[0;34m()\u001b[0m\n",
      "\u001b[0;31mKeyError\u001b[0m: 'latitude_x'",
      "\nDuring handling of the above exception, another exception occurred:\n",
      "\u001b[0;31mKeyError\u001b[0m                                  Traceback (most recent call last)",
      "\u001b[0;32m<ipython-input-14-57955ba16190>\u001b[0m in \u001b[0;36m<module>\u001b[0;34m()\u001b[0m\n\u001b[1;32m      1\u001b[0m \u001b[0;31m# 计算手机的定位结果和店铺的坐标的偏差值\u001b[0m\u001b[0;34m\u001b[0m\u001b[0;34m\u001b[0m\u001b[0m\n\u001b[0;32m----> 2\u001b[0;31m \u001b[0mdiff_dis\u001b[0m\u001b[0;34m=\u001b[0m\u001b[0mcal_distance\u001b[0m\u001b[0;34m(\u001b[0m\u001b[0mtrain_df\u001b[0m\u001b[0;34m[\u001b[0m\u001b[0;34m'latitude_x'\u001b[0m\u001b[0;34m]\u001b[0m\u001b[0;34m,\u001b[0m\u001b[0mtrain_df\u001b[0m\u001b[0;34m[\u001b[0m\u001b[0;34m'longitude_x'\u001b[0m\u001b[0;34m]\u001b[0m\u001b[0;34m,\u001b[0m\u001b[0mtrain_df\u001b[0m\u001b[0;34m[\u001b[0m\u001b[0;34m'latitude_y'\u001b[0m\u001b[0;34m]\u001b[0m\u001b[0;34m,\u001b[0m\u001b[0mtrain_df\u001b[0m\u001b[0;34m[\u001b[0m\u001b[0;34m'longitude_y'\u001b[0m\u001b[0;34m]\u001b[0m\u001b[0;34m)\u001b[0m\u001b[0;34m\u001b[0m\u001b[0m\n\u001b[0m\u001b[1;32m      3\u001b[0m \u001b[0mdiff_dis\u001b[0m\u001b[0;34m.\u001b[0m\u001b[0mdescribe\u001b[0m\u001b[0;34m(\u001b[0m\u001b[0;34m)\u001b[0m\u001b[0;34m\u001b[0m\u001b[0m\n\u001b[1;32m      4\u001b[0m \u001b[0;31m# 大多数情况下手机定位误差并不大（最多几十米的范围），不过也存在很多严重漂移的情况\u001b[0m\u001b[0;34m\u001b[0m\u001b[0;34m\u001b[0m\u001b[0m\n",
      "\u001b[0;32m/usr/local/lib/python3.6/site-packages/pandas/core/frame.py\u001b[0m in \u001b[0;36m__getitem__\u001b[0;34m(self, key)\u001b[0m\n\u001b[1;32m   2057\u001b[0m             \u001b[0;32mreturn\u001b[0m \u001b[0mself\u001b[0m\u001b[0;34m.\u001b[0m\u001b[0m_getitem_multilevel\u001b[0m\u001b[0;34m(\u001b[0m\u001b[0mkey\u001b[0m\u001b[0;34m)\u001b[0m\u001b[0;34m\u001b[0m\u001b[0m\n\u001b[1;32m   2058\u001b[0m         \u001b[0;32melse\u001b[0m\u001b[0;34m:\u001b[0m\u001b[0;34m\u001b[0m\u001b[0m\n\u001b[0;32m-> 2059\u001b[0;31m             \u001b[0;32mreturn\u001b[0m \u001b[0mself\u001b[0m\u001b[0;34m.\u001b[0m\u001b[0m_getitem_column\u001b[0m\u001b[0;34m(\u001b[0m\u001b[0mkey\u001b[0m\u001b[0;34m)\u001b[0m\u001b[0;34m\u001b[0m\u001b[0m\n\u001b[0m\u001b[1;32m   2060\u001b[0m \u001b[0;34m\u001b[0m\u001b[0m\n\u001b[1;32m   2061\u001b[0m     \u001b[0;32mdef\u001b[0m \u001b[0m_getitem_column\u001b[0m\u001b[0;34m(\u001b[0m\u001b[0mself\u001b[0m\u001b[0;34m,\u001b[0m \u001b[0mkey\u001b[0m\u001b[0;34m)\u001b[0m\u001b[0;34m:\u001b[0m\u001b[0;34m\u001b[0m\u001b[0m\n",
      "\u001b[0;32m/usr/local/lib/python3.6/site-packages/pandas/core/frame.py\u001b[0m in \u001b[0;36m_getitem_column\u001b[0;34m(self, key)\u001b[0m\n\u001b[1;32m   2064\u001b[0m         \u001b[0;31m# get column\u001b[0m\u001b[0;34m\u001b[0m\u001b[0;34m\u001b[0m\u001b[0m\n\u001b[1;32m   2065\u001b[0m         \u001b[0;32mif\u001b[0m \u001b[0mself\u001b[0m\u001b[0;34m.\u001b[0m\u001b[0mcolumns\u001b[0m\u001b[0;34m.\u001b[0m\u001b[0mis_unique\u001b[0m\u001b[0;34m:\u001b[0m\u001b[0;34m\u001b[0m\u001b[0m\n\u001b[0;32m-> 2066\u001b[0;31m             \u001b[0;32mreturn\u001b[0m \u001b[0mself\u001b[0m\u001b[0;34m.\u001b[0m\u001b[0m_get_item_cache\u001b[0m\u001b[0;34m(\u001b[0m\u001b[0mkey\u001b[0m\u001b[0;34m)\u001b[0m\u001b[0;34m\u001b[0m\u001b[0m\n\u001b[0m\u001b[1;32m   2067\u001b[0m \u001b[0;34m\u001b[0m\u001b[0m\n\u001b[1;32m   2068\u001b[0m         \u001b[0;31m# duplicate columns & possible reduce dimensionality\u001b[0m\u001b[0;34m\u001b[0m\u001b[0;34m\u001b[0m\u001b[0m\n",
      "\u001b[0;32m/usr/local/lib/python3.6/site-packages/pandas/core/generic.py\u001b[0m in \u001b[0;36m_get_item_cache\u001b[0;34m(self, item)\u001b[0m\n\u001b[1;32m   1384\u001b[0m         \u001b[0mres\u001b[0m \u001b[0;34m=\u001b[0m \u001b[0mcache\u001b[0m\u001b[0;34m.\u001b[0m\u001b[0mget\u001b[0m\u001b[0;34m(\u001b[0m\u001b[0mitem\u001b[0m\u001b[0;34m)\u001b[0m\u001b[0;34m\u001b[0m\u001b[0m\n\u001b[1;32m   1385\u001b[0m         \u001b[0;32mif\u001b[0m \u001b[0mres\u001b[0m \u001b[0;32mis\u001b[0m \u001b[0;32mNone\u001b[0m\u001b[0;34m:\u001b[0m\u001b[0;34m\u001b[0m\u001b[0m\n\u001b[0;32m-> 1386\u001b[0;31m             \u001b[0mvalues\u001b[0m \u001b[0;34m=\u001b[0m \u001b[0mself\u001b[0m\u001b[0;34m.\u001b[0m\u001b[0m_data\u001b[0m\u001b[0;34m.\u001b[0m\u001b[0mget\u001b[0m\u001b[0;34m(\u001b[0m\u001b[0mitem\u001b[0m\u001b[0;34m)\u001b[0m\u001b[0;34m\u001b[0m\u001b[0m\n\u001b[0m\u001b[1;32m   1387\u001b[0m             \u001b[0mres\u001b[0m \u001b[0;34m=\u001b[0m \u001b[0mself\u001b[0m\u001b[0;34m.\u001b[0m\u001b[0m_box_item_values\u001b[0m\u001b[0;34m(\u001b[0m\u001b[0mitem\u001b[0m\u001b[0;34m,\u001b[0m \u001b[0mvalues\u001b[0m\u001b[0;34m)\u001b[0m\u001b[0;34m\u001b[0m\u001b[0m\n\u001b[1;32m   1388\u001b[0m             \u001b[0mcache\u001b[0m\u001b[0;34m[\u001b[0m\u001b[0mitem\u001b[0m\u001b[0;34m]\u001b[0m \u001b[0;34m=\u001b[0m \u001b[0mres\u001b[0m\u001b[0;34m\u001b[0m\u001b[0m\n",
      "\u001b[0;32m/usr/local/lib/python3.6/site-packages/pandas/core/internals.py\u001b[0m in \u001b[0;36mget\u001b[0;34m(self, item, fastpath)\u001b[0m\n\u001b[1;32m   3541\u001b[0m \u001b[0;34m\u001b[0m\u001b[0m\n\u001b[1;32m   3542\u001b[0m             \u001b[0;32mif\u001b[0m \u001b[0;32mnot\u001b[0m \u001b[0misnull\u001b[0m\u001b[0;34m(\u001b[0m\u001b[0mitem\u001b[0m\u001b[0;34m)\u001b[0m\u001b[0;34m:\u001b[0m\u001b[0;34m\u001b[0m\u001b[0m\n\u001b[0;32m-> 3543\u001b[0;31m                 \u001b[0mloc\u001b[0m \u001b[0;34m=\u001b[0m \u001b[0mself\u001b[0m\u001b[0;34m.\u001b[0m\u001b[0mitems\u001b[0m\u001b[0;34m.\u001b[0m\u001b[0mget_loc\u001b[0m\u001b[0;34m(\u001b[0m\u001b[0mitem\u001b[0m\u001b[0;34m)\u001b[0m\u001b[0;34m\u001b[0m\u001b[0m\n\u001b[0m\u001b[1;32m   3544\u001b[0m             \u001b[0;32melse\u001b[0m\u001b[0;34m:\u001b[0m\u001b[0;34m\u001b[0m\u001b[0m\n\u001b[1;32m   3545\u001b[0m                 \u001b[0mindexer\u001b[0m \u001b[0;34m=\u001b[0m \u001b[0mnp\u001b[0m\u001b[0;34m.\u001b[0m\u001b[0marange\u001b[0m\u001b[0;34m(\u001b[0m\u001b[0mlen\u001b[0m\u001b[0;34m(\u001b[0m\u001b[0mself\u001b[0m\u001b[0;34m.\u001b[0m\u001b[0mitems\u001b[0m\u001b[0;34m)\u001b[0m\u001b[0;34m)\u001b[0m\u001b[0;34m[\u001b[0m\u001b[0misnull\u001b[0m\u001b[0;34m(\u001b[0m\u001b[0mself\u001b[0m\u001b[0;34m.\u001b[0m\u001b[0mitems\u001b[0m\u001b[0;34m)\u001b[0m\u001b[0;34m]\u001b[0m\u001b[0;34m\u001b[0m\u001b[0m\n",
      "\u001b[0;32m/usr/local/lib/python3.6/site-packages/pandas/indexes/base.py\u001b[0m in \u001b[0;36mget_loc\u001b[0;34m(self, key, method, tolerance)\u001b[0m\n\u001b[1;32m   2134\u001b[0m                 \u001b[0;32mreturn\u001b[0m \u001b[0mself\u001b[0m\u001b[0;34m.\u001b[0m\u001b[0m_engine\u001b[0m\u001b[0;34m.\u001b[0m\u001b[0mget_loc\u001b[0m\u001b[0;34m(\u001b[0m\u001b[0mkey\u001b[0m\u001b[0;34m)\u001b[0m\u001b[0;34m\u001b[0m\u001b[0m\n\u001b[1;32m   2135\u001b[0m             \u001b[0;32mexcept\u001b[0m \u001b[0mKeyError\u001b[0m\u001b[0;34m:\u001b[0m\u001b[0;34m\u001b[0m\u001b[0m\n\u001b[0;32m-> 2136\u001b[0;31m                 \u001b[0;32mreturn\u001b[0m \u001b[0mself\u001b[0m\u001b[0;34m.\u001b[0m\u001b[0m_engine\u001b[0m\u001b[0;34m.\u001b[0m\u001b[0mget_loc\u001b[0m\u001b[0;34m(\u001b[0m\u001b[0mself\u001b[0m\u001b[0;34m.\u001b[0m\u001b[0m_maybe_cast_indexer\u001b[0m\u001b[0;34m(\u001b[0m\u001b[0mkey\u001b[0m\u001b[0;34m)\u001b[0m\u001b[0;34m)\u001b[0m\u001b[0;34m\u001b[0m\u001b[0m\n\u001b[0m\u001b[1;32m   2137\u001b[0m \u001b[0;34m\u001b[0m\u001b[0m\n\u001b[1;32m   2138\u001b[0m         \u001b[0mindexer\u001b[0m \u001b[0;34m=\u001b[0m \u001b[0mself\u001b[0m\u001b[0;34m.\u001b[0m\u001b[0mget_indexer\u001b[0m\u001b[0;34m(\u001b[0m\u001b[0;34m[\u001b[0m\u001b[0mkey\u001b[0m\u001b[0;34m]\u001b[0m\u001b[0;34m,\u001b[0m \u001b[0mmethod\u001b[0m\u001b[0;34m=\u001b[0m\u001b[0mmethod\u001b[0m\u001b[0;34m,\u001b[0m \u001b[0mtolerance\u001b[0m\u001b[0;34m=\u001b[0m\u001b[0mtolerance\u001b[0m\u001b[0;34m)\u001b[0m\u001b[0;34m\u001b[0m\u001b[0m\n",
      "\u001b[0;32mpandas/index.pyx\u001b[0m in \u001b[0;36mpandas.index.IndexEngine.get_loc (pandas/index.c:4433)\u001b[0;34m()\u001b[0m\n",
      "\u001b[0;32mpandas/index.pyx\u001b[0m in \u001b[0;36mpandas.index.IndexEngine.get_loc (pandas/index.c:4279)\u001b[0;34m()\u001b[0m\n",
      "\u001b[0;32mpandas/src/hashtable_class_helper.pxi\u001b[0m in \u001b[0;36mpandas.hashtable.PyObjectHashTable.get_item (pandas/hashtable.c:13742)\u001b[0;34m()\u001b[0m\n",
      "\u001b[0;32mpandas/src/hashtable_class_helper.pxi\u001b[0m in \u001b[0;36mpandas.hashtable.PyObjectHashTable.get_item (pandas/hashtable.c:13696)\u001b[0;34m()\u001b[0m\n",
      "\u001b[0;31mKeyError\u001b[0m: 'latitude_x'"
     ]
    }
   ],
   "source": [
    "# 计算手机的定位结果和店铺的坐标的偏差值\n",
    "diff_dis=cal_distance(train_df['latitude_x'],train_df['longitude_x'],train_df['latitude_y'],train_df['longitude_y'])\n",
    "diff_dis.describe()\n",
    "# 大多数情况下手机定位误差并不大（最多几十米的范围），不过也存在很多严重漂移的情况"
   ]
  },
  {
   "cell_type": "code",
   "execution_count": 9,
   "metadata": {},
   "outputs": [
    {
     "name": "stderr",
     "output_type": "stream",
     "text": [
      "100%|██████████| 1138015/1138015 [00:01<00:00, 605226.24it/s]\n"
     ]
    },
    {
     "data": {
      "text/plain": [
       "<matplotlib.axes._subplots.AxesSubplot at 0x7f543d2fe080>"
      ]
     },
     "execution_count": 9,
     "metadata": {},
     "output_type": "execute_result"
    },
    {
     "data": {
      "image/png": "[encoded data removed]",
      "text/plain": [
       "<matplotlib.figure.Figure at 0x7f5402a7f7f0>"
      ]
     },
     "metadata": {
      "image/png": {
       "height": 250,
       "width": 352
      }
     },
     "output_type": "display_data"
    }
   ],
   "source": [
    "# 训练集wifi强度\n",
    "wifi_strength=[]\n",
    "for i in tqdm(train_df.wifi_sorted_max):\n",
    "    wifi_strength+=[j[1] for j in i]\n",
    "sns.boxplot(pd.Series(wifi_strength))"
   ]
  },
  {
   "cell_type": "markdown",
   "metadata": {},
   "source": [
    "## 构造候选shop_id集"
   ]
  },
  {
   "cell_type": "code",
   "execution_count": 8,
   "metadata": {
    "collapsed": true
   },
   "outputs": [
    {
     "name": "stdout",
     "output_type": "stream",
     "text": [
      "构造训练候选集...\n",
      "加入geohash定位点附近商铺...\n"
     ]
    },
    {
     "ename": "KeyError",
     "evalue": "\"['geohash_9'] not in index\"",
     "output_type": "error",
     "traceback": [
      "\u001b[0;31m---------------------------------------------------------------------------\u001b[0m",
      "\u001b[0;31mKeyError\u001b[0m                                  Traceback (most recent call last)",
      "\u001b[0;32m<ipython-input-8-d04c1f1edc9c>\u001b[0m in \u001b[0;36m<module>\u001b[0;34m()\u001b[0m\n\u001b[1;32m     89\u001b[0m \u001b[0;34m\u001b[0m\u001b[0m\n\u001b[1;32m     90\u001b[0m \u001b[0mprint\u001b[0m\u001b[0;34m(\u001b[0m\u001b[0;34m'构造训练候选集...'\u001b[0m\u001b[0;34m)\u001b[0m\u001b[0;34m\u001b[0m\u001b[0m\n\u001b[0;32m---> 91\u001b[0;31m \u001b[0mtrain_candidate\u001b[0m\u001b[0;34m=\u001b[0m\u001b[0mmake_candidate_shops\u001b[0m\u001b[0;34m(\u001b[0m\u001b[0mx_train\u001b[0m\u001b[0;34m,\u001b[0m\u001b[0mx_train\u001b[0m\u001b[0;34m,\u001b[0m\u001b[0mtrain_shop_wifi\u001b[0m\u001b[0;34m,\u001b[0m\u001b[0;34m'geohash_9'\u001b[0m\u001b[0;34m)\u001b[0m\u001b[0;34m\u001b[0m\u001b[0m\n\u001b[0m\u001b[1;32m     92\u001b[0m \u001b[0mtrain_candidate\u001b[0m\u001b[0;34m=\u001b[0m\u001b[0mpd\u001b[0m\u001b[0;34m.\u001b[0m\u001b[0mconcat\u001b[0m\u001b[0;34m(\u001b[0m\u001b[0;34m(\u001b[0m\u001b[0mtrain_candidate\u001b[0m\u001b[0;34m,\u001b[0m\u001b[0mx_train\u001b[0m\u001b[0;34m[\u001b[0m\u001b[0;34m[\u001b[0m\u001b[0;34m'row_id'\u001b[0m\u001b[0;34m,\u001b[0m\u001b[0;34m'shop_id'\u001b[0m\u001b[0;34m]\u001b[0m\u001b[0;34m]\u001b[0m\u001b[0;34m)\u001b[0m\u001b[0;34m)\u001b[0m\u001b[0;34m.\u001b[0m\u001b[0mdrop_duplicates\u001b[0m\u001b[0;34m(\u001b[0m\u001b[0;34m)\u001b[0m\u001b[0;34m\u001b[0m\u001b[0m\n\u001b[1;32m     93\u001b[0m \u001b[0mprint\u001b[0m\u001b[0;34m(\u001b[0m\u001b[0;34m'构造测试候选集...'\u001b[0m\u001b[0;34m)\u001b[0m\u001b[0;34m\u001b[0m\u001b[0m\n",
      "\u001b[0;32m<ipython-input-8-d04c1f1edc9c>\u001b[0m in \u001b[0;36mmake_candidate_shops\u001b[0;34m(train, test, shop_wifi, geo_col)\u001b[0m\n\u001b[1;32m     74\u001b[0m         \u001b[0mtest\u001b[0m\u001b[0;34m[\u001b[0m\u001b[0;34m'row_id'\u001b[0m\u001b[0;34m]\u001b[0m\u001b[0;34m=\u001b[0m\u001b[0mtest\u001b[0m\u001b[0;34m.\u001b[0m\u001b[0mindex\u001b[0m\u001b[0;34m\u001b[0m\u001b[0m\n\u001b[1;32m     75\u001b[0m     \u001b[0;31m# 构造候选shop_id集\u001b[0m\u001b[0;34m\u001b[0m\u001b[0;34m\u001b[0m\u001b[0m\n\u001b[0;32m---> 76\u001b[0;31m     \u001b[0mnearby_shops_by_geo\u001b[0m\u001b[0;34m=\u001b[0m\u001b[0mget_nearby_shops_by_geo\u001b[0m\u001b[0;34m(\u001b[0m\u001b[0mtrain\u001b[0m\u001b[0;34m,\u001b[0m\u001b[0mtest\u001b[0m\u001b[0;34m,\u001b[0m\u001b[0mgeo_col\u001b[0m\u001b[0;34m)\u001b[0m\u001b[0;34m\u001b[0m\u001b[0m\n\u001b[0m\u001b[1;32m     77\u001b[0m     \u001b[0mnearby_shops_by_wifi\u001b[0m\u001b[0;34m=\u001b[0m\u001b[0mget_nearby_shops_by_wifi\u001b[0m\u001b[0;34m(\u001b[0m\u001b[0mtest\u001b[0m\u001b[0;34m,\u001b[0m\u001b[0mshop_wifi\u001b[0m\u001b[0;34m)\u001b[0m\u001b[0;34m\u001b[0m\u001b[0m\n\u001b[1;32m     78\u001b[0m \u001b[0;31m#     shops_by_mall_wifi=get_shops_by_mall_wifi(test,shop_wifi)\u001b[0m\u001b[0;34m\u001b[0m\u001b[0;34m\u001b[0m\u001b[0m\n",
      "\u001b[0;32m<ipython-input-8-d04c1f1edc9c>\u001b[0m in \u001b[0;36mget_nearby_shops_by_geo\u001b[0;34m(train, test, geo_col)\u001b[0m\n\u001b[1;32m     10\u001b[0m         \u001b[0mresult\u001b[0m\u001b[0;34m=\u001b[0m\u001b[0mpd\u001b[0m\u001b[0;34m.\u001b[0m\u001b[0mread_hdf\u001b[0m\u001b[0;34m(\u001b[0m\u001b[0mcache_path\u001b[0m\u001b[0;34m,\u001b[0m\u001b[0;34m'data'\u001b[0m\u001b[0;34m)\u001b[0m\u001b[0;34m\u001b[0m\u001b[0m\n\u001b[1;32m     11\u001b[0m     \u001b[0;32melse\u001b[0m\u001b[0;34m:\u001b[0m\u001b[0;34m\u001b[0m\u001b[0m\n\u001b[0;32m---> 12\u001b[0;31m         \u001b[0mshop_locs\u001b[0m\u001b[0;34m=\u001b[0m\u001b[0mtrain\u001b[0m\u001b[0;34m[\u001b[0m\u001b[0;34m[\u001b[0m\u001b[0;34m'mall_id'\u001b[0m\u001b[0;34m,\u001b[0m\u001b[0mgeo_col\u001b[0m\u001b[0;34m,\u001b[0m\u001b[0;34m'shop_id'\u001b[0m\u001b[0;34m]\u001b[0m\u001b[0;34m]\u001b[0m\u001b[0;34m.\u001b[0m\u001b[0mdrop_duplicates\u001b[0m\u001b[0;34m(\u001b[0m\u001b[0;34m)\u001b[0m \u001b[0;31m# 减少匹配次数\u001b[0m\u001b[0;34m\u001b[0m\u001b[0m\n\u001b[0m\u001b[1;32m     13\u001b[0m         \u001b[0mresult\u001b[0m\u001b[0;34m=\u001b[0m\u001b[0mpd\u001b[0m\u001b[0;34m.\u001b[0m\u001b[0mmerge\u001b[0m\u001b[0;34m(\u001b[0m\u001b[0mtest\u001b[0m\u001b[0;34m[\u001b[0m\u001b[0;34m[\u001b[0m\u001b[0;34m'row_id'\u001b[0m\u001b[0;34m,\u001b[0m\u001b[0;34m'mall_id'\u001b[0m\u001b[0;34m,\u001b[0m\u001b[0mgeo_col\u001b[0m\u001b[0;34m]\u001b[0m\u001b[0;34m]\u001b[0m\u001b[0;34m,\u001b[0m\u001b[0mshop_locs\u001b[0m\u001b[0;34m,\u001b[0m\u001b[0mon\u001b[0m\u001b[0;34m=\u001b[0m\u001b[0;34m[\u001b[0m\u001b[0;34m'mall_id'\u001b[0m\u001b[0;34m,\u001b[0m\u001b[0mgeo_col\u001b[0m\u001b[0;34m]\u001b[0m\u001b[0;34m,\u001b[0m\u001b[0mhow\u001b[0m\u001b[0;34m=\u001b[0m\u001b[0;34m'left'\u001b[0m\u001b[0;34m)\u001b[0m\u001b[0;34m\u001b[0m\u001b[0m\n\u001b[1;32m     14\u001b[0m         \u001b[0mresult\u001b[0m\u001b[0;34m=\u001b[0m\u001b[0mresult\u001b[0m\u001b[0;34m[\u001b[0m\u001b[0;34m[\u001b[0m\u001b[0;34m'row_id'\u001b[0m\u001b[0;34m,\u001b[0m\u001b[0;34m'shop_id'\u001b[0m\u001b[0;34m]\u001b[0m\u001b[0;34m]\u001b[0m\u001b[0;34m\u001b[0m\u001b[0m\n",
      "\u001b[0;32m/usr/local/lib/python3.4/dist-packages/pandas/core/frame.py\u001b[0m in \u001b[0;36m__getitem__\u001b[0;34m(self, key)\u001b[0m\n\u001b[1;32m   1956\u001b[0m         \u001b[0;32mif\u001b[0m \u001b[0misinstance\u001b[0m\u001b[0;34m(\u001b[0m\u001b[0mkey\u001b[0m\u001b[0;34m,\u001b[0m \u001b[0;34m(\u001b[0m\u001b[0mSeries\u001b[0m\u001b[0;34m,\u001b[0m \u001b[0mnp\u001b[0m\u001b[0;34m.\u001b[0m\u001b[0mndarray\u001b[0m\u001b[0;34m,\u001b[0m \u001b[0mIndex\u001b[0m\u001b[0;34m,\u001b[0m \u001b[0mlist\u001b[0m\u001b[0;34m)\u001b[0m\u001b[0;34m)\u001b[0m\u001b[0;34m:\u001b[0m\u001b[0;34m\u001b[0m\u001b[0m\n\u001b[1;32m   1957\u001b[0m             \u001b[0;31m# either boolean or fancy integer index\u001b[0m\u001b[0;34m\u001b[0m\u001b[0;34m\u001b[0m\u001b[0m\n\u001b[0;32m-> 1958\u001b[0;31m             \u001b[0;32mreturn\u001b[0m \u001b[0mself\u001b[0m\u001b[0;34m.\u001b[0m\u001b[0m_getitem_array\u001b[0m\u001b[0;34m(\u001b[0m\u001b[0mkey\u001b[0m\u001b[0;34m)\u001b[0m\u001b[0;34m\u001b[0m\u001b[0m\n\u001b[0m\u001b[1;32m   1959\u001b[0m         \u001b[0;32melif\u001b[0m \u001b[0misinstance\u001b[0m\u001b[0;34m(\u001b[0m\u001b[0mkey\u001b[0m\u001b[0;34m,\u001b[0m \u001b[0mDataFrame\u001b[0m\u001b[0;34m)\u001b[0m\u001b[0;34m:\u001b[0m\u001b[0;34m\u001b[0m\u001b[0m\n\u001b[1;32m   1960\u001b[0m             \u001b[0;32mreturn\u001b[0m \u001b[0mself\u001b[0m\u001b[0;34m.\u001b[0m\u001b[0m_getitem_frame\u001b[0m\u001b[0;34m(\u001b[0m\u001b[0mkey\u001b[0m\u001b[0;34m)\u001b[0m\u001b[0;34m\u001b[0m\u001b[0m\n",
      "\u001b[0;32m/usr/local/lib/python3.4/dist-packages/pandas/core/frame.py\u001b[0m in \u001b[0;36m_getitem_array\u001b[0;34m(self, key)\u001b[0m\n\u001b[1;32m   2000\u001b[0m             \u001b[0;32mreturn\u001b[0m \u001b[0mself\u001b[0m\u001b[0;34m.\u001b[0m\u001b[0mtake\u001b[0m\u001b[0;34m(\u001b[0m\u001b[0mindexer\u001b[0m\u001b[0;34m,\u001b[0m \u001b[0maxis\u001b[0m\u001b[0;34m=\u001b[0m\u001b[0;36m0\u001b[0m\u001b[0;34m,\u001b[0m \u001b[0mconvert\u001b[0m\u001b[0;34m=\u001b[0m\u001b[0;32mFalse\u001b[0m\u001b[0;34m)\u001b[0m\u001b[0;34m\u001b[0m\u001b[0m\n\u001b[1;32m   2001\u001b[0m         \u001b[0;32melse\u001b[0m\u001b[0;34m:\u001b[0m\u001b[0;34m\u001b[0m\u001b[0m\n\u001b[0;32m-> 2002\u001b[0;31m             \u001b[0mindexer\u001b[0m \u001b[0;34m=\u001b[0m \u001b[0mself\u001b[0m\u001b[0;34m.\u001b[0m\u001b[0mloc\u001b[0m\u001b[0;34m.\u001b[0m\u001b[0m_convert_to_indexer\u001b[0m\u001b[0;34m(\u001b[0m\u001b[0mkey\u001b[0m\u001b[0;34m,\u001b[0m \u001b[0maxis\u001b[0m\u001b[0;34m=\u001b[0m\u001b[0;36m1\u001b[0m\u001b[0;34m)\u001b[0m\u001b[0;34m\u001b[0m\u001b[0m\n\u001b[0m\u001b[1;32m   2003\u001b[0m             \u001b[0;32mreturn\u001b[0m \u001b[0mself\u001b[0m\u001b[0;34m.\u001b[0m\u001b[0mtake\u001b[0m\u001b[0;34m(\u001b[0m\u001b[0mindexer\u001b[0m\u001b[0;34m,\u001b[0m \u001b[0maxis\u001b[0m\u001b[0;34m=\u001b[0m\u001b[0;36m1\u001b[0m\u001b[0;34m,\u001b[0m \u001b[0mconvert\u001b[0m\u001b[0;34m=\u001b[0m\u001b[0;32mTrue\u001b[0m\u001b[0;34m)\u001b[0m\u001b[0;34m\u001b[0m\u001b[0m\n\u001b[1;32m   2004\u001b[0m \u001b[0;34m\u001b[0m\u001b[0m\n",
      "\u001b[0;32m/usr/local/lib/python3.4/dist-packages/pandas/core/indexing.py\u001b[0m in \u001b[0;36m_convert_to_indexer\u001b[0;34m(self, obj, axis, is_setter)\u001b[0m\n\u001b[1;32m   1229\u001b[0m                 \u001b[0mmask\u001b[0m \u001b[0;34m=\u001b[0m \u001b[0mcheck\u001b[0m \u001b[0;34m==\u001b[0m \u001b[0;34m-\u001b[0m\u001b[0;36m1\u001b[0m\u001b[0;34m\u001b[0m\u001b[0m\n\u001b[1;32m   1230\u001b[0m                 \u001b[0;32mif\u001b[0m \u001b[0mmask\u001b[0m\u001b[0;34m.\u001b[0m\u001b[0many\u001b[0m\u001b[0;34m(\u001b[0m\u001b[0;34m)\u001b[0m\u001b[0;34m:\u001b[0m\u001b[0;34m\u001b[0m\u001b[0m\n\u001b[0;32m-> 1231\u001b[0;31m                     \u001b[0;32mraise\u001b[0m \u001b[0mKeyError\u001b[0m\u001b[0;34m(\u001b[0m\u001b[0;34m'%s not in index'\u001b[0m \u001b[0;34m%\u001b[0m \u001b[0mobjarr\u001b[0m\u001b[0;34m[\u001b[0m\u001b[0mmask\u001b[0m\u001b[0;34m]\u001b[0m\u001b[0;34m)\u001b[0m\u001b[0;34m\u001b[0m\u001b[0m\n\u001b[0m\u001b[1;32m   1232\u001b[0m \u001b[0;34m\u001b[0m\u001b[0m\n\u001b[1;32m   1233\u001b[0m                 \u001b[0;32mreturn\u001b[0m \u001b[0m_values_from_object\u001b[0m\u001b[0;34m(\u001b[0m\u001b[0mindexer\u001b[0m\u001b[0;34m)\u001b[0m\u001b[0;34m\u001b[0m\u001b[0m\n",
      "\u001b[0;31mKeyError\u001b[0m: \"['geohash_9'] not in index\""
     ]
    }
   ],
   "source": [
    "# 构造候选集。考虑：用户历史信息、手机+wi-fi定位区域信息\n",
    "\n",
    "# 7 12831138 98.06315205712107%\n",
    "# 8 3983675 96.50237426778968%\n",
    "# 9 1462770 89.19794807805621%\n",
    "def get_nearby_shops_by_geo(train,test,geo_col='geohash_8'):\n",
    "    print('加入geohash定位点附近商铺...')\n",
    "    cache_path=os.path.join(cache_dir,'构造候选','nearby_shops_%d_%s.hdf'%(train.shape[0] * test.shape[0],geo_col))\n",
    "    if os.path.exists(cache_path) & flag:\n",
    "        result=pd.read_hdf(cache_path,'data')\n",
    "    else:\n",
    "        shop_locs=train[['mall_id',geo_col,'shop_id']].drop_duplicates() # 减少匹配次数\n",
    "        result=pd.merge(test[['row_id','mall_id',geo_col]],shop_locs,on=['mall_id',geo_col],how='left')\n",
    "        result=result[['row_id','shop_id']]\n",
    "        result.to_hdf(cache_path,'data')\n",
    "    return result\n",
    "\n",
    "# 5 231w 94.3%\n",
    "# 6 212w 94%\n",
    "# 7 196w 93.8%\n",
    "# 8 181w 93%\n",
    "# 10 155w 91%\n",
    "def get_nearby_shops_by_wifi(df,shop_wifi,geo_col='geohash_7'):\n",
    "    print('加入wi-fi定位点附近商铺...')\n",
    "    cache_path=os.path.join(cache_dir,'构造候选','nearby_shops_%d_wifi.hdf'%df.shape[0])\n",
    "    if os.path.exists(cache_path) & flag:\n",
    "        result=pd.read_hdf(cache_path,'data')\n",
    "    else:\n",
    "        result=pd.merge(shop_wifi,meta_df[['shop_id','mall_id',geo_col]],on='shop_id',how='left')\n",
    "        result=pd.merge(df[['row_id','mall_id',geo_col,'wifi_sorted_max']],result,on=['mall_id',geo_col],how='inner')\n",
    "        result=result[['row_id','shop_id','wifi_sorted_max_x','wifi_sorted_max_y']]\n",
    "        result.reset_index()\n",
    "        # wi-fi交集数\n",
    "        _set=lambda x:set([i[0] for i in x])\n",
    "        result['_count']=[len(_set(i[0])&_set(i[1])) for i in tqdm(result[['wifi_sorted_max_x','wifi_sorted_max_y']].values)]\n",
    "        result.to_hdf(cache_path,'data')\n",
    "    result=result[['row_id','shop_id']].loc[result._count>=7]\n",
    "    return result\n",
    "\n",
    "# def get_shops_by_mall_wifi(df,shop_wifi):\n",
    "#     print('根据mall和wifi匹配商铺...')\n",
    "#     df=df[df.unbelievable==1]\n",
    "#     cache_path=os.path.join(cache_dir,'构造候选','shops_%d_mall_wifi.hdf'%df.shape[0])\n",
    "#     if os.path.exists(cache_path) & flag:\n",
    "#         result=pd.read_hdf(cache_path,'data')\n",
    "#     else:        \n",
    "#         result=pd.merge(shop_wifi,meta_df[['shop_id','mall_id']],on='shop_id',how='left')\n",
    "#         result=pd.merge(df[['row_id','mall_id','wifi_sorted_max']],result,on=['mall_id'],how='inner')\n",
    "#         result=result[['row_id','shop_id','wifi_sorted_max_x','wifi_sorted_max_y']]\n",
    "#         result.reset_index()\n",
    "#         # wi-fi交集数\n",
    "#         _set=lambda x:set([i[0] for i in x])\n",
    "#         result['_count']=[len(_set(i[0])&_set(i[1])) for i in tqdm(result[['wifi_sorted_max_x','wifi_sorted_max_y']].values)]\n",
    "#         result.to_hdf(cache_path,'data')\n",
    "#     result=result.sort_values('_count').groupby('row_id',as_index=False).tail(3)\n",
    "#     result=result[['row_id','shop_id']]\n",
    "# #     result=result[['row_id','shop_id']].loc[result._count>=7]\n",
    "#     return result\n",
    "\n",
    "def get_user_history_shops(train,test):\n",
    "    print('加入用户历史商铺...')\n",
    "    cache_path=os.path.join(cache_dir,'构造候选','user_history_shops_%d.hdf'%(train.shape[0] * test.shape[0]))\n",
    "    if os.path.exists(cache_path) & flag:\n",
    "        result=pd.read_hdf(cache_path,'data')\n",
    "    else:\n",
    "        user_history=train[['mall_id','user_id','shop_id']].drop_duplicates() # 减少匹配次数\n",
    "        result=pd.merge(test[['row_id','mall_id','user_id']],user_history,on=['mall_id','user_id'],how='left')\n",
    "        result=result[['row_id','shop_id']]\n",
    "        result.to_hdf(cache_path,'data')\n",
    "    return result\n",
    "\n",
    "def make_candidate_shops(train,test,shop_wifi=None,geo_col=None):\n",
    "    if 'row_id' not in test.columns:\n",
    "        test['row_id']=test.index\n",
    "    # 构造候选shop_id集\n",
    "    nearby_shops_by_geo=get_nearby_shops_by_geo(train,test,geo_col)\n",
    "    nearby_shops_by_wifi=get_nearby_shops_by_wifi(test,shop_wifi)\n",
    "#     shops_by_mall_wifi=get_shops_by_mall_wifi(test,shop_wifi)\n",
    "    user_history_shops=get_user_history_shops(train,test)\n",
    "    df_set=(nearby_shops_by_geo,nearby_shops_by_wifi,user_history_shops)\n",
    "    candidate_shops=pd.concat(df_set).drop_duplicates()\n",
    "    candidate_shops.dropna(inplace=True)\n",
    "    # 计算覆盖率\n",
    "    print('共有{}条候选样本'.format(candidate_shops.shape[0]))\n",
    "    if 'shop_id' in test.columns:\n",
    "        print('覆盖率{}%'.format(pd.merge(test[['row_id','shop_id']],candidate_shops,on=['row_id','shop_id'],how='inner').shape[0]*100./test.shape[0]))\n",
    "    print('构造完成...')\n",
    "    return candidate_shops\n",
    "    \n",
    "print('构造训练候选集...')\n",
    "train_candidate=make_candidate_shops(x_train,x_train,train_shop_wifi,'geohash_9')\n",
    "train_candidate=pd.concat((train_candidate,x_train[['row_id','shop_id']])).drop_duplicates()\n",
    "print('构造测试候选集...')\n",
    "test_candidate=make_candidate_shops(train_df,test_df,test_shop_wifi,'geohash_8')\n",
    "print('构造验证候选集...')\n",
    "# val_candidate=make_candidate_shops(x_train,x_val,train_shop_wifi,'geohash_8')"
   ]
  },
  {
   "cell_type": "code",
   "execution_count": 8,
   "metadata": {
    "scrolled": true
   },
   "outputs": [
    {
     "name": "stderr",
     "output_type": "stream",
     "text": [
      "100%|██████████| 97/97 [02:18<00:00,  1.69s/it]\n",
      "100%|██████████| 97/97 [01:00<00:00,  1.43it/s]\n"
     ]
    }
   ],
   "source": [
    "# 利用多分类模型的结果构造二分类模型的候选集\n",
    "def make_candidate_shops_by_multi(cache_suffix,nb_candidates=5):\n",
    "    candidates=[]\n",
    "    probas=[]\n",
    "    for mall_id in tqdm(meta_df.mall_id.unique()):\n",
    "        fname=os.path.join(cache_dir,'multi','{}_{}.hdf'.format(mall_id,cache_suffix))\n",
    "        cache_file=pd.read_hdf(fname,'data')\n",
    "        for idx,row in cache_file.iterrows():\n",
    "            for i in row[-nb_candidates:]:\n",
    "                candidates.append((idx,i))\n",
    "        cache_file=pd.read_hdf(fname,'proba')\n",
    "        probas+=list(cache_file.values[:,-nb_candidates:].flatten())\n",
    "#         for idx,row in cache_file.iterrows():\n",
    "#             probas+=list(row[-nb_candidates:])\n",
    "    result=pd.DataFrame(candidates,columns=['row_id','shop_id'])\n",
    "    result['proba']=probas\n",
    "    return result\n",
    "\n",
    "train_candidate=make_candidate_shops_by_multi('train_full',nb_candidates=5)\n",
    "# val_candidate=make_candidate_shops_by_multi('val',nb_candidates=5)\n",
    "test_candidate=make_candidate_shops_by_multi('test',nb_candidates=5)"
   ]
  },
  {
   "cell_type": "code",
   "execution_count": 9,
   "metadata": {
    "scrolled": true
   },
   "outputs": [
    {
     "name": "stdout",
     "output_type": "stream",
     "text": [
      "0.997136241613687\n"
     ]
    }
   ],
   "source": [
    "# 计算覆盖率\n",
    "print(pd.merge(train_candidate,x_train[['shop_id','row_id']],on=['shop_id','row_id'],how='inner').shape[0]/x_train.shape[0])\n",
    "# print(pd.merge(val_candidate,x_val[['shop_id','row_id']],on=['shop_id','row_id'],how='inner').shape[0]/x_val.shape[0])\n",
    "# 7:0.9773179783692518\n",
    "# 5:0.9723483219445374"
   ]
  },
  {
   "cell_type": "code",
   "execution_count": 11,
   "metadata": {
    "collapsed": true,
    "scrolled": true
   },
   "outputs": [],
   "source": [
    "train_candidate=pd.concat((train_candidate,x_train[['row_id','shop_id']])).drop_duplicates()"
   ]
  },
  {
   "cell_type": "markdown",
   "metadata": {},
   "source": [
    "## 构造训练/测试基础样本"
   ]
  },
  {
   "cell_type": "code",
   "execution_count": 10,
   "metadata": {
    "collapsed": true
   },
   "outputs": [],
   "source": [
    "train_basic=pd.merge(x_train,train_candidate,on='row_id',how='left')\n",
    "label=(train_basic['shop_id_x']==train_basic['shop_id_y'])*1\n",
    "train_basic.drop('shop_id_x',axis=1,inplace=True)\n",
    "train_basic.rename(columns={'shop_id_y':'shop_id'},inplace=True)\n",
    "train_basic=pd.merge(train_basic,train_shop_wifi,on='shop_id',how='left')"
   ]
  },
  {
   "cell_type": "code",
   "execution_count": 39,
   "metadata": {
    "collapsed": true
   },
   "outputs": [],
   "source": [
    "val_basic=pd.merge(x_val,val_candidate,on='row_id',how='left')\n",
    "val_label=(val_basic['shop_id_x']==val_basic['shop_id_y'])*1\n",
    "val_basic.drop('shop_id_x',axis=1,inplace=True)\n",
    "val_basic.rename(columns={'shop_id_y':'shop_id'},inplace=True)\n",
    "val_basic=pd.merge(val_basic,train_shop_wifi,on='shop_id',how='left')"
   ]
  },
  {
   "cell_type": "code",
   "execution_count": 11,
   "metadata": {
    "collapsed": true,
    "scrolled": true
   },
   "outputs": [],
   "source": [
    "test_basic=pd.merge(test_df,test_candidate,on='row_id',how='left')\n",
    "test_basic=pd.merge(test_basic,test_shop_wifi,on='shop_id',how='left')\n",
    "test_basic=pd.merge(test_basic,meta_df[['shop_id','category_id','price']],on='shop_id',how='left')"
   ]
  },
  {
   "cell_type": "code",
   "execution_count": 12,
   "metadata": {},
   "outputs": [
    {
     "data": {
      "text/html": [
       "<div>\n",
       "<style>\n",
       "    .dataframe thead tr:only-child th {\n",
       "        text-align: right;\n",
       "    }\n",
       "\n",
       "    .dataframe thead th {\n",
       "        text-align: left;\n",
       "    }\n",
       "\n",
       "    .dataframe tbody tr th {\n",
       "        vertical-align: top;\n",
       "    }\n",
       "</style>\n",
       "<table border=\"1\" class=\"dataframe\">\n",
       "  <thead>\n",
       "    <tr style=\"text-align: right;\">\n",
       "      <th></th>\n",
       "      <th>user_id</th>\n",
       "      <th>time_stamp</th>\n",
       "      <th>longitude</th>\n",
       "      <th>latitude</th>\n",
       "      <th>wifi_infos_x</th>\n",
       "      <th>time</th>\n",
       "      <th>hour</th>\n",
       "      <th>wday</th>\n",
       "      <th>wifi_sorted_max_x</th>\n",
       "      <th>mall_id</th>\n",
       "      <th>category_id</th>\n",
       "      <th>price</th>\n",
       "      <th>row_id</th>\n",
       "      <th>shop_id</th>\n",
       "      <th>proba</th>\n",
       "      <th>wifi_infos_y</th>\n",
       "      <th>wifi_sorted_max_y</th>\n",
       "      <th>wifi_sorted_mean</th>\n",
       "    </tr>\n",
       "  </thead>\n",
       "  <tbody>\n",
       "    <tr>\n",
       "      <th>0</th>\n",
       "      <td>u_376</td>\n",
       "      <td>2017-08-06 21:20</td>\n",
       "      <td>122.308291</td>\n",
       "      <td>32.08804</td>\n",
       "      <td>b_6396480|-67|false;b_41124514|-86|false;b_287...</td>\n",
       "      <td>21.333333</td>\n",
       "      <td>21</td>\n",
       "      <td>6</td>\n",
       "      <td>[[b_6396479, -55], [b_5857369, -55], [b_639648...</td>\n",
       "      <td>m_1409</td>\n",
       "      <td>c_38</td>\n",
       "      <td>42</td>\n",
       "      <td>0</td>\n",
       "      <td>s_298098</td>\n",
       "      <td>0.000594</td>\n",
       "      <td>b_10687160|-85;b_26685632|-88;b_24303621|-11;b...</td>\n",
       "      <td>[[b_24303621, -3], [b_16706070, -19], [b_56324...</td>\n",
       "      <td>[[b_24303621, -27], [b_16706070, -41], [b_2994...</td>\n",
       "    </tr>\n",
       "    <tr>\n",
       "      <th>1</th>\n",
       "      <td>u_376</td>\n",
       "      <td>2017-08-06 21:20</td>\n",
       "      <td>122.308291</td>\n",
       "      <td>32.08804</td>\n",
       "      <td>b_6396480|-67|false;b_41124514|-86|false;b_287...</td>\n",
       "      <td>21.333333</td>\n",
       "      <td>21</td>\n",
       "      <td>6</td>\n",
       "      <td>[[b_6396479, -55], [b_5857369, -55], [b_639648...</td>\n",
       "      <td>m_1409</td>\n",
       "      <td>c_38</td>\n",
       "      <td>42</td>\n",
       "      <td>0</td>\n",
       "      <td>s_3699</td>\n",
       "      <td>0.000602</td>\n",
       "      <td>b_56326189|-61;b_30230712|-62;b_25137940|-51;b...</td>\n",
       "      <td>[[b_30230709, -15], [b_30230710, -25], [b_5632...</td>\n",
       "      <td>[[b_35548532, -32], [b_41781150, -35], [b_1877...</td>\n",
       "    </tr>\n",
       "    <tr>\n",
       "      <th>2</th>\n",
       "      <td>u_376</td>\n",
       "      <td>2017-08-06 21:20</td>\n",
       "      <td>122.308291</td>\n",
       "      <td>32.08804</td>\n",
       "      <td>b_6396480|-67|false;b_41124514|-86|false;b_287...</td>\n",
       "      <td>21.333333</td>\n",
       "      <td>21</td>\n",
       "      <td>6</td>\n",
       "      <td>[[b_6396479, -55], [b_5857369, -55], [b_639648...</td>\n",
       "      <td>m_1409</td>\n",
       "      <td>c_38</td>\n",
       "      <td>42</td>\n",
       "      <td>0</td>\n",
       "      <td>s_20409</td>\n",
       "      <td>0.001060</td>\n",
       "      <td>b_32017375|-38;b_4658235|-81;b_32017374|-23;b_...</td>\n",
       "      <td>[[b_32017374, -17], [b_32017375, -17], [b_5470...</td>\n",
       "      <td>[[b_32017374, -30], [b_54703901, -35], [b_3201...</td>\n",
       "    </tr>\n",
       "    <tr>\n",
       "      <th>3</th>\n",
       "      <td>u_376</td>\n",
       "      <td>2017-08-06 21:20</td>\n",
       "      <td>122.308291</td>\n",
       "      <td>32.08804</td>\n",
       "      <td>b_6396480|-67|false;b_41124514|-86|false;b_287...</td>\n",
       "      <td>21.333333</td>\n",
       "      <td>21</td>\n",
       "      <td>6</td>\n",
       "      <td>[[b_6396479, -55], [b_5857369, -55], [b_639648...</td>\n",
       "      <td>m_1409</td>\n",
       "      <td>c_38</td>\n",
       "      <td>42</td>\n",
       "      <td>0</td>\n",
       "      <td>s_580441</td>\n",
       "      <td>0.002338</td>\n",
       "      <td>b_8764725|-72;b_8764726|-72;b_1041118|-77;b_25...</td>\n",
       "      <td>[[b_15278309, -23], [b_32053319, -27], [b_5632...</td>\n",
       "      <td>[[b_15278309, -32], [b_32053319, -38], [b_5632...</td>\n",
       "    </tr>\n",
       "    <tr>\n",
       "      <th>4</th>\n",
       "      <td>u_376</td>\n",
       "      <td>2017-08-06 21:20</td>\n",
       "      <td>122.308291</td>\n",
       "      <td>32.08804</td>\n",
       "      <td>b_6396480|-67|false;b_41124514|-86|false;b_287...</td>\n",
       "      <td>21.333333</td>\n",
       "      <td>21</td>\n",
       "      <td>6</td>\n",
       "      <td>[[b_6396479, -55], [b_5857369, -55], [b_639648...</td>\n",
       "      <td>m_1409</td>\n",
       "      <td>c_38</td>\n",
       "      <td>42</td>\n",
       "      <td>0</td>\n",
       "      <td>s_2871718</td>\n",
       "      <td>0.981201</td>\n",
       "      <td>b_6396480|-67;b_41124514|-86;b_28723327|-90;b_...</td>\n",
       "      <td>[[b_26748506, -26], [b_6396479, -43], [b_58573...</td>\n",
       "      <td>[[b_50744804, -49], [b_5857369, -53], [b_63964...</td>\n",
       "    </tr>\n",
       "  </tbody>\n",
       "</table>\n",
       "</div>"
      ],
      "text/plain": [
       "  user_id        time_stamp   longitude  latitude  \\\n",
       "0   u_376  2017-08-06 21:20  122.308291  32.08804   \n",
       "1   u_376  2017-08-06 21:20  122.308291  32.08804   \n",
       "2   u_376  2017-08-06 21:20  122.308291  32.08804   \n",
       "3   u_376  2017-08-06 21:20  122.308291  32.08804   \n",
       "4   u_376  2017-08-06 21:20  122.308291  32.08804   \n",
       "\n",
       "                                        wifi_infos_x       time  hour  wday  \\\n",
       "0  b_6396480|-67|false;b_41124514|-86|false;b_287...  21.333333    21     6   \n",
       "1  b_6396480|-67|false;b_41124514|-86|false;b_287...  21.333333    21     6   \n",
       "2  b_6396480|-67|false;b_41124514|-86|false;b_287...  21.333333    21     6   \n",
       "3  b_6396480|-67|false;b_41124514|-86|false;b_287...  21.333333    21     6   \n",
       "4  b_6396480|-67|false;b_41124514|-86|false;b_287...  21.333333    21     6   \n",
       "\n",
       "                                   wifi_sorted_max_x mall_id category_id  \\\n",
       "0  [[b_6396479, -55], [b_5857369, -55], [b_639648...  m_1409        c_38   \n",
       "1  [[b_6396479, -55], [b_5857369, -55], [b_639648...  m_1409        c_38   \n",
       "2  [[b_6396479, -55], [b_5857369, -55], [b_639648...  m_1409        c_38   \n",
       "3  [[b_6396479, -55], [b_5857369, -55], [b_639648...  m_1409        c_38   \n",
       "4  [[b_6396479, -55], [b_5857369, -55], [b_639648...  m_1409        c_38   \n",
       "\n",
       "   price  row_id    shop_id     proba  \\\n",
       "0     42       0   s_298098  0.000594   \n",
       "1     42       0     s_3699  0.000602   \n",
       "2     42       0    s_20409  0.001060   \n",
       "3     42       0   s_580441  0.002338   \n",
       "4     42       0  s_2871718  0.981201   \n",
       "\n",
       "                                        wifi_infos_y  \\\n",
       "0  b_10687160|-85;b_26685632|-88;b_24303621|-11;b...   \n",
       "1  b_56326189|-61;b_30230712|-62;b_25137940|-51;b...   \n",
       "2  b_32017375|-38;b_4658235|-81;b_32017374|-23;b_...   \n",
       "3  b_8764725|-72;b_8764726|-72;b_1041118|-77;b_25...   \n",
       "4  b_6396480|-67;b_41124514|-86;b_28723327|-90;b_...   \n",
       "\n",
       "                                   wifi_sorted_max_y  \\\n",
       "0  [[b_24303621, -3], [b_16706070, -19], [b_56324...   \n",
       "1  [[b_30230709, -15], [b_30230710, -25], [b_5632...   \n",
       "2  [[b_32017374, -17], [b_32017375, -17], [b_5470...   \n",
       "3  [[b_15278309, -23], [b_32053319, -27], [b_5632...   \n",
       "4  [[b_26748506, -26], [b_6396479, -43], [b_58573...   \n",
       "\n",
       "                                    wifi_sorted_mean  \n",
       "0  [[b_24303621, -27], [b_16706070, -41], [b_2994...  \n",
       "1  [[b_35548532, -32], [b_41781150, -35], [b_1877...  \n",
       "2  [[b_32017374, -30], [b_54703901, -35], [b_3201...  \n",
       "3  [[b_15278309, -32], [b_32053319, -38], [b_5632...  \n",
       "4  [[b_50744804, -49], [b_5857369, -53], [b_63964...  "
      ]
     },
     "execution_count": 12,
     "metadata": {},
     "output_type": "execute_result"
    }
   ],
   "source": [
    "train_basic.head()"
   ]
  },
  {
   "cell_type": "markdown",
   "metadata": {},
   "source": [
    "## 加入特征"
   ]
  },
  {
   "cell_type": "code",
   "execution_count": 13,
   "metadata": {
    "scrolled": false
   },
   "outputs": [
    {
     "name": "stdout",
     "output_type": "stream",
     "text": [
      "加入训练集特征...\n"
     ]
    },
    {
     "name": "stderr",
     "output_type": "stream",
     "text": [
      "100%|██████████| 5690075/5690075 [00:19<00:00, 286035.11it/s]\n",
      "100%|██████████| 5690075/5690075 [00:35<00:00, 158249.60it/s]\n",
      "100%|██████████| 5690075/5690075 [03:05<00:00, 30669.42it/s]\n",
      "100%|██████████| 5690075/5690075 [05:33<00:00, 17068.00it/s]\n",
      "100%|██████████| 5690075/5690075 [08:39<00:00, 10943.53it/s]\n"
     ]
    },
    {
     "name": "stdout",
     "output_type": "stream",
     "text": [
      "加入测试集特征...\n"
     ]
    },
    {
     "name": "stderr",
     "output_type": "stream",
     "text": [
      "100%|██████████| 2419655/2419655 [00:08<00:00, 283246.61it/s]\n",
      "100%|██████████| 2419655/2419655 [00:15<00:00, 159074.98it/s]\n",
      "100%|██████████| 2419655/2419655 [01:27<00:00, 27778.70it/s]\n",
      "100%|██████████| 2419655/2419655 [02:22<00:00, 16992.65it/s]\n",
      "100%|██████████| 2419655/2419655 [03:45<00:00, 10740.88it/s]\n"
     ]
    },
    {
     "name": "stdout",
     "output_type": "stream",
     "text": [
      "加入验证集特征...\n"
     ]
    }
   ],
   "source": [
    "flag=False\n",
    "\n",
    "def apk(actual, predicted, k=10, on_actual=True):\n",
    "    \"\"\"\n",
    "    actual : A list of elements that are to be predicted (order doesn't matter)\n",
    "    predicted : A list of predicted elements (order does matter)\n",
    "    \"\"\"\n",
    "    if len(predicted)>k:\n",
    "        predicted = predicted[:k]\n",
    "    if on_actual and len(actual)>k:\n",
    "        actual = actual[:k]\n",
    "\n",
    "    score = 0.0\n",
    "    num_hits = 0.0\n",
    "\n",
    "    for i,p in enumerate(predicted):\n",
    "        if p in actual and p not in predicted[:i]:\n",
    "            num_hits += 1.0\n",
    "            score += num_hits / (i+1.0)\n",
    "\n",
    "    if not actual:\n",
    "        return 0.0\n",
    "\n",
    "    return score / min(len(actual), k)\n",
    "\n",
    "def add_shop_count(df1,df2):\n",
    "    shop_count=df1.groupby('shop_id',as_index=False)['shop_id'].agg({'shop_count':'count'})\n",
    "    result=pd.merge(df2,shop_count,on='shop_id',how='left')\n",
    "    return result\n",
    "\n",
    "def add_mall_heat(df1,df2):\n",
    "    mall_heat=df1.groupby('mall_id',as_index=False)['mall_id'].agg({'mall_heat':'count'})\n",
    "    result=pd.merge(df2,mall_heat,on='mall_id',how='left')\n",
    "    return result\n",
    "\n",
    "# def add_shop_count_with_time(df1,df2):\n",
    "#     shop_count_with_time=df1.groupby(['shop_id','hour'],as_index=False)['shop_id'].agg({'shop_count_with_time':'count'})\n",
    "#     result=pd.merge(df2,shop_count_with_time,on=['shop_id','hour'],how='left')\n",
    "#     return result\n",
    "\n",
    "# def add_mall_heat_with_time(df1,df2):\n",
    "#     mall_heat_with_time=df1.groupby(['mall_id','hour'],as_index=False)['mall_id'].agg({'mall_heat_with_time':'count'})\n",
    "#     result=pd.merge(df2,mall_heat_with_time,on=['mall_id','hour'],how='left')\n",
    "#     return result\n",
    "\n",
    "# def add_user_shop_frequency(df1,df2):\n",
    "#     user_shop_frequency=df1.groupby(['user_id','shop_id'],as_index=False)['shop_id'].agg({'user_shop_frequency':'count'})\n",
    "#     result=pd.merge(df2,user_shop_frequency,on=['user_id','shop_id'],how='left')\n",
    "#     return result\n",
    "\n",
    "# def add_user_mall_frequency(df1,df2):\n",
    "#     user_mall_frequency=df1.groupby(['user_id','mall_id'],as_index=False)['mall_id'].agg({'user_mall_frequency':'count'})\n",
    "#     result=pd.merge(df2,user_mall_frequency,on=['user_id','mall_id'],how='left')\n",
    "#     return result\n",
    "\n",
    "def add_user_power(df1,df2):\n",
    "    user_power=df1.groupby(['user_id'],as_index=False)['price'].agg({'mean_power':'mean'})\n",
    "    result=pd.merge(df2,user_power,on=['user_id'],how='left')\n",
    "    return result\n",
    "\n",
    "def add_category_time(df1,df2):\n",
    "    category_time=df1[['category_id','time']].groupby(['category_id'],as_index=False)['time'].agg({'category_time':'mean'})\n",
    "    result=pd.merge(df2,category_time,on='category_id',how='left')\n",
    "    return result\n",
    "\n",
    "def add_wifi_apk(df,k=10,on_actual=True,how='max'):\n",
    "    name='wifi_apk_{}_{}_{}'.format(how,k,on_actual*1)\n",
    "    cache_path=os.path.join(cache_dir,'构造特征/wifi_apk','{}_{}.hdf'.format(name,df.shape[0]))\n",
    "    if os.path.exists(cache_path) & flag:\n",
    "        result=pd.read_hdf(cache_path,'data')\n",
    "    else:\n",
    "        apks=[]\n",
    "        col='wifi_sorted_max_y' if how=='max' else 'wifi_sorted_mean'\n",
    "        _list=lambda x:[i[0] for i in x[:k]]\n",
    "        for i in tqdm(df[['wifi_sorted_max_x',col]].values):\n",
    "            if type(i[0])==list and type(i[1])==list:\n",
    "                apks.append(apk(_list(i[1]),_list(i[0]),k,on_actual))\n",
    "            else:\n",
    "                apks.append(0)\n",
    "        result=pd.Series(apks)\n",
    "        result.to_hdf(cache_path,'data')\n",
    "    df[name]=result\n",
    "    return df\n",
    "\n",
    "def add_wifi_diff(df,how='max'):\n",
    "    cache_path=os.path.join(cache_dir,'构造特征/wifi_diff','wifi_diff_{}_{}.hdf'.format(how,df.shape[0]))\n",
    "    if os.path.exists(cache_path) & flag:\n",
    "        result=pd.read_hdf(cache_path,'data')\n",
    "    else:\n",
    "        diffs=[]\n",
    "        col='wifi_sorted_max_y' if how=='max' else 'wifi_sorted_mean'\n",
    "        for i in tqdm(df[['wifi_sorted_max_x',col]].values):\n",
    "            if type(i[0])==list and type(i[1])==list:\n",
    "                large_sum=large_num=less_sum=less_num=0\n",
    "                d1=dict(i[0])\n",
    "                d2=dict(i[1])\n",
    "                intersection_keys=d1.keys()&d2.keys()\n",
    "                for key in intersection_keys:\n",
    "                    value1=d1[key]\n",
    "                    value2=d2[key]\n",
    "                    if value1>=value2:\n",
    "                        large_sum+=(value1-value2) # 越大越好\n",
    "                        large_num+=1\n",
    "                    else:\n",
    "                        less_sum+=(value2-value1) # 越小越好\n",
    "                        less_num+=1\n",
    "                large_sum=large_sum/large_num if large_num>0 else 0\n",
    "                less_sum=less_sum/less_num if less_num>0 else 0\n",
    "                diffs.append([large_sum,large_num,less_sum,less_num])\n",
    "            else:\n",
    "                diffs.append([0]*4)\n",
    "        cols=['{}_{}'.format(i,how) for i in ['large_sum','large_num','less_sum','less_num']]\n",
    "        result=pd.DataFrame(diffs,columns=cols)\n",
    "        result.to_hdf(cache_path,'data')\n",
    "    df=pd.concat((df,result),axis=1)\n",
    "    return df\n",
    "\n",
    "def add_wifi_rfd(df,how='max'):\n",
    "    cache_path=os.path.join(cache_dir,'构造特征/wifi_rfd','wifi_rfd_{}_{}.hdf'.format(how,df.shape[0]))\n",
    "    if os.path.exists(cache_path) & flag:\n",
    "        result=pd.read_hdf(cache_path,'data')\n",
    "    else:\n",
    "        rfds=[]\n",
    "        col='wifi_sorted_max_y' if how=='max' else 'wifi_sorted_mean'\n",
    "        _set=lambda x:set([i[0] for i in x])\n",
    "        for i in tqdm(df[['wifi_sorted_max_x',col]].values):\n",
    "            if type(i[0])==list and type(i[1])==list:\n",
    "                d1=dict(i[0])\n",
    "                d2=dict(i[1])\n",
    "                intersection_keys=d1.keys()&d2.keys()\n",
    "                nb_intersection=len(intersection_keys) # 交集数\n",
    "                if nb_intersection>0:\n",
    "                    nb_union=len(d1.keys()|d2.keys()) # 并集数\n",
    "                    jaccard=np.log1p(nb_intersection/nb_union)\n",
    "                    l1=l2=0\n",
    "                    for key in intersection_keys:\n",
    "                        value1=d1[key]\n",
    "                        value2=d2[key]\n",
    "                        l1+=np.abs(value1-value2)\n",
    "                        l2+=(value1-value2)**2\n",
    "                    p=1 # Jaccard系数\n",
    "                    rfd1=l1/(nb_intersection+p*jaccard)\n",
    "                    rfd2=np.sqrt(l2)/(nb_intersection+p*jaccard)\n",
    "                    rfds.append([rfd1,rfd2])\n",
    "                    continue\n",
    "            rfds.append([111111]*2) # 最大距离\n",
    "        cols=['{}_{}'.format(i,how) for i in ['rfd1','rfd2']]\n",
    "        result=pd.DataFrame(rfds,columns=cols)\n",
    "        result.to_hdf(cache_path,'data')\n",
    "    df=pd.concat((df,result),axis=1)\n",
    "    return df\n",
    "\n",
    "def add_wifi_indexes(df,how='max'):\n",
    "    cache_path=os.path.join(cache_dir,'构造特征/wifi_index','wifi_index_{}_{}.hdf'.format(how,df.shape[0]))\n",
    "    if os.path.exists(cache_path) & flag:\n",
    "        result=pd.read_hdf(cache_path,'data')\n",
    "    else:\n",
    "        indexes=[]\n",
    "        col='wifi_sorted_max_y' if how=='max' else 'wifi_sorted_mean'\n",
    "        _list=lambda x:[i[0] for i in x]\n",
    "        for i in tqdm(df[['wifi_sorted_max_x',col]].values):\n",
    "            if type(i[0])==list and type(i[1])==list:\n",
    "                l1=_list(i[0])\n",
    "                l2=_list(i[1])\n",
    "                idx=[]\n",
    "                for k,d in enumerate(l2):\n",
    "                    if d in l1:\n",
    "                        idx.append(k)\n",
    "                    if len(idx)>=len(l1):\n",
    "                        break\n",
    "                if len(idx)>0:\n",
    "                    indexes.append([np.mean(idx),idx[0]])\n",
    "                    continue\n",
    "            indexes.append([111111]*2) # 最大距离\n",
    "        cols=['{}_{}'.format(i,how) for i in ['mean_idx','min_idx']]\n",
    "        result=pd.DataFrame(indexes,columns=cols)\n",
    "        result.to_hdf(cache_path,'data')\n",
    "    df=pd.concat((df,result),axis=1)\n",
    "    return df\n",
    "\n",
    "def add_distance(df):\n",
    "    result=pd.merge(df,meta_df[['shop_id','longitude','latitude']],on='shop_id',how='left')\n",
    "    result['distance']=cal_distance(result['latitude_x'],result['longitude_x'],result['latitude_y'],result['longitude_y'])\n",
    "    return result\n",
    "\n",
    "def add_feats(df1,df2):\n",
    "    result=add_shop_count(df1,df2)\n",
    "    result=add_mall_heat(df1,result)\n",
    "#     result=add_shop_count_with_time(df1,result)\n",
    "#     result=add_mall_heat_with_time(df1,result)\n",
    "#     result=add_user_shop_frequency(df1,result)\n",
    "#     result=add_user_mall_frequency(df1,result)\n",
    "    result=add_distance(result)\n",
    "    result=add_user_power(df1,result)\n",
    "    result=add_category_time(df1,result)\n",
    "    for how in ['max']:\n",
    "        result=add_wifi_apk(result,k=4,how=how)\n",
    "        result=add_wifi_apk(result,k=10,how=how)\n",
    "    result=add_wifi_diff(result,how='mean')\n",
    "    result=add_wifi_rfd(result,how='mean')\n",
    "    result=add_wifi_indexes(result,how='mean')\n",
    "    result['mean_power'].fillna(np.median(meta_df.price),inplace=True)\n",
    "    result.fillna(0,inplace=True)\n",
    "    return result\n",
    "\n",
    "print('加入训练集特征...')\n",
    "train_feat=add_feats(x_train,train_basic)\n",
    "print('加入测试集特征...')\n",
    "test_feat=add_feats(train_df,test_basic)\n",
    "print('加入验证集特征...')\n",
    "# val_feat=add_feats(x_train,val_basic)"
   ]
  },
  {
   "cell_type": "code",
   "execution_count": 14,
   "metadata": {
    "scrolled": true
   },
   "outputs": [
    {
     "name": "stderr",
     "output_type": "stream",
     "text": [
      "/usr/local/lib/python3.4/dist-packages/pandas/core/frame.py:2754: SettingWithCopyWarning: \n",
      "A value is trying to be set on a copy of a slice from a DataFrame\n",
      "\n",
      "See the caveats in the documentation: http://pandas.pydata.org/pandas-docs/stable/indexing.html#indexing-view-versus-copy\n",
      "  downcast=downcast, **kwargs)\n"
     ]
    }
   ],
   "source": [
    "# 后处理\n",
    "feat_cols=['time_gap','mean_power_gap','shop_heat']\n",
    "feat_cols+=['wifi_apk_{}_{}'.format(how,i) for i in ['4_1','10_1'] for how in ['max']]\n",
    "feat_cols+=['{}_{}'.format(i,how) for i in ['large_sum','large_num','less_sum','less_num'] for how in ['mean']]\n",
    "feat_cols+=['{}_{}'.format(i,how) for i in ['rfd1','rfd2'] for how in ['mean']]\n",
    "# feat_cols+=['{}_{}'.format(i,how) for i in ['mean_idx','min_idx'] for how in ['mean']]\n",
    "feat_cols+=['distance','proba']\n",
    "\n",
    "def post_precess(df):\n",
    "    df['shop_heat']=df['shop_count']/df['mall_heat']\n",
    "#     df['shop_heat_with_time']=df['shop_count_with_time']/df['mall_heat_with_time']\n",
    "#     df['user_shop_ratio']=df['user_shop_frequency']/df['user_mall_frequency']\n",
    "    df['mean_power_gap']=df['price']-df['mean_power']\n",
    "    df['time_gap']=np.abs(df['time']-df['category_time'])\n",
    "    result=df[feat_cols]\n",
    "    result.fillna(0,inplace=True)\n",
    "    # 缓存\n",
    "#     cache_path=os.path.join(cache_dir,'模型输入','{}.hdf'.format(df.shape[0]))\n",
    "#     result.to_hdf(cache_path,'data')\n",
    "    return result\n",
    "\n",
    "train=post_precess(train_feat)\n",
    "test=post_precess(test_feat)\n",
    "# val=post_precess(val_feat)"
   ]
  },
  {
   "cell_type": "markdown",
   "metadata": {},
   "source": [
    "## 模型训练"
   ]
  },
  {
   "cell_type": "code",
   "execution_count": 15,
   "metadata": {
    "collapsed": true
   },
   "outputs": [],
   "source": [
    "from sklearn.model_selection import ParameterGrid\n",
    "import lightgbm as lgb\n",
    "\n",
    "params = {\n",
    "    'objective': ['binary'],\n",
    "    'learning_rate':[0.05],\n",
    "    'feature_fraction': [0.6],\n",
    "    'max_depth': [12],\n",
    "    'num_leaves':[1024], # 1024效果略微更好\n",
    "    'bagging_fraction': [0.6],\n",
    "    'bagging_freq':[5],\n",
    "    'min_data_in_leaf':[10],\n",
    "    'min_gain_to_split':[0],\n",
    "    'lambda_l1':[1],\n",
    "    'lambda_l2':[1],\n",
    "    'verbose':[0],\n",
    "    'is_unbalance':[True]\n",
    "}\n",
    "params=list(ParameterGrid(params))"
   ]
  },
  {
   "cell_type": "code",
   "execution_count": 16,
   "metadata": {
    "scrolled": true
   },
   "outputs": [
    {
     "name": "stderr",
     "output_type": "stream",
     "text": [
      "100%|██████████| 97/97 [03:47<00:00,  2.61s/it]\n"
     ]
    }
   ],
   "source": [
    "ll=[]\n",
    "for mall_id in tqdm(meta_df.mall_id.unique()):\n",
    "    lgbtrain=lgb.Dataset(train[train_feat.mall_id==mall_id],label[train_feat.mall_id==mall_id])\n",
    "    lgbtrain.set_feature_name(feat_cols)\n",
    "    model = lgb.train(params[0], lgbtrain, num_boost_round=150)\n",
    "    # 测试\n",
    "    proba=model.predict(test[test_feat.mall_id==mall_id])\n",
    "    ans=pd.DataFrame({'row_id':test_basic.loc[test_basic.mall_id==mall_id,'row_id'],'shop_id':test_basic.loc[test_basic.mall_id==mall_id,'shop_id'],'proba':proba})\n",
    "    tmp=ans.sort_values('proba').groupby('row_id',as_index=False).tail(1)\n",
    "    tmp=pd.merge(test_df.loc[test_df.mall_id==mall_id,['row_id']],tmp[['row_id','shop_id']],on='row_id',how='left')\n",
    "    tmp.fillna('s_4941',inplace=True)\n",
    "    # 验证\n",
    "#     proba=model.predict(val[val_feat.mall_id==mall_id])\n",
    "#     ans=pd.DataFrame({'row_id':val_basic.loc[val_basic.mall_id==mall_id,'row_id'],'shop_id':val_basic.loc[val_basic.mall_id==mall_id,'shop_id'],'proba':proba})\n",
    "#     tmp=ans.sort_values('proba').groupby('row_id',as_index=False).tail(1)\n",
    "#     tmp=pd.merge(x_val.loc[x_val.mall_id==mall_id,['row_id']],tmp[['row_id','shop_id']],on='row_id',how='left')\n",
    "#     tmp.fillna('s_4941',inplace=True)\n",
    "    ll.append(tmp)"
   ]
  },
  {
   "cell_type": "code",
   "execution_count": 72,
   "metadata": {},
   "outputs": [
    {
     "data": {
      "text/plain": [
       "0.9155317691658305"
      ]
     },
     "execution_count": 72,
     "metadata": {},
     "output_type": "execute_result"
    }
   ],
   "source": [
    "# 验证集acc\n",
    "pd.merge(x_val[['row_id','shop_id']],pd.concat(ll),on=['row_id','shop_id'],how='inner').shape[0]/x_val.shape[0] \n",
    "# raw:0.9140663576559788  0.9135725776907025\n",
    "# raw+proba:0.9151017027444609\n",
    "# only proba:0.907  +rfd:0.9141937847437919 +apk:0.9158981220432934"
   ]
  },
  {
   "cell_type": "code",
   "execution_count": 17,
   "metadata": {
    "scrolled": true
   },
   "outputs": [
    {
     "name": "stdout",
     "output_type": "stream",
     "text": [
      "(483931, 2)\n"
     ]
    }
   ],
   "source": [
    "result=pd.concat(ll)\n",
    "print(result.shape)\n",
    "result.to_csv('result.csv',index=False,sep=',')"
   ]
  },
  {
   "cell_type": "code",
   "execution_count": 38,
   "metadata": {
    "collapsed": true,
    "scrolled": true
   },
   "outputs": [],
   "source": [
    "########################################## 一起训练 ##########################################\n",
    "lgbtrain=lgb.Dataset(train,label)\n",
    "lgbtrain.set_feature_name(feat_cols)\n",
    "model = lgb.train(params[0], lgbtrain, num_boost_round=150)"
   ]
  },
  {
   "cell_type": "code",
   "execution_count": 39,
   "metadata": {
    "scrolled": true
   },
   "outputs": [
    {
     "name": "stdout",
     "output_type": "stream",
     "text": [
      "0.6436672967863895\n"
     ]
    },
    {
     "name": "stderr",
     "output_type": "stream",
     "text": [
      "/usr/local/lib/python3.6/site-packages/ipykernel_launcher.py:7: UserWarning: Boolean Series key will be reindexed to match DataFrame index.\n",
      "  import sys\n"
     ]
    },
    {
     "data": {
      "text/plain": [
       "0.8802503942275529"
      ]
     },
     "execution_count": 39,
     "metadata": {},
     "output_type": "execute_result"
    }
   ],
   "source": [
    "# 模型验证\n",
    "proba=model.predict(val)\n",
    "ans=pd.DataFrame({'row_id':val_basic['row_id'],'shop_id':val_basic['shop_id'],'proba':proba})\n",
    "tmp=ans.sort_values('proba').groupby('row_id',as_index=False).tail(1)\n",
    "tmp=pd.merge(x_val[['row_id','shop_id','mall_id']],tmp[['row_id','shop_id']],on='row_id',how='left')\n",
    "tmp.fillna('s_4941',inplace=True)\n",
    "print(len(tmp[tmp.mall_id=='m_7800'][tmp.shop_id_x==tmp.shop_id_y])/x_val[x_val.mall_id=='m_7800'].shape[0]) # 1920  7800\n",
    "len(tmp[tmp.shop_id_x==tmp.shop_id_y])/x_val.shape[0] # 0.890"
   ]
  },
  {
   "cell_type": "code",
   "execution_count": 45,
   "metadata": {},
   "outputs": [
    {
     "data": {
      "text/plain": [
       "<matplotlib.axes._subplots.AxesSubplot at 0x7f5402a8ab00>"
      ]
     },
     "execution_count": 45,
     "metadata": {},
     "output_type": "execute_result"
    },
    {
     "data": {
      "image/png": "[encoded data removed]",
      "text/plain": [
       "<matplotlib.figure.Figure at 0x7f5543d570b8>"
      ]
     },
     "metadata": {
      "image/png": {
       "height": 476,
       "width": 1021
      }
     },
     "output_type": "display_data"
    }
   ],
   "source": [
    "# 特征重要程度\n",
    "sns.set({'figure.figsize':(16,8)})\n",
    "sns.barplot(data=pd.DataFrame({'feat_name':train.columns,'feat_importance':model.feature_importance()}),x='feat_importance',y='feat_name')"
   ]
  },
  {
   "cell_type": "code",
   "execution_count": 43,
   "metadata": {
    "collapsed": true
   },
   "outputs": [],
   "source": [
    "# 测试\n",
    "proba=model.predict(test)\n",
    "ans=pd.DataFrame({'row_id':test_basic['row_id'],'shop_id':test_basic['shop_id'],'proba':proba})\n",
    "# 保存结果文件\n",
    "tmp=ans.sort_values('proba').groupby('row_id',as_index=False).tail(1)\n",
    "tmp=pd.merge(test_df[['row_id']],tmp[['row_id','shop_id']],on='row_id',how='left')\n",
    "tmp.fillna('s_4941',inplace=True)\n",
    "tmp.to_csv('result.csv',index=False,sep=',')"
   ]
  }
 ],
 "metadata": {
  "kernelspec": {
   "display_name": "Python 3",
   "language": "python",
   "name": "python3"
  },
  "language_info": {
   "codemirror_mode": {
    "name": "ipython",
    "version": 3
   },
   "file_extension": ".py",
   "mimetype": "text/x-python",
   "name": "python",
   "nbconvert_exporter": "python",
   "pygments_lexer": "ipython3",
   "version": "3.4.3"
  }
 },
 "nbformat": 4,
 "nbformat_minor": 2
}
