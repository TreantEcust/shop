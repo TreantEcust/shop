{
 "cells": [
  {
   "cell_type": "code",
   "execution_count": 1,
   "metadata": {},
   "outputs": [
    {
     "name": "stderr",
     "output_type": "stream",
     "text": [
      "/usr/local/lib/python3.6/site-packages/IPython/html.py:14: ShimWarning: The `IPython.html` package has been deprecated since IPython 4.0. You should import from `notebook` instead. `IPython.html.widgets` has moved to `ipywidgets`.\n",
      "  \"`IPython.html.widgets` has moved to `ipywidgets`.\", ShimWarning)\n"
     ]
    }
   ],
   "source": [
    "import numpy as np\n",
    "import pandas as pd\n",
    "import matplotlib\n",
    "import matplotlib.pyplot as plt\n",
    "import seaborn as sns\n",
    "import time\n",
    "import os\n",
    "from tqdm import tqdm\n",
    "from geohash import encode\n",
    "# from sklearn.feature_extraction import FeatureHasher\n",
    "# from sklearn.metrics.pairwise import cosine_similarity\n",
    "\n",
    "%config InlineBackend.figure_format = 'retina' # set 'png' here when working on notebook\n",
    "%matplotlib inline\n",
    "\n",
    "cache_dir='cache'\n",
    "flag=True"
   ]
  },
  {
   "cell_type": "markdown",
   "metadata": {},
   "source": [
    "## 加载数据"
   ]
  },
  {
   "cell_type": "code",
   "execution_count": 2,
   "metadata": {
    "scrolled": true
   },
   "outputs": [
    {
     "name": "stderr",
     "output_type": "stream",
     "text": [
      "100%|██████████| 8477/8477 [00:00<00:00, 67980.15it/s]\n",
      "100%|██████████| 8477/8477 [00:00<00:00, 63087.85it/s]\n",
      "100%|██████████| 8477/8477 [00:00<00:00, 60024.84it/s]\n",
      "100%|██████████| 1138015/1138015 [00:17<00:00, 64016.18it/s]\n",
      "100%|██████████| 1138015/1138015 [00:17<00:00, 64823.74it/s]\n",
      "100%|██████████| 1138015/1138015 [00:17<00:00, 66345.91it/s]\n",
      "100%|██████████| 1138015/1138015 [00:15<00:00, 71867.43it/s]\n",
      "100%|██████████| 483931/483931 [00:06<00:00, 70043.89it/s]\n",
      "100%|██████████| 483931/483931 [00:07<00:00, 67532.70it/s]\n",
      "100%|██████████| 483931/483931 [00:07<00:00, 66791.66it/s]\n",
      "100%|██████████| 483931/483931 [00:06<00:00, 74327.31it/s]\n"
     ]
    }
   ],
   "source": [
    "geo_precision=[7,8,9]\n",
    "\n",
    "# 将经纬度geohash编码\n",
    "def make_geohash(df,precision=[7]):\n",
    "    for p in precision:\n",
    "        df['geohash_%d'%p]=[encode(coor[0],coor[1],p) for coor in tqdm(df[['latitude','longitude']].values)]\n",
    "    return df\n",
    "\n",
    "# 提取时间结构信息\n",
    "def make_struct_time(df):\n",
    "    time_infos=[]\n",
    "    for t in tqdm(df.time_stamp):\n",
    "        _struct_time=time.strptime(t,'%Y-%m-%d %H:%M')\n",
    "        time_infos.append([_struct_time.tm_hour+_struct_time.tm_min/60.,_struct_time.tm_hour,_struct_time.tm_wday])\n",
    "    time_infos=pd.DataFrame(time_infos,columns=['time','hour','wday'])\n",
    "    df=pd.concat((df,time_infos),axis=1)\n",
    "    return df\n",
    "\n",
    "# 按照强度降序排列wifi_bssid\n",
    "def make_wifi_sorted(df,how='max',cache=False):\n",
    "    cache_path=os.path.join(cache_dir,'加载数据','wifi_sorted_%d_%s.hdf'%(df.shape[0],how))\n",
    "    if os.path.exists(cache_path) & flag & cache:\n",
    "        result=pd.read_hdf(cache_path,'data')\n",
    "    else:\n",
    "        print('wifi_bssid %s排序中...'%how)\n",
    "        def _sort_wifi(wifi_infos):\n",
    "            d={}\n",
    "            for i in wifi_infos.split(';'):\n",
    "                infos=i.split('|')[:2] # ['bssid','strength']\n",
    "                if infos[0] not in d:\n",
    "                    d.update({infos[0]:[int(infos[1])]})\n",
    "                else:\n",
    "                    d[infos[0]].append(int(infos[1]))\n",
    "            _agg=(lambda x:np.mean(x)) if how=='mean' else (lambda x:np.max(x))\n",
    "            _serialize=lambda x:';'.join(['%s|%d'%(i[0],i[1]) for i in x]) # 序列化\n",
    "            d=[(i[0],_agg(i[1])) for i in d.items()]\n",
    "            return _serialize(sorted(d,key=lambda x:x[1],reverse=True))\n",
    "        result=df.wifi_infos.apply(_sort_wifi)\n",
    "        if cache:\n",
    "            result.to_hdf(cache_path,'data')\n",
    "    def _deserialize(x):\n",
    "        # 反序列化\n",
    "        result=[]\n",
    "        for i in x.split(';'):\n",
    "            ls=i.split('|')\n",
    "            ls[1]=int(ls[1])\n",
    "            result.append(ls)\n",
    "        return result\n",
    "    df['wifi_sorted_%s'%how]=result.apply(_deserialize)\n",
    "    return df\n",
    "\n",
    "# 加载数据\n",
    "def load_data(file_path):\n",
    "    df=pd.read_csv(file_path)\n",
    "    df=make_geohash(df,geo_precision)\n",
    "    df=make_struct_time(df)\n",
    "    df=make_wifi_sorted(df,'max',True)\n",
    "    return df\n",
    "\n",
    "meta_df=pd.read_csv('data/训练数据-ccf_first_round_shop_info.csv')\n",
    "meta_df=make_geohash(meta_df,geo_precision)\n",
    "train_df=load_data('data/训练数据-ccf_first_round_user_shop_behavior.csv')\n",
    "test_df=load_data('data/AB榜测试集-evaluation_public.csv')\n",
    "\n",
    "# 加入商铺信息（测试集此时还没有候选集，没有shop_id）\n",
    "# meta_df.rename(columns={'geohash_6':'_geohash_6'},inplace=True)\n",
    "train_df=pd.merge(train_df,meta_df[['shop_id','mall_id','category_id','price']],on='shop_id',how='left')"
   ]
  },
  {
   "cell_type": "code",
   "execution_count": 3,
   "metadata": {
    "collapsed": true
   },
   "outputs": [],
   "source": [
    "# # 标记出手机定位不可信的样本\n",
    "# train_df['unbelievable']=(train_df.geohash_6!=train_df._geohash_6)*1\n",
    "# _match=pd.merge(test_df[['row_id','geohash_6','mall_id']],meta_df[['_geohash_6','shop_id','mall_id']],on='mall_id',how='left')\n",
    "# _match['equal']=(_match.geohash_6==_match._geohash_6)*1\n",
    "# _match=_match[['row_id','equal']].groupby('row_id',as_index=False)['equal'].agg({'nb_equal':'sum'})\n",
    "# _match=_match[_match.nb_equal==0]\n",
    "# _match.rename(columns={'nb_equal':'unbelievable'},inplace=True)\n",
    "# _match.unbelievable=1\n",
    "\n",
    "# test_df=pd.merge(test_df,_match,on='row_id',how='left')\n",
    "# test_df.fillna(0,inplace=True)"
   ]
  },
  {
   "cell_type": "code",
   "execution_count": 3,
   "metadata": {
    "collapsed": true
   },
   "outputs": [],
   "source": [
    "# 构造线下验证集\n",
    "x_train=train_df[train_df.time_stamp<'2017-08-25 00:00']\n",
    "x_val=train_df[train_df.time_stamp>='2017-08-25 00:00']"
   ]
  },
  {
   "cell_type": "code",
   "execution_count": 5,
   "metadata": {
    "collapsed": true,
    "scrolled": true
   },
   "outputs": [],
   "source": [
    "# # x_val & test_df同分布？\n",
    "# def count_plot(df1,df2,key=None):\n",
    "#     sns.set({'figure.figsize':(16,4)})\n",
    "#     fig,axs=plt.subplots(1,2)\n",
    "#     sns.countplot(data=df1,x=key,ax=axs[0])\n",
    "#     sns.countplot(data=df2,x=key,ax=axs[1])\n",
    "\n",
    "# merge_mall_id=lambda df:pd.merge(df,meta_df[['shop_id','mall_id']],on='shop_id',how='left')\n",
    "\n",
    "# count_plot(x_val,test_df,'hour')\n",
    "# count_plot(x_val,test_df,'wday')\n",
    "# count_plot(x_val,test_df,'mall_id')"
   ]
  },
  {
   "cell_type": "code",
   "execution_count": 4,
   "metadata": {
    "scrolled": true
   },
   "outputs": [
    {
     "name": "stderr",
     "output_type": "stream",
     "text": [
      "100%|██████████| 97/97 [00:08<00:00, 11.93it/s]\n"
     ]
    },
    {
     "data": {
      "text/html": [
       "<div>\n",
       "<table border=\"1\" class=\"dataframe\">\n",
       "  <thead>\n",
       "    <tr style=\"text-align: right;\">\n",
       "      <th></th>\n",
       "      <th>_count</th>\n",
       "      <th>wifi</th>\n",
       "    </tr>\n",
       "  </thead>\n",
       "  <tbody>\n",
       "    <tr>\n",
       "      <th>0</th>\n",
       "      <td>1</td>\n",
       "      <td>395574</td>\n",
       "    </tr>\n",
       "    <tr>\n",
       "      <th>1</th>\n",
       "      <td>2</td>\n",
       "      <td>3966</td>\n",
       "    </tr>\n",
       "    <tr>\n",
       "      <th>2</th>\n",
       "      <td>3</td>\n",
       "      <td>103</td>\n",
       "    </tr>\n",
       "    <tr>\n",
       "      <th>3</th>\n",
       "      <td>4</td>\n",
       "      <td>18</td>\n",
       "    </tr>\n",
       "    <tr>\n",
       "      <th>4</th>\n",
       "      <td>5</td>\n",
       "      <td>4</td>\n",
       "    </tr>\n",
       "    <tr>\n",
       "      <th>5</th>\n",
       "      <td>6</td>\n",
       "      <td>5</td>\n",
       "    </tr>\n",
       "    <tr>\n",
       "      <th>6</th>\n",
       "      <td>7</td>\n",
       "      <td>3</td>\n",
       "    </tr>\n",
       "    <tr>\n",
       "      <th>7</th>\n",
       "      <td>9</td>\n",
       "      <td>1</td>\n",
       "    </tr>\n",
       "    <tr>\n",
       "      <th>8</th>\n",
       "      <td>10</td>\n",
       "      <td>1</td>\n",
       "    </tr>\n",
       "    <tr>\n",
       "      <th>9</th>\n",
       "      <td>14</td>\n",
       "      <td>3</td>\n",
       "    </tr>\n",
       "    <tr>\n",
       "      <th>10</th>\n",
       "      <td>21</td>\n",
       "      <td>1</td>\n",
       "    </tr>\n",
       "  </tbody>\n",
       "</table>\n",
       "</div>"
      ],
      "text/plain": [
       "    _count    wifi\n",
       "0        1  395574\n",
       "1        2    3966\n",
       "2        3     103\n",
       "3        4      18\n",
       "4        5       4\n",
       "5        6       5\n",
       "6        7       3\n",
       "7        9       1\n",
       "8       10       1\n",
       "9       14       3\n",
       "10      21       1"
      ]
     },
     "execution_count": 4,
     "metadata": {},
     "output_type": "execute_result"
    }
   ],
   "source": [
    "# 统计每个商场出现的wifi，并筛选掉出现在多个商场的wifi，如ChinaNet\n",
    "mall_wifi=train_df.groupby('mall_id',as_index=False)['wifi_infos'].agg(lambda x:';'.join(x.wifi_infos))\n",
    "ls=[]\n",
    "for i in tqdm(mall_wifi.values):\n",
    "    ls+=[(i[0],j.split('|')[0]) for j in i[1].split(';')]\n",
    "mall_wifi=pd.DataFrame(ls,columns=['mall_id','wifi'])\n",
    "wifi_mall_count=mall_wifi.groupby('wifi',as_index=False)['mall_id'].agg({'_count':lambda x:len(x.unique())})\n",
    "wifi_mall_count.groupby('_count',as_index=False).count()"
   ]
  },
  {
   "cell_type": "code",
   "execution_count": 5,
   "metadata": {
    "collapsed": true
   },
   "outputs": [],
   "source": [
    "# 筛选掉出现在多个商场中的wifi\n",
    "def wifi_filter(wifi_infos):\n",
    "    result=pd.DataFrame([i.split('|')[:2] for i in wifi_infos.split(';')],columns=['wifi','strength'])\n",
    "    result=pd.merge(result,wifi_mall_count[wifi_mall_count._count>3],on='wifi',how='left')\n",
    "    result=result[result._count.isnull()]\n",
    "    return ';'.join(['|'.join(i) for i in result[['wifi','strength']].values])\n",
    "\n",
    "# 整合每个店铺对应的wi-fi信息\n",
    "def make_aggregated_wifi(df):\n",
    "    cache_path=os.path.join(cache_dir,'加载数据','aggregate_wifi_%d.hdf'% df.shape[0])\n",
    "    if os.path.exists(cache_path) & flag:\n",
    "        result=pd.read_hdf(cache_path,'data')\n",
    "    else:\n",
    "        result=df[['shop_id','wifi_infos']].groupby('shop_id',as_index=False).agg(lambda x:';'.join(x)) # x:pd.Series\n",
    "        print('筛选wifi...')\n",
    "        result.wifi_infos=result.wifi_infos.apply(wifi_filter)\n",
    "        result=make_wifi_sorted(result,'max')\n",
    "        result=make_wifi_sorted(result,'mean')\n",
    "        result.to_hdf(cache_path,'data')\n",
    "    return result\n",
    "\n",
    "train_shop_wifi=make_aggregated_wifi(x_train)\n",
    "test_shop_wifi=make_aggregated_wifi(train_df)"
   ]
  },
  {
   "cell_type": "code",
   "execution_count": 6,
   "metadata": {},
   "outputs": [
    {
     "data": {
      "text/html": [
       "<div>\n",
       "<table border=\"1\" class=\"dataframe\">\n",
       "  <thead>\n",
       "    <tr style=\"text-align: right;\">\n",
       "      <th></th>\n",
       "      <th>user_id</th>\n",
       "      <th>shop_id</th>\n",
       "      <th>time_stamp</th>\n",
       "      <th>longitude</th>\n",
       "      <th>latitude</th>\n",
       "      <th>wifi_infos</th>\n",
       "      <th>geohash_7</th>\n",
       "      <th>geohash_8</th>\n",
       "      <th>geohash_9</th>\n",
       "      <th>time</th>\n",
       "      <th>hour</th>\n",
       "      <th>wday</th>\n",
       "      <th>wifi_sorted_max</th>\n",
       "      <th>mall_id</th>\n",
       "      <th>category_id</th>\n",
       "      <th>price</th>\n",
       "    </tr>\n",
       "  </thead>\n",
       "  <tbody>\n",
       "    <tr>\n",
       "      <th>4</th>\n",
       "      <td>u_1654</td>\n",
       "      <td>s_3816766</td>\n",
       "      <td>2017-08-25 19:50</td>\n",
       "      <td>122.255867</td>\n",
       "      <td>31.351320</td>\n",
       "      <td>b_39004150|-66|false;b_39004148|-58|false;b_21...</td>\n",
       "      <td>wtwfq52</td>\n",
       "      <td>wtwfq524</td>\n",
       "      <td>wtwfq5248</td>\n",
       "      <td>19.833333</td>\n",
       "      <td>19</td>\n",
       "      <td>4</td>\n",
       "      <td>[[b_39004148, -58], [b_39004150, -66], [b_1845...</td>\n",
       "      <td>m_3005</td>\n",
       "      <td>c_6</td>\n",
       "      <td>62</td>\n",
       "    </tr>\n",
       "    <tr>\n",
       "      <th>5</th>\n",
       "      <td>u_2733</td>\n",
       "      <td>s_3686420</td>\n",
       "      <td>2017-08-28 13:10</td>\n",
       "      <td>122.595277</td>\n",
       "      <td>31.581963</td>\n",
       "      <td>b_13784698|-75|false;b_7390858|-86|false;b_358...</td>\n",
       "      <td>wtx5ttr</td>\n",
       "      <td>wtx5ttr4</td>\n",
       "      <td>wtx5ttr4m</td>\n",
       "      <td>13.166667</td>\n",
       "      <td>13</td>\n",
       "      <td>0</td>\n",
       "      <td>[[b_21608835, -44], [b_31160049, -59], [b_2971...</td>\n",
       "      <td>m_3839</td>\n",
       "      <td>c_34</td>\n",
       "      <td>40</td>\n",
       "    </tr>\n",
       "    <tr>\n",
       "      <th>11</th>\n",
       "      <td>u_4250</td>\n",
       "      <td>s_9899</td>\n",
       "      <td>2017-08-31 18:10</td>\n",
       "      <td>122.180159</td>\n",
       "      <td>32.182159</td>\n",
       "      <td>b_43457259|-61|false;b_26427950|-66|false;b_43...</td>\n",
       "      <td>wtwzh68</td>\n",
       "      <td>wtwzh68f</td>\n",
       "      <td>wtwzh68fs</td>\n",
       "      <td>18.166667</td>\n",
       "      <td>18</td>\n",
       "      <td>3</td>\n",
       "      <td>[[b_39330590, -47], [b_43457264, -59], [b_4345...</td>\n",
       "      <td>m_2415</td>\n",
       "      <td>c_29</td>\n",
       "      <td>50</td>\n",
       "    </tr>\n",
       "    <tr>\n",
       "      <th>27</th>\n",
       "      <td>u_7079</td>\n",
       "      <td>s_2846762</td>\n",
       "      <td>2017-08-29 11:50</td>\n",
       "      <td>104.815122</td>\n",
       "      <td>30.962255</td>\n",
       "      <td>b_29489108|-72|false;b_44129030|-88|false;b_39...</td>\n",
       "      <td>wmd81hs</td>\n",
       "      <td>wmd81hs0</td>\n",
       "      <td>wmd81hs01</td>\n",
       "      <td>11.833333</td>\n",
       "      <td>11</td>\n",
       "      <td>1</td>\n",
       "      <td>[[b_40175399, -56], [b_39636096, -67], [b_7994...</td>\n",
       "      <td>m_1920</td>\n",
       "      <td>c_28</td>\n",
       "      <td>44</td>\n",
       "    </tr>\n",
       "    <tr>\n",
       "      <th>29</th>\n",
       "      <td>u_8045</td>\n",
       "      <td>s_3996822</td>\n",
       "      <td>2017-08-27 13:30</td>\n",
       "      <td>122.255555</td>\n",
       "      <td>31.351351</td>\n",
       "      <td>b_21685945|-84|false;b_21685946|-87|false;b_21...</td>\n",
       "      <td>wtwfmgr</td>\n",
       "      <td>wtwfmgrf</td>\n",
       "      <td>wtwfmgrfb</td>\n",
       "      <td>13.500000</td>\n",
       "      <td>13</td>\n",
       "      <td>6</td>\n",
       "      <td>[[b_21685859, -54], [b_21685858, -54], [b_2168...</td>\n",
       "      <td>m_3005</td>\n",
       "      <td>c_38</td>\n",
       "      <td>42</td>\n",
       "    </tr>\n",
       "  </tbody>\n",
       "</table>\n",
       "</div>"
      ],
      "text/plain": [
       "   user_id    shop_id        time_stamp   longitude   latitude  \\\n",
       "4   u_1654  s_3816766  2017-08-25 19:50  122.255867  31.351320   \n",
       "5   u_2733  s_3686420  2017-08-28 13:10  122.595277  31.581963   \n",
       "11  u_4250     s_9899  2017-08-31 18:10  122.180159  32.182159   \n",
       "27  u_7079  s_2846762  2017-08-29 11:50  104.815122  30.962255   \n",
       "29  u_8045  s_3996822  2017-08-27 13:30  122.255555  31.351351   \n",
       "\n",
       "                                           wifi_infos geohash_7 geohash_8  \\\n",
       "4   b_39004150|-66|false;b_39004148|-58|false;b_21...   wtwfq52  wtwfq524   \n",
       "5   b_13784698|-75|false;b_7390858|-86|false;b_358...   wtx5ttr  wtx5ttr4   \n",
       "11  b_43457259|-61|false;b_26427950|-66|false;b_43...   wtwzh68  wtwzh68f   \n",
       "27  b_29489108|-72|false;b_44129030|-88|false;b_39...   wmd81hs  wmd81hs0   \n",
       "29  b_21685945|-84|false;b_21685946|-87|false;b_21...   wtwfmgr  wtwfmgrf   \n",
       "\n",
       "    geohash_9       time  hour  wday  \\\n",
       "4   wtwfq5248  19.833333    19     4   \n",
       "5   wtx5ttr4m  13.166667    13     0   \n",
       "11  wtwzh68fs  18.166667    18     3   \n",
       "27  wmd81hs01  11.833333    11     1   \n",
       "29  wtwfmgrfb  13.500000    13     6   \n",
       "\n",
       "                                      wifi_sorted_max mall_id category_id  \\\n",
       "4   [[b_39004148, -58], [b_39004150, -66], [b_1845...  m_3005         c_6   \n",
       "5   [[b_21608835, -44], [b_31160049, -59], [b_2971...  m_3839        c_34   \n",
       "11  [[b_39330590, -47], [b_43457264, -59], [b_4345...  m_2415        c_29   \n",
       "27  [[b_40175399, -56], [b_39636096, -67], [b_7994...  m_1920        c_28   \n",
       "29  [[b_21685859, -54], [b_21685858, -54], [b_2168...  m_3005        c_38   \n",
       "\n",
       "    price  \n",
       "4      62  \n",
       "5      40  \n",
       "11     50  \n",
       "27     44  \n",
       "29     42  "
      ]
     },
     "execution_count": 6,
     "metadata": {},
     "output_type": "execute_result"
    }
   ],
   "source": [
    "x_val.head()"
   ]
  },
  {
   "cell_type": "markdown",
   "metadata": {},
   "source": [
    "## 数据分析"
   ]
  },
  {
   "cell_type": "code",
   "execution_count": 37,
   "metadata": {},
   "outputs": [
    {
     "name": "stdout",
     "output_type": "stream",
     "text": [
      "训练集中单条记录最多有20条wi-fi信息\n",
      "测试集中单条记录最多有10条wi-fi信息\n"
     ]
    }
   ],
   "source": [
    "print('训练集中单条记录最多有{}条wi-fi信息'.format(train_df.wifi_infos.apply(lambda x:len(x.split(';'))).max()))\n",
    "print('测试集中单条记录最多有{}条wi-fi信息'.format(test_df.wifi_infos.apply(lambda x:len(x.split(';'))).max()))"
   ]
  },
  {
   "cell_type": "code",
   "execution_count": 48,
   "metadata": {
    "collapsed": true
   },
   "outputs": [],
   "source": [
    "# 计算两点之间距离\n",
    "def cal_distance(lat1, lon1, lat2, lon2):\n",
    "#     lat1 = float(lat1)\n",
    "#     lat2 = float(lat2)\n",
    "#     lon1 = float(lon1)\n",
    "#     lon2 = float(lon2)\n",
    "    dx = np.abs(lon1 - lon2)  # 经度差\n",
    "    dy = np.abs(lat1 - lat2)  # 维度差\n",
    "    b = (lat1 + lat2) / 2.0\n",
    "    Lx = 6371004.0 * (dx / 57.2958) * np.cos(b / 57.2958)\n",
    "    Ly = 6371004.0 * (dy / 57.2958)\n",
    "    L = (Lx ** 2 + Ly ** 2) ** 0.5\n",
    "    return L"
   ]
  },
  {
   "cell_type": "code",
   "execution_count": 49,
   "metadata": {},
   "outputs": [
    {
     "data": {
      "text/plain": [
       "count    1.138015e+06\n",
       "mean     6.508282e+02\n",
       "std      3.493803e+04\n",
       "min      0.000000e+00\n",
       "25%      1.470944e+01\n",
       "50%      2.949077e+01\n",
       "75%      5.698437e+01\n",
       "max      1.856068e+07\n",
       "dtype: float64"
      ]
     },
     "execution_count": 49,
     "metadata": {},
     "output_type": "execute_result"
    }
   ],
   "source": [
    "# 计算手机的定位结果和店铺的坐标的偏差值\n",
    "diff_dis=cal_distance(train_df['latitude_x'],train_df['longitude_x'],train_df['latitude_y'],train_df['longitude_y'])\n",
    "diff_dis.describe()\n",
    "# 大多数情况下手机定位误差并不大（最多几十米的范围），不过也存在很多严重漂移的情况"
   ]
  },
  {
   "cell_type": "code",
   "execution_count": 9,
   "metadata": {},
   "outputs": [
    {
     "name": "stderr",
     "output_type": "stream",
     "text": [
      "100%|██████████| 1138015/1138015 [00:02<00:00, 542383.50it/s]\n"
     ]
    },
    {
     "data": {
      "text/plain": [
       "<matplotlib.axes._subplots.AxesSubplot at 0x34bbb7c50>"
      ]
     },
     "execution_count": 9,
     "metadata": {},
     "output_type": "execute_result"
    },
    {
     "data": {
      "image/png": "[encoded data removed]",
      "text/plain": [
       "<matplotlib.figure.Figure at 0x34c065518>"
      ]
     },
     "metadata": {
      "image/png": {
       "height": 248,
       "width": 349
      }
     },
     "output_type": "display_data"
    }
   ],
   "source": [
    "# 训练集wifi强度\n",
    "wifi_strength=[]\n",
    "for i in tqdm(train_df.wifi_sorted_max):\n",
    "    wifi_strength+=[j[1] for j in i]\n",
    "sns.boxplot(pd.Series(wifi_strength))"
   ]
  },
  {
   "cell_type": "markdown",
   "metadata": {},
   "source": [
    "## 构造候选shop_id集"
   ]
  },
  {
   "cell_type": "code",
   "execution_count": 6,
   "metadata": {
    "scrolled": false
   },
   "outputs": [
    {
     "name": "stdout",
     "output_type": "stream",
     "text": [
      "构造训练候选集...\n"
     ]
    },
    {
     "name": "stderr",
     "output_type": "stream",
     "text": [
      "/usr/local/lib/python3.6/site-packages/ipykernel_launcher.py:78: SettingWithCopyWarning: \n",
      "A value is trying to be set on a copy of a slice from a DataFrame.\n",
      "Try using .loc[row_indexer,col_indexer] = value instead\n",
      "\n",
      "See the caveats in the documentation: http://pandas.pydata.org/pandas-docs/stable/indexing.html#indexing-view-versus-copy\n"
     ]
    },
    {
     "name": "stdout",
     "output_type": "stream",
     "text": [
      "加入geohash定位点附近商铺...\n",
      "加入wi-fi定位点附近商铺...\n",
      "加入用户历史商铺...\n",
      "共有6120682条候选样本\n",
      "覆盖率100.0%\n",
      "构造完成...\n",
      "构造测试候选集...\n",
      "加入geohash定位点附近商铺...\n",
      "加入wi-fi定位点附近商铺...\n",
      "加入用户历史商铺...\n",
      "共有7419464条候选样本\n",
      "构造完成...\n",
      "构造验证候选集...\n",
      "加入geohash定位点附近商铺...\n",
      "加入wi-fi定位点附近商铺...\n",
      "加入用户历史商铺...\n",
      "共有4139879条候选样本\n",
      "覆盖率97.10443312190219%\n",
      "构造完成...\n"
     ]
    }
   ],
   "source": [
    "# 构造候选集。考虑：用户历史信息、手机+wi-fi定位区域信息\n",
    "flag=True\n",
    "\n",
    "# 7 12831138 98.06315205712107%\n",
    "# 8 3983675 96.50237426778968%\n",
    "# 9 1462770 89.19794807805621%\n",
    "def get_nearby_shops_by_geo(train,test,geo_col='geohash_8'):\n",
    "    print('加入geohash定位点附近商铺...')\n",
    "#     train=train[train.unbelievable==0]\n",
    "#     test=test[test.unbelievable==0]\n",
    "    cache_path=os.path.join(cache_dir,'构造候选','nearby_shops_%d_%s.hdf'%(train.shape[0] * test.shape[0],geo_col))\n",
    "    if os.path.exists(cache_path) & flag:\n",
    "        result=pd.read_hdf(cache_path,'data')\n",
    "    else:\n",
    "        shop_locs=train[['mall_id',geo_col,'shop_id']].drop_duplicates() # 减少匹配次数\n",
    "        result=pd.merge(test[['row_id','mall_id',geo_col]],shop_locs,on=['mall_id',geo_col],how='left')\n",
    "        result=result[['row_id','shop_id']]\n",
    "        result.to_hdf(cache_path,'data')\n",
    "    return result\n",
    "\n",
    "# 5 231w 94.3%\n",
    "# 6 212w 94%\n",
    "# 7 196w 93.8%\n",
    "# 8 181w 93%\n",
    "# 10 155w 91%\n",
    "def get_nearby_shops_by_wifi(df,shop_wifi,geo_col='geohash_7'):\n",
    "    print('加入wi-fi定位点附近商铺...')\n",
    "#     df=df[df.unbelievable==0]\n",
    "    cache_path=os.path.join(cache_dir,'构造候选','nearby_shops_%d_wifi.hdf'%df.shape[0])\n",
    "    if os.path.exists(cache_path) & flag:\n",
    "        result=pd.read_hdf(cache_path,'data')\n",
    "    else:\n",
    "        result=pd.merge(shop_wifi,meta_df[['shop_id','mall_id',geo_col]],on='shop_id',how='left')\n",
    "        result=pd.merge(df[['row_id','mall_id',geo_col,'wifi_sorted_max']],result,on=['mall_id',geo_col],how='inner')\n",
    "        result=result[['row_id','shop_id','wifi_sorted_max_x','wifi_sorted_max_y']]\n",
    "        result.reset_index()\n",
    "        # wi-fi交集数\n",
    "        _set=lambda x:set([i[0] for i in x])\n",
    "        result['_count']=[len(_set(i[0])&_set(i[1])) for i in tqdm(result[['wifi_sorted_max_x','wifi_sorted_max_y']].values)]\n",
    "        result.to_hdf(cache_path,'data')\n",
    "    result=result[['row_id','shop_id']].loc[result._count>=7]\n",
    "    return result\n",
    "\n",
    "# def get_shops_by_mall_wifi(df,shop_wifi):\n",
    "#     print('根据mall和wifi匹配商铺...')\n",
    "#     df=df[df.unbelievable==1]\n",
    "#     cache_path=os.path.join(cache_dir,'构造候选','shops_%d_mall_wifi.hdf'%df.shape[0])\n",
    "#     if os.path.exists(cache_path) & flag:\n",
    "#         result=pd.read_hdf(cache_path,'data')\n",
    "#     else:        \n",
    "#         result=pd.merge(shop_wifi,meta_df[['shop_id','mall_id']],on='shop_id',how='left')\n",
    "#         result=pd.merge(df[['row_id','mall_id','wifi_sorted_max']],result,on=['mall_id'],how='inner')\n",
    "#         result=result[['row_id','shop_id','wifi_sorted_max_x','wifi_sorted_max_y']]\n",
    "#         result.reset_index()\n",
    "#         # wi-fi交集数\n",
    "#         _set=lambda x:set([i[0] for i in x])\n",
    "#         result['_count']=[len(_set(i[0])&_set(i[1])) for i in tqdm(result[['wifi_sorted_max_x','wifi_sorted_max_y']].values)]\n",
    "#         result.to_hdf(cache_path,'data')\n",
    "#     result=result.sort_values('_count').groupby('row_id',as_index=False).tail(3)\n",
    "#     result=result[['row_id','shop_id']]\n",
    "# #     result=result[['row_id','shop_id']].loc[result._count>=7]\n",
    "#     return result\n",
    "\n",
    "def get_user_history_shops(train,test):\n",
    "    print('加入用户历史商铺...')\n",
    "    cache_path=os.path.join(cache_dir,'构造候选','user_history_shops_%d.hdf'%(train.shape[0] * test.shape[0]))\n",
    "    if os.path.exists(cache_path) & flag:\n",
    "        result=pd.read_hdf(cache_path,'data')\n",
    "    else:\n",
    "        user_history=train[['mall_id','user_id','shop_id']].drop_duplicates() # 减少匹配次数\n",
    "        result=pd.merge(test[['row_id','mall_id','user_id']],user_history,on=['mall_id','user_id'],how='left')\n",
    "        result=result[['row_id','shop_id']]\n",
    "        result.to_hdf(cache_path,'data')\n",
    "    return result\n",
    "\n",
    "def make_candidate_shops(train,test,shop_wifi=None,geo_col=None):\n",
    "    if 'row_id' not in test.columns:\n",
    "        test['row_id']=test.index\n",
    "    # 构造候选shop_id集\n",
    "    nearby_shops_by_geo=get_nearby_shops_by_geo(train,test,geo_col)\n",
    "    nearby_shops_by_wifi=get_nearby_shops_by_wifi(test,shop_wifi)\n",
    "#     shops_by_mall_wifi=get_shops_by_mall_wifi(test,shop_wifi)\n",
    "    user_history_shops=get_user_history_shops(train,test)\n",
    "    df_set=(nearby_shops_by_geo,nearby_shops_by_wifi,user_history_shops)\n",
    "    candidate_shops=pd.concat(df_set).drop_duplicates()\n",
    "    candidate_shops.dropna(inplace=True)\n",
    "    # 计算覆盖率\n",
    "    print('共有{}条候选样本'.format(candidate_shops.shape[0]))\n",
    "    if 'shop_id' in test.columns:\n",
    "        print('覆盖率{}%'.format(pd.merge(test[['row_id','shop_id']],candidate_shops,on=['row_id','shop_id'],how='inner').shape[0]*100./test.shape[0]))\n",
    "    print('构造完成...')\n",
    "    return candidate_shops\n",
    "    \n",
    "print('构造训练候选集...')\n",
    "train_candidate=make_candidate_shops(x_train,x_train,train_shop_wifi,'geohash_9')\n",
    "train_candidate=pd.concat((train_candidate,x_train[['row_id','shop_id']])).drop_duplicates()\n",
    "print('构造测试候选集...')\n",
    "test_candidate=make_candidate_shops(train_df,test_df,test_shop_wifi,'geohash_8')\n",
    "print('构造验证候选集...')\n",
    "val_candidate=make_candidate_shops(x_train,x_val,train_shop_wifi,'geohash_8')\n",
    "# 4139879 97.10443312190219%"
   ]
  },
  {
   "cell_type": "markdown",
   "metadata": {},
   "source": [
    "## 构造训练/测试样本"
   ]
  },
  {
   "cell_type": "code",
   "execution_count": 7,
   "metadata": {
    "collapsed": true
   },
   "outputs": [],
   "source": [
    "train_basic=pd.merge(x_train,train_candidate,on='row_id',how='left')\n",
    "label=(train_basic['shop_id_x']==train_basic['shop_id_y'])*1\n",
    "train_basic.drop('shop_id_x',axis=1,inplace=True)\n",
    "train_basic.rename(columns={'shop_id_y':'shop_id'},inplace=True)\n",
    "train_basic=pd.merge(train_basic,train_shop_wifi,on='shop_id',how='left')"
   ]
  },
  {
   "cell_type": "code",
   "execution_count": 8,
   "metadata": {
    "collapsed": true
   },
   "outputs": [],
   "source": [
    "val_basic=pd.merge(x_val,val_candidate,on='row_id',how='left')\n",
    "val_label=(val_basic['shop_id_x']==val_basic['shop_id_y'])*1\n",
    "val_basic.drop('shop_id_x',axis=1,inplace=True)\n",
    "val_basic.rename(columns={'shop_id_y':'shop_id'},inplace=True)\n",
    "val_basic=pd.merge(val_basic,train_shop_wifi,on='shop_id',how='left')"
   ]
  },
  {
   "cell_type": "code",
   "execution_count": 9,
   "metadata": {
    "collapsed": true,
    "scrolled": true
   },
   "outputs": [],
   "source": [
    "test_basic=pd.merge(test_df,test_candidate,on='row_id',how='left')\n",
    "test_basic=pd.merge(test_basic,test_shop_wifi,on='shop_id',how='left')\n",
    "test_basic=pd.merge(test_basic,meta_df[['shop_id','category_id','price']],on='shop_id',how='left')"
   ]
  },
  {
   "cell_type": "code",
   "execution_count": 12,
   "metadata": {},
   "outputs": [
    {
     "name": "stderr",
     "output_type": "stream",
     "text": [
      "100%|██████████| 849505/849505 [00:26<00:00, 31502.70it/s]\n"
     ]
    },
    {
     "data": {
      "text/plain": [
       "<matplotlib.axes._subplots.AxesSubplot at 0x1382767b8>"
      ]
     },
     "execution_count": 12,
     "metadata": {},
     "output_type": "execute_result"
    },
    {
     "data": {
      "image/png": "[encoded data removed]",
      "text/plain": [
       "<matplotlib.figure.Figure at 0x17c993e48>"
      ]
     },
     "metadata": {
      "image/png": {
       "height": 357,
       "width": 612
      }
     },
     "output_type": "display_data"
    }
   ],
   "source": [
    "# 分析label为1的记录，其wifi交集数分布\n",
    "data=[]\n",
    "_set=lambda x:set([i[0] for i in x])\n",
    "for i in tqdm(train_basic[label==1][['wifi_sorted_max_x','wifi_sorted_max_y']].values):\n",
    "    if type(i[0])==list and type(i[1])==list:\n",
    "        data.append(len(_set(i[0])&_set(i[1])))\n",
    "\n",
    "sns.set({'figure.figsize':(10,6)})\n",
    "pd.Series(data).hist(bins=70)"
   ]
  },
  {
   "cell_type": "markdown",
   "metadata": {},
   "source": [
    "## 加入特征"
   ]
  },
  {
   "cell_type": "code",
   "execution_count": 26,
   "metadata": {
    "scrolled": true
   },
   "outputs": [
    {
     "name": "stdout",
     "output_type": "stream",
     "text": [
      "加入训练集特征...\n"
     ]
    },
    {
     "name": "stderr",
     "output_type": "stream",
     "text": [
      "100%|██████████| 6120682/6120682 [06:28<00:00, 15744.35it/s]\n"
     ]
    },
    {
     "name": "stdout",
     "output_type": "stream",
     "text": [
      "加入测试集特征...\n"
     ]
    },
    {
     "name": "stderr",
     "output_type": "stream",
     "text": [
      "100%|██████████| 7422221/7422221 [07:20<00:00, 16834.39it/s]\n"
     ]
    },
    {
     "name": "stdout",
     "output_type": "stream",
     "text": [
      "加入验证集特征...\n"
     ]
    },
    {
     "name": "stderr",
     "output_type": "stream",
     "text": [
      "100%|██████████| 4141633/4141633 [03:36<00:00, 19171.29it/s]\n"
     ]
    }
   ],
   "source": [
    "def apk(actual, predicted, k=10, on_actual=True):\n",
    "    \"\"\"\n",
    "    actual : A list of elements that are to be predicted (order doesn't matter)\n",
    "    predicted : A list of predicted elements (order does matter)\n",
    "    \"\"\"\n",
    "    if len(predicted)>k:\n",
    "        predicted = predicted[:k]\n",
    "    if on_actual and len(actual)>k:\n",
    "        actual = actual[:k]\n",
    "\n",
    "    score = 0.0\n",
    "    num_hits = 0.0\n",
    "\n",
    "    for i,p in enumerate(predicted):\n",
    "        if p in actual and p not in predicted[:i]:\n",
    "            num_hits += 1.0\n",
    "            score += num_hits / (i+1.0)\n",
    "\n",
    "    if not actual:\n",
    "        return 0.0\n",
    "\n",
    "    return score / min(len(actual), k)\n",
    "\n",
    "def add_shop_count(df1,df2):\n",
    "    shop_count=df1.groupby('shop_id',as_index=False)['shop_id'].agg({'shop_count':'count'})\n",
    "    result=pd.merge(df2,shop_count,on='shop_id',how='left')\n",
    "    return result\n",
    "\n",
    "def add_mall_heat(df1,df2):\n",
    "    mall_heat=df1.groupby('mall_id',as_index=False)['mall_id'].agg({'mall_heat':'count'})\n",
    "    result=pd.merge(df2,mall_heat,on='mall_id',how='left')\n",
    "    return result\n",
    "\n",
    "def add_shop_count_with_time(df1,df2):\n",
    "    shop_count_with_time=df1.groupby(['shop_id','hour'],as_index=False)['shop_id'].agg({'shop_count_with_time':'count'})\n",
    "    result=pd.merge(df2,shop_count_with_time,on=['shop_id','hour'],how='left')\n",
    "    return result\n",
    "\n",
    "def add_mall_heat_with_time(df1,df2):\n",
    "    mall_heat_with_time=df1.groupby(['mall_id','hour'],as_index=False)['mall_id'].agg({'mall_heat_with_time':'count'})\n",
    "    result=pd.merge(df2,mall_heat_with_time,on=['mall_id','hour'],how='left')\n",
    "    return result\n",
    "\n",
    "# def add_user_shop_frequency(df1,df2):\n",
    "#     user_shop_frequency=df1.groupby(['user_id','shop_id'],as_index=False)['shop_id'].agg({'user_shop_frequency':'count'})\n",
    "#     result=pd.merge(df2,user_shop_frequency,on=['user_id','shop_id'],how='left')\n",
    "#     return result\n",
    "\n",
    "# def add_user_mall_frequency(df1,df2):\n",
    "#     user_mall_frequency=df1.groupby(['user_id','mall_id'],as_index=False)['mall_id'].agg({'user_mall_frequency':'count'})\n",
    "#     result=pd.merge(df2,user_mall_frequency,on=['user_id','mall_id'],how='left')\n",
    "#     return result\n",
    "\n",
    "def add_user_power(df1,df2):\n",
    "    user_power=df1.groupby(['user_id'],as_index=False)['price'].agg({'mean_power':'mean'})\n",
    "    result=pd.merge(df2,user_power,on=['user_id'],how='left')\n",
    "    return result\n",
    "\n",
    "def add_category_time(df1,df2):\n",
    "    category_time=df1[['category_id','time']].groupby(['category_id'],as_index=False)['time'].agg({'category_time':'mean'})\n",
    "    result=pd.merge(df2,category_time,on='category_id',how='left')\n",
    "    return result\n",
    "\n",
    "def add_wifi_apk(df,k=10,on_actual=True,how='max'):\n",
    "    name='wifi_apk_{}_{}_{}'.format(how,k,on_actual*1)\n",
    "    cache_path=os.path.join(cache_dir,'构造特征/wifi_apk','{}_{}.hdf'.format(name,df.shape[0]))\n",
    "    if os.path.exists(cache_path) & flag:\n",
    "        result=pd.read_hdf(cache_path,'data')\n",
    "    else:\n",
    "        apks=[]\n",
    "        col='wifi_sorted_max_y' if how=='max' else 'wifi_sorted_mean'\n",
    "        _list=lambda x:[i[0] for i in x[:k]]\n",
    "        for i in tqdm(df[['wifi_sorted_max_x',col]].values):\n",
    "            if type(i[0])==list and type(i[1])==list:\n",
    "                apks.append(apk(_list(i[1]),_list(i[0]),k,on_actual))\n",
    "            else:\n",
    "                apks.append(0)\n",
    "        result=pd.Series(apks)\n",
    "        result.to_hdf(cache_path,'data')\n",
    "    df[name]=result\n",
    "    return df\n",
    "\n",
    "def add_wifi_diff(df,how='max'):\n",
    "    cache_path=os.path.join(cache_dir,'构造特征/wifi_diff','wifi_diff_{}_{}.hdf'.format(how,df.shape[0]))\n",
    "    if os.path.exists(cache_path) & flag:\n",
    "        result=pd.read_hdf(cache_path,'data')\n",
    "    else:\n",
    "        diffs=[]\n",
    "        col='wifi_sorted_max_y' if how=='max' else 'wifi_sorted_mean'\n",
    "        for i in tqdm(df[['wifi_sorted_max_x',col]].values):\n",
    "            if type(i[0])==list and type(i[1])==list:\n",
    "                large_sum=large_num=less_sum=less_num=0\n",
    "                d1=dict(i[0])\n",
    "                d2=dict(i[1])\n",
    "                intersection_keys=d1.keys()&d2.keys()\n",
    "                for key in intersection_keys:\n",
    "                    value1=d1[key]\n",
    "                    value2=d2[key]\n",
    "                    if value1>=value2:\n",
    "                        large_sum+=(value1-value2) # 越大越好\n",
    "                        large_num+=1\n",
    "                    else:\n",
    "                        less_sum+=(value2-value1) # 越小越好\n",
    "                        less_num+=1\n",
    "                large_sum=large_sum/large_num if large_num>0 else 0\n",
    "                less_sum=less_sum/less_num if less_num>0 else 0\n",
    "                diffs.append([large_sum,large_num,less_sum,less_num])\n",
    "            else:\n",
    "                diffs.append([0]*4)\n",
    "        cols=['{}_{}'.format(i,how) for i in ['large_sum','large_num','less_sum','less_num']]\n",
    "        result=pd.DataFrame(diffs,columns=cols)\n",
    "        result.to_hdf(cache_path,'data')\n",
    "    df=pd.concat((df,result),axis=1)\n",
    "    return df\n",
    "\n",
    "def add_wifi_rfd(df,how='max'):\n",
    "    cache_path=os.path.join(cache_dir,'构造特征/wifi_rfd','wifi_rfd_{}_{}.hdf'.format(how,df.shape[0]))\n",
    "    if os.path.exists(cache_path) & flag:\n",
    "        result=pd.read_hdf(cache_path,'data')\n",
    "    else:\n",
    "        rfds=[]\n",
    "        col='wifi_sorted_max_y' if how=='max' else 'wifi_sorted_mean'\n",
    "        _set=lambda x:set([i[0] for i in x])\n",
    "        for i in tqdm(df[['wifi_sorted_max_x',col]].values):\n",
    "            if type(i[0])==list and type(i[1])==list:\n",
    "                d1=dict(i[0])\n",
    "                d2=dict(i[1])\n",
    "                intersection_keys=d1.keys()&d2.keys()\n",
    "                nb_intersection=len(intersection_keys) # 交集数\n",
    "                if nb_intersection>0:\n",
    "                    nb_union=len(d1.keys()|d2.keys()) # 并集数\n",
    "                    jaccard=np.log1p(nb_intersection/nb_union)\n",
    "                    l1=l2=0\n",
    "                    for key in intersection_keys:\n",
    "                        value1=d1[key]\n",
    "                        value2=d2[key]\n",
    "                        l1+=np.abs(value1-value2)\n",
    "                        l2+=(value1-value2)**2\n",
    "                    p=1 # Jaccard系数\n",
    "                    rfd1=l1/(nb_intersection+p*jaccard)\n",
    "                    rfd2=np.sqrt(l2)/(nb_intersection+p*jaccard)\n",
    "                    rfds.append([rfd1,rfd2])\n",
    "                    continue\n",
    "            rfds.append([111111]*2) # 最大距离\n",
    "        cols=['{}_{}'.format(i,how) for i in ['rfd1','rfd2']]\n",
    "        result=pd.DataFrame(rfds,columns=cols)\n",
    "        result.to_hdf(cache_path,'data')\n",
    "    df=pd.concat((df,result),axis=1)\n",
    "    return df\n",
    "\n",
    "def add_feats(df1,df2):\n",
    "    result=add_shop_count(df1,df2)\n",
    "    result=add_mall_heat(df1,result)\n",
    "    result=add_shop_count_with_time(df1,result)\n",
    "    result=add_mall_heat_with_time(df1,result)\n",
    "#     result=add_user_shop_frequency(df1,result)\n",
    "#     result=add_user_mall_frequency(df1,result)\n",
    "    result=add_user_power(df1,result)\n",
    "    result=add_category_time(df1,result)\n",
    "    for how in ['max']:\n",
    "        result=add_wifi_apk(result,k=4,how=how)\n",
    "        result=add_wifi_apk(result,k=10,how=how)\n",
    "#     result=add_wifi_diff(result,how='max')\n",
    "    result=add_wifi_diff(result,how='mean')\n",
    "    result=add_wifi_rfd(result,how='mean')\n",
    "    result['mean_power'].fillna(np.median(meta_df.price),inplace=True)\n",
    "    result.fillna(0,inplace=True)\n",
    "    return result\n",
    "\n",
    "print('加入训练集特征...')\n",
    "train_feat=add_feats(x_train,train_basic)\n",
    "print('加入测试集特征...')\n",
    "test_feat=add_feats(train_df,test_basic)\n",
    "print('加入验证集特征...')\n",
    "val_feat=add_feats(x_train,val_basic)"
   ]
  },
  {
   "cell_type": "code",
   "execution_count": 68,
   "metadata": {
    "scrolled": true
   },
   "outputs": [
    {
     "name": "stderr",
     "output_type": "stream",
     "text": [
      "/usr/local/lib/python3.6/site-packages/pandas/core/frame.py:2842: SettingWithCopyWarning: \n",
      "A value is trying to be set on a copy of a slice from a DataFrame\n",
      "\n",
      "See the caveats in the documentation: http://pandas.pydata.org/pandas-docs/stable/indexing.html#indexing-view-versus-copy\n",
      "  downcast=downcast, **kwargs)\n"
     ]
    }
   ],
   "source": [
    "# 后处理\n",
    "feat_cols=['time_gap','mean_power_gap','shop_heat']\n",
    "feat_cols+=['wifi_apk_{}_{}'.format(how,i) for i in ['4_1','10_1'] for how in ['max']]\n",
    "feat_cols+=['{}_{}'.format(i,how) for i in ['large_sum','large_num','less_sum','less_num'] for how in ['mean']]\n",
    "feat_cols+=['{}_{}'.format(i,how) for i in ['rfd1','rfd2'] for how in ['mean']]\n",
    "\n",
    "# def nor_process(result,predictors):\n",
    "#     #归一化\n",
    "#     for p in tqdm(predictors):\n",
    "#         temp_max = result.groupby('row_id', as_index=False)[p].agg({'max' + p: 'max'})\n",
    "#         temp_min = result.groupby('row_id', as_index=False)[p].agg({'min' + p: 'min'})\n",
    "#         result = pd.merge(result, temp_max, on='row_id', how='left')\n",
    "#         result = pd.merge(result, temp_min, on='row_id', how='left')\n",
    "#         result[p]=(result[p]-result['min'+p])/(result['max'+p]-result['min'+p]+0.0001)\n",
    "#         result.drop(['max'+p,'min'+p],inplace=True,axis=1)\n",
    "#     return result\n",
    "\n",
    "def post_precess(df):\n",
    "    df['shop_heat']=df['shop_count']/df['mall_heat']\n",
    "#     df['shop_heat_with_time']=df['shop_count_with_time']/df['mall_heat_with_time']\n",
    "#     df['user_shop_ratio']=df['user_shop_frequency']/df['user_mall_frequency']\n",
    "    df['mean_power_gap']=df['price']-df['mean_power']\n",
    "    df['time_gap']=np.abs(df['time']-df['category_time'])\n",
    "#     result=nor_process(df,feat_cols)\n",
    "    result=df[feat_cols]\n",
    "    result.fillna(0,inplace=True)\n",
    "    # 缓存\n",
    "#     cache_path=os.path.join(cache_dir,'模型输入','{}.hdf'.format(df.shape[0]))\n",
    "#     result.to_hdf(cache_path,'data')\n",
    "    return result\n",
    "\n",
    "train=post_precess(train_feat)\n",
    "test=post_precess(test_feat)\n",
    "val=post_precess(val_feat)"
   ]
  },
  {
   "cell_type": "markdown",
   "metadata": {},
   "source": [
    "## 模型训练"
   ]
  },
  {
   "cell_type": "code",
   "execution_count": 73,
   "metadata": {
    "collapsed": true
   },
   "outputs": [],
   "source": [
    "from sklearn.model_selection import ParameterGrid\n",
    "import lightgbm as lgb\n",
    "\n",
    "params = {\n",
    "    'objective': ['binary'],\n",
    "    'learning_rate':[0.05],\n",
    "    'feature_fraction': [0.6],\n",
    "    'max_depth': [12],\n",
    "    'num_leaves':[140], # 1024效果略微更好\n",
    "    'bagging_fraction': [0.6],\n",
    "    'bagging_freq':[5],\n",
    "    'min_data_in_leaf':[10],\n",
    "    'min_gain_to_split':[0],\n",
    "    'lambda_l1':[1],\n",
    "    'lambda_l2':[1],\n",
    "    'verbose':[0],\n",
    "    'is_unbalance':[True]\n",
    "}\n",
    "params=list(ParameterGrid(params))"
   ]
  },
  {
   "cell_type": "code",
   "execution_count": 74,
   "metadata": {
    "collapsed": true,
    "scrolled": true
   },
   "outputs": [],
   "source": [
    "lgbtrain=lgb.Dataset(train,label)\n",
    "lgbtrain.set_feature_name(feat_cols)\n",
    "model = lgb.train(params[0], lgbtrain, num_boost_round=150)"
   ]
  },
  {
   "cell_type": "code",
   "execution_count": 75,
   "metadata": {
    "scrolled": true
   },
   "outputs": [
    {
     "name": "stdout",
     "output_type": "stream",
     "text": [
      "0.6119433613790273\n"
     ]
    },
    {
     "name": "stderr",
     "output_type": "stream",
     "text": [
      "/usr/local/lib/python3.6/site-packages/ipykernel_launcher.py:7: UserWarning: Boolean Series key will be reindexed to match DataFrame index.\n",
      "  import sys\n"
     ]
    },
    {
     "data": {
      "text/plain": [
       "0.8757547398703684"
      ]
     },
     "execution_count": 75,
     "metadata": {},
     "output_type": "execute_result"
    }
   ],
   "source": [
    "# 模型验证\n",
    "proba=model.predict(val)\n",
    "ans=pd.DataFrame({'row_id':val_basic['row_id'],'shop_id':val_basic['shop_id'],'proba':proba})\n",
    "tmp=ans.sort_values('proba').groupby('row_id',as_index=False).tail(1)\n",
    "tmp=pd.merge(x_val[['row_id','shop_id','mall_id']],tmp[['row_id','shop_id']],on='row_id',how='left')\n",
    "tmp.fillna('s_4941',inplace=True)\n",
    "print(len(tmp[tmp.mall_id=='m_7800'][tmp.shop_id_x==tmp.shop_id_y])/x_val[x_val.mall_id=='m_7800'].shape[0]) # 1920  7800\n",
    "len(tmp[tmp.shop_id_x==tmp.shop_id_y])/x_val.shape[0] # 0.879"
   ]
  },
  {
   "cell_type": "code",
   "execution_count": 76,
   "metadata": {},
   "outputs": [
    {
     "data": {
      "text/plain": [
       "<matplotlib.axes._subplots.AxesSubplot at 0x4407caf60>"
      ]
     },
     "execution_count": 76,
     "metadata": {},
     "output_type": "execute_result"
    },
    {
     "data": {
      "image/png": "[encoded data removed]",
      "text/plain": [
       "<matplotlib.figure.Figure at 0x335686400>"
      ]
     },
     "metadata": {
      "image/png": {
       "height": 479,
       "width": 1023
      }
     },
     "output_type": "display_data"
    }
   ],
   "source": [
    "# 特征重要程度\n",
    "sns.set({'figure.figsize':(16,8)})\n",
    "sns.barplot(data=pd.DataFrame({'feat_name':train.columns,'feat_importance':model.feature_importance()}),x='feat_importance',y='feat_name')"
   ]
  },
  {
   "cell_type": "code",
   "execution_count": 18,
   "metadata": {
    "collapsed": true
   },
   "outputs": [],
   "source": [
    "# 测试\n",
    "proba=model.predict(test)\n",
    "ans=pd.DataFrame({'row_id':test_basic['row_id'],'shop_id':test_basic['shop_id'],'proba':proba})\n",
    "# 保存结果文件\n",
    "tmp=ans.sort_values('proba').groupby('row_id',as_index=False).tail(1)\n",
    "tmp=pd.merge(test_df[['row_id']],tmp[['row_id','shop_id']],on='row_id',how='left')\n",
    "tmp.fillna('s_4941',inplace=True)\n",
    "tmp.to_csv('result.csv',index=False,sep=',')"
   ]
  }
 ],
 "metadata": {
  "kernelspec": {
   "display_name": "Python 3",
   "language": "python",
   "name": "python3"
  },
  "language_info": {
   "codemirror_mode": {
    "name": "ipython",
    "version": 3
   },
   "file_extension": ".py",
   "mimetype": "text/x-python",
   "name": "python",
   "nbconvert_exporter": "python",
   "pygments_lexer": "ipython3",
   "version": "3.6.1"
  }
 },
 "nbformat": 4,
 "nbformat_minor": 2
}
