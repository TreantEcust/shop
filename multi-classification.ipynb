{
 "cells": [
  {
   "cell_type": "code",
   "execution_count": 1,
   "metadata": {
    "collapsed": true
   },
   "outputs": [],
   "source": [
    "import numpy as np\n",
    "import pandas as pd\n",
    "import matplotlib\n",
    "import matplotlib.pyplot as plt\n",
    "import seaborn as sns\n",
    "import time,os\n",
    "import lightgbm as lgb\n",
    "from tqdm import tqdm\n",
    "from geohash import encode\n",
    "from sklearn.feature_extraction import DictVectorizer\n",
    "from sklearn.preprocessing import LabelEncoder\n",
    "from sklearn.model_selection import ParameterGrid\n",
    "from sklearn.feature_selection import VarianceThreshold\n",
    "\n",
    "%config InlineBackend.figure_format = 'retina' # set 'png' here when working on notebook\n",
    "%matplotlib inline"
   ]
  },
  {
   "cell_type": "markdown",
   "metadata": {},
   "source": [
    "## 加载数据"
   ]
  },
  {
   "cell_type": "code",
   "execution_count": 2,
   "metadata": {
    "scrolled": true
   },
   "outputs": [
    {
     "name": "stderr",
     "output_type": "stream",
     "text": [
      "100%|██████████| 1138015/1138015 [00:11<00:00, 102994.63it/s]\n",
      "100%|██████████| 483931/483931 [00:04<00:00, 100900.53it/s]\n"
     ]
    }
   ],
   "source": [
    "# 将wifi_infos转成dict\n",
    "def make_wifi_dict(df):\n",
    "    def _split(x):\n",
    "        x=x.split('|')[:2]\n",
    "        x[1]=int(x[1])\n",
    "        return x\n",
    "    df.wifi_infos=df.wifi_infos.apply(lambda x:dict([_split(i) for i in x.split(';')]))\n",
    "    return df\n",
    "\n",
    "# 提取时间结构信息\n",
    "def make_struct_time(df):\n",
    "    time_infos=[]\n",
    "    for t in tqdm(df.time_stamp):\n",
    "        _struct_time=time.strptime(t,'%Y-%m-%d %H:%M')\n",
    "        time_infos.append([_struct_time.tm_hour+_struct_time.tm_min/60.,_struct_time.tm_hour,_struct_time.tm_wday])\n",
    "    time_infos=pd.DataFrame(time_infos,columns=['time','hour','wday'])\n",
    "    df=pd.concat((df,time_infos),axis=1)\n",
    "    return df\n",
    "\n",
    "def load_data(file_path):\n",
    "    result=pd.read_csv(file_path)\n",
    "    result=make_wifi_dict(result)\n",
    "    result=make_struct_time(result)\n",
    "    return result\n",
    "\n",
    "meta_df=pd.read_csv('data/训练数据-ccf_first_round_shop_info.csv')\n",
    "train_df=load_data('data/训练数据-ccf_first_round_user_shop_behavior.csv')\n",
    "test_df=load_data('data/AB榜测试集-evaluation_public.csv')\n",
    "# 加入商店信息\n",
    "train_df=pd.merge(train_df,meta_df[['shop_id','mall_id']],on='shop_id',how='left')"
   ]
  },
  {
   "cell_type": "code",
   "execution_count": 3,
   "metadata": {
    "collapsed": true
   },
   "outputs": [],
   "source": [
    "x_train=train_df"
   ]
  },
  {
   "cell_type": "code",
   "execution_count": 3,
   "metadata": {
    "collapsed": true
   },
   "outputs": [],
   "source": [
    "# 构造线下验证集\n",
    "x_train=train_df[train_df.time_stamp<'2017-08-30 00:00']\n",
    "x_val=train_df[train_df.time_stamp>='2017-08-30 00:00']"
   ]
  },
  {
   "cell_type": "code",
   "execution_count": 4,
   "metadata": {},
   "outputs": [
    {
     "data": {
      "text/html": [
       "<div>\n",
       "<style>\n",
       "    .dataframe thead tr:only-child th {\n",
       "        text-align: right;\n",
       "    }\n",
       "\n",
       "    .dataframe thead th {\n",
       "        text-align: left;\n",
       "    }\n",
       "\n",
       "    .dataframe tbody tr th {\n",
       "        vertical-align: top;\n",
       "    }\n",
       "</style>\n",
       "<table border=\"1\" class=\"dataframe\">\n",
       "  <thead>\n",
       "    <tr style=\"text-align: right;\">\n",
       "      <th></th>\n",
       "      <th>user_id</th>\n",
       "      <th>shop_id</th>\n",
       "      <th>time_stamp</th>\n",
       "      <th>longitude</th>\n",
       "      <th>latitude</th>\n",
       "      <th>wifi_infos</th>\n",
       "      <th>time</th>\n",
       "      <th>hour</th>\n",
       "      <th>wday</th>\n",
       "      <th>mall_id</th>\n",
       "    </tr>\n",
       "  </thead>\n",
       "  <tbody>\n",
       "    <tr>\n",
       "      <th>0</th>\n",
       "      <td>u_376</td>\n",
       "      <td>s_2871718</td>\n",
       "      <td>2017-08-06 21:20</td>\n",
       "      <td>122.308291</td>\n",
       "      <td>32.088040</td>\n",
       "      <td>{'b_5857370': -68, 'b_56326644': -89, 'b_28723...</td>\n",
       "      <td>21.333333</td>\n",
       "      <td>21</td>\n",
       "      <td>6</td>\n",
       "      <td>m_1409</td>\n",
       "    </tr>\n",
       "    <tr>\n",
       "      <th>1</th>\n",
       "      <td>u_376</td>\n",
       "      <td>s_2871718</td>\n",
       "      <td>2017-08-06 21:20</td>\n",
       "      <td>122.308162</td>\n",
       "      <td>32.087970</td>\n",
       "      <td>{'b_6396479': -57, 'b_5857370': -68, 'b_563281...</td>\n",
       "      <td>21.333333</td>\n",
       "      <td>21</td>\n",
       "      <td>6</td>\n",
       "      <td>m_1409</td>\n",
       "    </tr>\n",
       "    <tr>\n",
       "      <th>2</th>\n",
       "      <td>u_1041</td>\n",
       "      <td>s_181637</td>\n",
       "      <td>2017-08-02 13:10</td>\n",
       "      <td>117.365255</td>\n",
       "      <td>40.638214</td>\n",
       "      <td>{'b_8006442': -71, 'b_33503892': -56, 'b_80063...</td>\n",
       "      <td>13.166667</td>\n",
       "      <td>13</td>\n",
       "      <td>2</td>\n",
       "      <td>m_4079</td>\n",
       "    </tr>\n",
       "    <tr>\n",
       "      <th>3</th>\n",
       "      <td>u_1158</td>\n",
       "      <td>s_609470</td>\n",
       "      <td>2017-08-13 12:30</td>\n",
       "      <td>121.134451</td>\n",
       "      <td>31.197416</td>\n",
       "      <td>{'b_26250581': -64, 'b_52934996': -79, 'b_2625...</td>\n",
       "      <td>12.500000</td>\n",
       "      <td>12</td>\n",
       "      <td>6</td>\n",
       "      <td>m_6587</td>\n",
       "    </tr>\n",
       "    <tr>\n",
       "      <th>4</th>\n",
       "      <td>u_1654</td>\n",
       "      <td>s_3816766</td>\n",
       "      <td>2017-08-25 19:50</td>\n",
       "      <td>122.255867</td>\n",
       "      <td>31.351320</td>\n",
       "      <td>{'b_54466444': -86, 'b_21685901': -91, 'b_3900...</td>\n",
       "      <td>19.833333</td>\n",
       "      <td>19</td>\n",
       "      <td>4</td>\n",
       "      <td>m_3005</td>\n",
       "    </tr>\n",
       "  </tbody>\n",
       "</table>\n",
       "</div>"
      ],
      "text/plain": [
       "  user_id    shop_id        time_stamp   longitude   latitude  \\\n",
       "0   u_376  s_2871718  2017-08-06 21:20  122.308291  32.088040   \n",
       "1   u_376  s_2871718  2017-08-06 21:20  122.308162  32.087970   \n",
       "2  u_1041   s_181637  2017-08-02 13:10  117.365255  40.638214   \n",
       "3  u_1158   s_609470  2017-08-13 12:30  121.134451  31.197416   \n",
       "4  u_1654  s_3816766  2017-08-25 19:50  122.255867  31.351320   \n",
       "\n",
       "                                          wifi_infos       time  hour  wday  \\\n",
       "0  {'b_5857370': -68, 'b_56326644': -89, 'b_28723...  21.333333    21     6   \n",
       "1  {'b_6396479': -57, 'b_5857370': -68, 'b_563281...  21.333333    21     6   \n",
       "2  {'b_8006442': -71, 'b_33503892': -56, 'b_80063...  13.166667    13     2   \n",
       "3  {'b_26250581': -64, 'b_52934996': -79, 'b_2625...  12.500000    12     6   \n",
       "4  {'b_54466444': -86, 'b_21685901': -91, 'b_3900...  19.833333    19     4   \n",
       "\n",
       "  mall_id  \n",
       "0  m_1409  \n",
       "1  m_1409  \n",
       "2  m_4079  \n",
       "3  m_6587  \n",
       "4  m_3005  "
      ]
     },
     "execution_count": 4,
     "metadata": {},
     "output_type": "execute_result"
    }
   ],
   "source": [
    "x_train.head()"
   ]
  },
  {
   "cell_type": "markdown",
   "metadata": {},
   "source": [
    "## 添加特征"
   ]
  },
  {
   "cell_type": "code",
   "execution_count": 5,
   "metadata": {
    "collapsed": true
   },
   "outputs": [],
   "source": [
    "# 计算两点之间距离\n",
    "def cal_distance(lat1, lon1, lat2, lon2):\n",
    "    dx = np.abs(lon1 - lon2)  # 经度差\n",
    "    dy = np.abs(lat1 - lat2)  # 维度差\n",
    "    b = (lat1 + lat2) / 2.0\n",
    "    Lx = 6371004.0 * (dx / 57.2958) * np.cos(b / 57.2958)\n",
    "    Ly = 6371004.0 * (dy / 57.2958)\n",
    "    L = (Lx ** 2 + Ly ** 2) ** 0.5\n",
    "    return L\n",
    "\n",
    "# 计算wifi稀疏矩阵\n",
    "def add_one_hot_wifi(df1,df2):\n",
    "    vec = DictVectorizer()\n",
    "    vec.fit(df1.wifi_infos)\n",
    "    result=vec.transform(df2.wifi_infos).toarray()\n",
    "    return result\n",
    "\n",
    "# 计算geo稀疏矩阵/定位经纬度\n",
    "def add_one_hot_geo(df):\n",
    "    return df[['longitude','latitude']].values\n",
    "\n",
    "# 增加时间特征\n",
    "def add_time(df):\n",
    "    return df[['time','wday']].values\n",
    "\n",
    "def add_feats(df1,df2):\n",
    "    feats=[]\n",
    "    feats.append(add_one_hot_wifi(df1,df2))\n",
    "    feats.append(add_one_hot_geo(df2))\n",
    "#     feats.append(add_time(df2))\n",
    "#     feats=np.concatenate(feats,axis=1)\n",
    "    return feats"
   ]
  },
  {
   "cell_type": "markdown",
   "metadata": {},
   "source": [
    "## 模型训练"
   ]
  },
  {
   "cell_type": "code",
   "execution_count": 6,
   "metadata": {
    "scrolled": true
   },
   "outputs": [
    {
     "name": "stderr",
     "output_type": "stream",
     "text": [
      "\r",
      "  0%|          | 0/97 [00:00<?, ?it/s]"
     ]
    },
    {
     "name": "stdout",
     "output_type": "stream",
     "text": [
      "wifi nb_columns:13294->1772\n"
     ]
    },
    {
     "name": "stderr",
     "output_type": "stream",
     "text": [
      "\r",
      "  1%|          | 1/97 [00:44<1:10:39, 44.16s/it]"
     ]
    },
    {
     "name": "stdout",
     "output_type": "stream",
     "text": [
      "wifi nb_columns:2701->1475\n"
     ]
    },
    {
     "name": "stderr",
     "output_type": "stream",
     "text": [
      "\r",
      "  2%|▏         | 2/97 [00:59<56:27, 35.65s/it]  "
     ]
    },
    {
     "name": "stdout",
     "output_type": "stream",
     "text": [
      "wifi nb_columns:4461->1603\n"
     ]
    },
    {
     "name": "stderr",
     "output_type": "stream",
     "text": [
      "\r",
      "  3%|▎         | 3/97 [01:18<47:55, 30.59s/it]"
     ]
    },
    {
     "name": "stdout",
     "output_type": "stream",
     "text": [
      "wifi nb_columns:5217->2282\n"
     ]
    },
    {
     "name": "stderr",
     "output_type": "stream",
     "text": [
      "\r",
      "  4%|▍         | 4/97 [01:32<39:22, 25.40s/it]"
     ]
    },
    {
     "name": "stdout",
     "output_type": "stream",
     "text": [
      "wifi nb_columns:5871->1680\n"
     ]
    },
    {
     "name": "stderr",
     "output_type": "stream",
     "text": [
      "\r",
      "  5%|▌         | 5/97 [02:00<40:31, 26.43s/it]"
     ]
    },
    {
     "name": "stdout",
     "output_type": "stream",
     "text": [
      "wifi nb_columns:4485->1748\n"
     ]
    },
    {
     "name": "stderr",
     "output_type": "stream",
     "text": [
      "\r",
      "  6%|▌         | 6/97 [02:19<36:19, 23.96s/it]"
     ]
    },
    {
     "name": "stdout",
     "output_type": "stream",
     "text": [
      "wifi nb_columns:9398->2541\n"
     ]
    },
    {
     "name": "stderr",
     "output_type": "stream",
     "text": [
      "\r",
      "  7%|▋         | 7/97 [02:55<41:43, 27.81s/it]"
     ]
    },
    {
     "name": "stdout",
     "output_type": "stream",
     "text": [
      "wifi nb_columns:5483->1478\n"
     ]
    },
    {
     "name": "stderr",
     "output_type": "stream",
     "text": [
      "\r",
      "  8%|▊         | 8/97 [03:27<43:06, 29.06s/it]"
     ]
    },
    {
     "name": "stdout",
     "output_type": "stream",
     "text": [
      "wifi nb_columns:4242->1745\n"
     ]
    },
    {
     "name": "stderr",
     "output_type": "stream",
     "text": [
      "\r",
      "  9%|▉         | 9/97 [03:48<38:57, 26.56s/it]"
     ]
    },
    {
     "name": "stdout",
     "output_type": "stream",
     "text": [
      "wifi nb_columns:1552->1474\n"
     ]
    },
    {
     "name": "stderr",
     "output_type": "stream",
     "text": [
      "\r",
      " 10%|█         | 10/97 [03:52<28:47, 19.85s/it]"
     ]
    },
    {
     "name": "stdout",
     "output_type": "stream",
     "text": [
      "wifi nb_columns:6298->2061\n"
     ]
    },
    {
     "name": "stderr",
     "output_type": "stream",
     "text": [
      "\r",
      " 11%|█▏        | 11/97 [08:48<2:27:13, 102.72s/it]"
     ]
    },
    {
     "name": "stdout",
     "output_type": "stream",
     "text": [
      "wifi nb_columns:10134->2118\n"
     ]
    },
    {
     "name": "stderr",
     "output_type": "stream",
     "text": [
      "\r",
      " 12%|█▏        | 12/97 [09:26<1:57:43, 83.10s/it] "
     ]
    },
    {
     "name": "stdout",
     "output_type": "stream",
     "text": [
      "wifi nb_columns:4566->2179\n"
     ]
    },
    {
     "name": "stderr",
     "output_type": "stream",
     "text": [
      "\r",
      " 13%|█▎        | 13/97 [09:41<1:27:40, 62.63s/it]"
     ]
    },
    {
     "name": "stdout",
     "output_type": "stream",
     "text": [
      "wifi nb_columns:7852->1483\n"
     ]
    },
    {
     "name": "stderr",
     "output_type": "stream",
     "text": [
      "\r",
      " 14%|█▍        | 14/97 [10:05<1:10:41, 51.10s/it]"
     ]
    },
    {
     "name": "stdout",
     "output_type": "stream",
     "text": [
      "wifi nb_columns:2759->1564\n"
     ]
    },
    {
     "name": "stderr",
     "output_type": "stream",
     "text": [
      "\r",
      " 15%|█▌        | 15/97 [10:12<52:00, 38.06s/it]  "
     ]
    },
    {
     "name": "stdout",
     "output_type": "stream",
     "text": [
      "wifi nb_columns:9505->2868\n"
     ]
    },
    {
     "name": "stderr",
     "output_type": "stream",
     "text": [
      "\r",
      " 16%|█▋        | 16/97 [10:34<44:46, 33.17s/it]"
     ]
    },
    {
     "name": "stdout",
     "output_type": "stream",
     "text": [
      "wifi nb_columns:2187->1712\n"
     ]
    },
    {
     "name": "stderr",
     "output_type": "stream",
     "text": [
      "\r",
      " 18%|█▊        | 17/97 [10:42<34:07, 25.59s/it]"
     ]
    },
    {
     "name": "stdout",
     "output_type": "stream",
     "text": [
      "wifi nb_columns:7978->3143\n"
     ]
    },
    {
     "name": "stderr",
     "output_type": "stream",
     "text": [
      "\r",
      " 19%|█▊        | 18/97 [11:22<39:19, 29.87s/it]"
     ]
    },
    {
     "name": "stdout",
     "output_type": "stream",
     "text": [
      "wifi nb_columns:3280->1952\n"
     ]
    },
    {
     "name": "stderr",
     "output_type": "stream",
     "text": [
      "\r",
      " 20%|█▉        | 19/97 [11:32<31:10, 23.98s/it]"
     ]
    },
    {
     "name": "stdout",
     "output_type": "stream",
     "text": [
      "wifi nb_columns:4606->1620\n"
     ]
    },
    {
     "name": "stderr",
     "output_type": "stream",
     "text": [
      "\r",
      " 21%|██        | 20/97 [12:03<33:27, 26.07s/it]"
     ]
    },
    {
     "name": "stdout",
     "output_type": "stream",
     "text": [
      "wifi nb_columns:4543->1422\n"
     ]
    },
    {
     "name": "stderr",
     "output_type": "stream",
     "text": [
      "\r",
      " 22%|██▏       | 21/97 [12:18<28:56, 22.85s/it]"
     ]
    },
    {
     "name": "stdout",
     "output_type": "stream",
     "text": [
      "wifi nb_columns:5159->2235\n"
     ]
    },
    {
     "name": "stderr",
     "output_type": "stream",
     "text": [
      "\r",
      " 23%|██▎       | 22/97 [12:33<25:30, 20.41s/it]"
     ]
    },
    {
     "name": "stdout",
     "output_type": "stream",
     "text": [
      "wifi nb_columns:4110->1968\n"
     ]
    },
    {
     "name": "stderr",
     "output_type": "stream",
     "text": [
      "\r",
      " 24%|██▎       | 23/97 [12:46<22:24, 18.17s/it]"
     ]
    },
    {
     "name": "stdout",
     "output_type": "stream",
     "text": [
      "wifi nb_columns:6699->1671\n"
     ]
    },
    {
     "name": "stderr",
     "output_type": "stream",
     "text": [
      "\r",
      " 25%|██▍       | 24/97 [13:32<32:05, 26.38s/it]"
     ]
    },
    {
     "name": "stdout",
     "output_type": "stream",
     "text": [
      "wifi nb_columns:1973->1837\n"
     ]
    },
    {
     "name": "stderr",
     "output_type": "stream",
     "text": [
      "\r",
      " 26%|██▌       | 25/97 [13:37<24:12, 20.18s/it]"
     ]
    },
    {
     "name": "stdout",
     "output_type": "stream",
     "text": [
      "wifi nb_columns:4298->2256\n"
     ]
    },
    {
     "name": "stderr",
     "output_type": "stream",
     "text": [
      "\r",
      " 27%|██▋       | 26/97 [13:54<22:32, 19.05s/it]"
     ]
    },
    {
     "name": "stdout",
     "output_type": "stream",
     "text": [
      "wifi nb_columns:4375->1486\n"
     ]
    },
    {
     "name": "stderr",
     "output_type": "stream",
     "text": [
      "\r",
      " 28%|██▊       | 27/97 [14:08<20:25, 17.51s/it]"
     ]
    },
    {
     "name": "stdout",
     "output_type": "stream",
     "text": [
      "wifi nb_columns:1865->1728\n"
     ]
    },
    {
     "name": "stderr",
     "output_type": "stream",
     "text": [
      "\r",
      " 29%|██▉       | 28/97 [14:13<16:00, 13.92s/it]"
     ]
    },
    {
     "name": "stdout",
     "output_type": "stream",
     "text": [
      "wifi nb_columns:3510->2349\n"
     ]
    },
    {
     "name": "stderr",
     "output_type": "stream",
     "text": [
      "\r",
      " 30%|██▉       | 29/97 [14:22<13:54, 12.28s/it]"
     ]
    },
    {
     "name": "stdout",
     "output_type": "stream",
     "text": [
      "wifi nb_columns:5708->2098\n"
     ]
    },
    {
     "name": "stderr",
     "output_type": "stream",
     "text": [
      "\r",
      " 31%|███       | 30/97 [14:39<15:34, 13.94s/it]"
     ]
    },
    {
     "name": "stdout",
     "output_type": "stream",
     "text": [
      "wifi nb_columns:4203->1862\n"
     ]
    },
    {
     "name": "stderr",
     "output_type": "stream",
     "text": [
      "\r",
      " 32%|███▏      | 31/97 [14:50<14:16, 12.97s/it]"
     ]
    },
    {
     "name": "stdout",
     "output_type": "stream",
     "text": [
      "wifi nb_columns:3250->1674\n"
     ]
    },
    {
     "name": "stderr",
     "output_type": "stream",
     "text": [
      "\r",
      " 33%|███▎      | 32/97 [15:04<14:11, 13.11s/it]"
     ]
    },
    {
     "name": "stdout",
     "output_type": "stream",
     "text": [
      "wifi nb_columns:3983->1728\n"
     ]
    },
    {
     "name": "stderr",
     "output_type": "stream",
     "text": [
      "\r",
      " 34%|███▍      | 33/97 [15:14<13:15, 12.42s/it]"
     ]
    },
    {
     "name": "stdout",
     "output_type": "stream",
     "text": [
      "wifi nb_columns:2224->1555\n"
     ]
    },
    {
     "name": "stderr",
     "output_type": "stream",
     "text": [
      "\r",
      " 35%|███▌      | 34/97 [15:20<11:00, 10.48s/it]"
     ]
    },
    {
     "name": "stdout",
     "output_type": "stream",
     "text": [
      "wifi nb_columns:4405->2195\n"
     ]
    },
    {
     "name": "stderr",
     "output_type": "stream",
     "text": [
      "\r",
      " 36%|███▌      | 35/97 [15:29<10:11,  9.86s/it]"
     ]
    },
    {
     "name": "stdout",
     "output_type": "stream",
     "text": [
      "wifi nb_columns:3218->1732\n"
     ]
    },
    {
     "name": "stderr",
     "output_type": "stream",
     "text": [
      "\r",
      " 37%|███▋      | 36/97 [15:37<09:25,  9.27s/it]"
     ]
    },
    {
     "name": "stdout",
     "output_type": "stream",
     "text": [
      "wifi nb_columns:2212->2036\n"
     ]
    },
    {
     "name": "stderr",
     "output_type": "stream",
     "text": [
      "\r",
      " 38%|███▊      | 37/97 [15:41<07:55,  7.92s/it]"
     ]
    },
    {
     "name": "stdout",
     "output_type": "stream",
     "text": [
      "wifi nb_columns:2583->1790\n"
     ]
    },
    {
     "name": "stderr",
     "output_type": "stream",
     "text": [
      "\r",
      " 39%|███▉      | 38/97 [15:50<07:57,  8.09s/it]"
     ]
    },
    {
     "name": "stdout",
     "output_type": "stream",
     "text": [
      "wifi nb_columns:3422->1806\n"
     ]
    },
    {
     "name": "stderr",
     "output_type": "stream",
     "text": [
      "\r",
      " 40%|████      | 39/97 [16:02<08:51,  9.16s/it]"
     ]
    },
    {
     "name": "stdout",
     "output_type": "stream",
     "text": [
      "wifi nb_columns:3819->1736\n"
     ]
    },
    {
     "name": "stderr",
     "output_type": "stream",
     "text": [
      "\r",
      " 41%|████      | 40/97 [16:12<09:07,  9.60s/it]"
     ]
    },
    {
     "name": "stdout",
     "output_type": "stream",
     "text": [
      "wifi nb_columns:5369->1757\n"
     ]
    },
    {
     "name": "stderr",
     "output_type": "stream",
     "text": [
      "\r",
      " 42%|████▏     | 41/97 [16:34<12:15, 13.13s/it]"
     ]
    },
    {
     "name": "stdout",
     "output_type": "stream",
     "text": [
      "wifi nb_columns:3126->2258\n"
     ]
    },
    {
     "name": "stderr",
     "output_type": "stream",
     "text": [
      "\r",
      " 43%|████▎     | 42/97 [16:46<11:47, 12.86s/it]"
     ]
    },
    {
     "name": "stdout",
     "output_type": "stream",
     "text": [
      "wifi nb_columns:4592->2119\n"
     ]
    },
    {
     "name": "stderr",
     "output_type": "stream",
     "text": [
      "\r",
      " 44%|████▍     | 43/97 [16:57<11:01, 12.25s/it]"
     ]
    },
    {
     "name": "stdout",
     "output_type": "stream",
     "text": [
      "wifi nb_columns:3078->1838\n"
     ]
    },
    {
     "name": "stderr",
     "output_type": "stream",
     "text": [
      "\r",
      " 45%|████▌     | 44/97 [17:09<10:45, 12.18s/it]"
     ]
    },
    {
     "name": "stdout",
     "output_type": "stream",
     "text": [
      "wifi nb_columns:3780->1739\n"
     ]
    },
    {
     "name": "stderr",
     "output_type": "stream",
     "text": [
      "\r",
      " 46%|████▋     | 45/97 [17:20<10:19, 11.91s/it]"
     ]
    },
    {
     "name": "stdout",
     "output_type": "stream",
     "text": [
      "wifi nb_columns:5410->1693\n"
     ]
    },
    {
     "name": "stderr",
     "output_type": "stream",
     "text": [
      "\r",
      " 47%|████▋     | 46/97 [17:55<16:07, 18.97s/it]"
     ]
    },
    {
     "name": "stdout",
     "output_type": "stream",
     "text": [
      "wifi nb_columns:4399->1804\n"
     ]
    },
    {
     "name": "stderr",
     "output_type": "stream",
     "text": [
      "\r",
      " 48%|████▊     | 47/97 [18:11<15:01, 18.04s/it]"
     ]
    },
    {
     "name": "stdout",
     "output_type": "stream",
     "text": [
      "wifi nb_columns:3067->1561\n"
     ]
    },
    {
     "name": "stderr",
     "output_type": "stream",
     "text": [
      "\r",
      " 49%|████▉     | 48/97 [18:22<12:51, 15.74s/it]"
     ]
    },
    {
     "name": "stdout",
     "output_type": "stream",
     "text": [
      "wifi nb_columns:2646->2398\n"
     ]
    },
    {
     "name": "stderr",
     "output_type": "stream",
     "text": [
      "\r",
      " 51%|█████     | 49/97 [18:27<10:12, 12.75s/it]"
     ]
    },
    {
     "name": "stdout",
     "output_type": "stream",
     "text": [
      "wifi nb_columns:4025->2226\n"
     ]
    },
    {
     "name": "stderr",
     "output_type": "stream",
     "text": [
      "\r",
      " 52%|█████▏    | 50/97 [18:36<08:57, 11.44s/it]"
     ]
    },
    {
     "name": "stdout",
     "output_type": "stream",
     "text": [
      "wifi nb_columns:2926->1957\n"
     ]
    },
    {
     "name": "stderr",
     "output_type": "stream",
     "text": [
      "\r",
      " 53%|█████▎    | 51/97 [18:46<08:28, 11.05s/it]"
     ]
    },
    {
     "name": "stdout",
     "output_type": "stream",
     "text": [
      "wifi nb_columns:5207->2115\n"
     ]
    },
    {
     "name": "stderr",
     "output_type": "stream",
     "text": [
      "\r",
      " 54%|█████▎    | 52/97 [19:04<09:46, 13.04s/it]"
     ]
    },
    {
     "name": "stdout",
     "output_type": "stream",
     "text": [
      "wifi nb_columns:3017->1897\n"
     ]
    },
    {
     "name": "stderr",
     "output_type": "stream",
     "text": [
      "\r",
      " 55%|█████▍    | 53/97 [19:11<08:13, 11.22s/it]"
     ]
    },
    {
     "name": "stdout",
     "output_type": "stream",
     "text": [
      "wifi nb_columns:1839->1375\n"
     ]
    },
    {
     "name": "stderr",
     "output_type": "stream",
     "text": [
      "\r",
      " 56%|█████▌    | 54/97 [19:17<07:04,  9.88s/it]"
     ]
    },
    {
     "name": "stdout",
     "output_type": "stream",
     "text": [
      "wifi nb_columns:2719->2240\n"
     ]
    },
    {
     "name": "stderr",
     "output_type": "stream",
     "text": [
      "\r",
      " 57%|█████▋    | 55/97 [19:25<06:27,  9.22s/it]"
     ]
    },
    {
     "name": "stdout",
     "output_type": "stream",
     "text": [
      "wifi nb_columns:3368->1610\n"
     ]
    },
    {
     "name": "stderr",
     "output_type": "stream",
     "text": [
      "\r",
      " 58%|█████▊    | 56/97 [19:35<06:29,  9.51s/it]"
     ]
    },
    {
     "name": "stdout",
     "output_type": "stream",
     "text": [
      "wifi nb_columns:4040->1644\n"
     ]
    },
    {
     "name": "stderr",
     "output_type": "stream",
     "text": [
      "\r",
      " 59%|█████▉    | 57/97 [19:49<07:16, 10.92s/it]"
     ]
    },
    {
     "name": "stdout",
     "output_type": "stream",
     "text": [
      "wifi nb_columns:4922->1791\n"
     ]
    },
    {
     "name": "stderr",
     "output_type": "stream",
     "text": [
      "\r",
      " 60%|█████▉    | 58/97 [20:25<11:51, 18.25s/it]"
     ]
    },
    {
     "name": "stdout",
     "output_type": "stream",
     "text": [
      "wifi nb_columns:5378->2689\n"
     ]
    },
    {
     "name": "stderr",
     "output_type": "stream",
     "text": [
      "\r",
      " 61%|██████    | 59/97 [20:42<11:22, 17.95s/it]"
     ]
    },
    {
     "name": "stdout",
     "output_type": "stream",
     "text": [
      "wifi nb_columns:3585->1735\n"
     ]
    },
    {
     "name": "stderr",
     "output_type": "stream",
     "text": [
      "\r",
      " 62%|██████▏   | 60/97 [20:57<10:32, 17.09s/it]"
     ]
    },
    {
     "name": "stdout",
     "output_type": "stream",
     "text": [
      "wifi nb_columns:4723->2557\n"
     ]
    },
    {
     "name": "stderr",
     "output_type": "stream",
     "text": [
      "\r",
      " 63%|██████▎   | 61/97 [21:13<09:58, 16.62s/it]"
     ]
    },
    {
     "name": "stdout",
     "output_type": "stream",
     "text": [
      "wifi nb_columns:4467->1954\n"
     ]
    },
    {
     "name": "stderr",
     "output_type": "stream",
     "text": [
      "\r",
      " 64%|██████▍   | 62/97 [21:22<08:22, 14.35s/it]"
     ]
    },
    {
     "name": "stdout",
     "output_type": "stream",
     "text": [
      "wifi nb_columns:4415->1633\n"
     ]
    },
    {
     "name": "stderr",
     "output_type": "stream",
     "text": [
      "\r",
      " 65%|██████▍   | 63/97 [21:37<08:15, 14.56s/it]"
     ]
    },
    {
     "name": "stdout",
     "output_type": "stream",
     "text": [
      "wifi nb_columns:3693->2757\n"
     ]
    },
    {
     "name": "stderr",
     "output_type": "stream",
     "text": [
      "\r",
      " 66%|██████▌   | 64/97 [21:45<07:02, 12.79s/it]"
     ]
    },
    {
     "name": "stdout",
     "output_type": "stream",
     "text": [
      "wifi nb_columns:4723->2049\n"
     ]
    },
    {
     "name": "stderr",
     "output_type": "stream",
     "text": [
      "\r",
      " 67%|██████▋   | 65/97 [21:59<06:53, 12.92s/it]"
     ]
    },
    {
     "name": "stdout",
     "output_type": "stream",
     "text": [
      "wifi nb_columns:3863->1867\n"
     ]
    },
    {
     "name": "stderr",
     "output_type": "stream",
     "text": [
      "\r",
      " 68%|██████▊   | 66/97 [22:07<06:01, 11.67s/it]"
     ]
    },
    {
     "name": "stdout",
     "output_type": "stream",
     "text": [
      "wifi nb_columns:6189->1672\n"
     ]
    },
    {
     "name": "stderr",
     "output_type": "stream",
     "text": [
      "\r",
      " 69%|██████▉   | 67/97 [22:48<10:10, 20.34s/it]"
     ]
    },
    {
     "name": "stdout",
     "output_type": "stream",
     "text": [
      "wifi nb_columns:2043->1479\n"
     ]
    },
    {
     "name": "stderr",
     "output_type": "stream",
     "text": [
      "\r",
      " 70%|███████   | 68/97 [22:56<08:04, 16.70s/it]"
     ]
    },
    {
     "name": "stdout",
     "output_type": "stream",
     "text": [
      "wifi nb_columns:2764->2003\n"
     ]
    },
    {
     "name": "stderr",
     "output_type": "stream",
     "text": [
      "\r",
      " 71%|███████   | 69/97 [23:03<06:21, 13.64s/it]"
     ]
    },
    {
     "name": "stdout",
     "output_type": "stream",
     "text": [
      "wifi nb_columns:4068->2222\n"
     ]
    },
    {
     "name": "stderr",
     "output_type": "stream",
     "text": [
      "\r",
      " 72%|███████▏  | 70/97 [23:11<05:24, 12.01s/it]"
     ]
    },
    {
     "name": "stdout",
     "output_type": "stream",
     "text": [
      "wifi nb_columns:1934->1578\n"
     ]
    },
    {
     "name": "stderr",
     "output_type": "stream",
     "text": [
      "\r",
      " 73%|███████▎  | 71/97 [23:19<04:42, 10.85s/it]"
     ]
    },
    {
     "name": "stdout",
     "output_type": "stream",
     "text": [
      "wifi nb_columns:2712->1924\n"
     ]
    },
    {
     "name": "stderr",
     "output_type": "stream",
     "text": [
      "\r",
      " 74%|███████▍  | 72/97 [23:28<04:14, 10.17s/it]"
     ]
    },
    {
     "name": "stdout",
     "output_type": "stream",
     "text": [
      "wifi nb_columns:2986->1874\n"
     ]
    },
    {
     "name": "stderr",
     "output_type": "stream",
     "text": [
      "\r",
      " 75%|███████▌  | 73/97 [23:36<03:50,  9.61s/it]"
     ]
    },
    {
     "name": "stdout",
     "output_type": "stream",
     "text": [
      "wifi nb_columns:4416->2127\n"
     ]
    },
    {
     "name": "stderr",
     "output_type": "stream",
     "text": [
      "\r",
      " 76%|███████▋  | 74/97 [23:52<04:27, 11.64s/it]"
     ]
    },
    {
     "name": "stdout",
     "output_type": "stream",
     "text": [
      "wifi nb_columns:4312->1750\n"
     ]
    },
    {
     "name": "stderr",
     "output_type": "stream",
     "text": [
      "\r",
      " 77%|███████▋  | 75/97 [24:03<04:08, 11.28s/it]"
     ]
    },
    {
     "name": "stdout",
     "output_type": "stream",
     "text": [
      "wifi nb_columns:2514->1566\n"
     ]
    },
    {
     "name": "stderr",
     "output_type": "stream",
     "text": [
      "\r",
      " 78%|███████▊  | 76/97 [24:12<03:45, 10.72s/it]"
     ]
    },
    {
     "name": "stdout",
     "output_type": "stream",
     "text": [
      "wifi nb_columns:2966->1431\n"
     ]
    },
    {
     "name": "stderr",
     "output_type": "stream",
     "text": [
      "\r",
      " 79%|███████▉  | 77/97 [24:22<03:28, 10.43s/it]"
     ]
    },
    {
     "name": "stdout",
     "output_type": "stream",
     "text": [
      "wifi nb_columns:3248->2106\n"
     ]
    },
    {
     "name": "stderr",
     "output_type": "stream",
     "text": [
      "\r",
      " 80%|████████  | 78/97 [24:31<03:10, 10.03s/it]"
     ]
    },
    {
     "name": "stdout",
     "output_type": "stream",
     "text": [
      "wifi nb_columns:5299->2069\n"
     ]
    },
    {
     "name": "stderr",
     "output_type": "stream",
     "text": [
      "\r",
      " 81%|████████▏ | 79/97 [24:50<03:51, 12.88s/it]"
     ]
    },
    {
     "name": "stdout",
     "output_type": "stream",
     "text": [
      "wifi nb_columns:5859->1626\n"
     ]
    },
    {
     "name": "stderr",
     "output_type": "stream",
     "text": [
      "\r",
      " 82%|████████▏ | 80/97 [25:13<04:26, 15.69s/it]"
     ]
    },
    {
     "name": "stdout",
     "output_type": "stream",
     "text": [
      "wifi nb_columns:1013->1002\n"
     ]
    },
    {
     "name": "stderr",
     "output_type": "stream",
     "text": [
      "\r",
      " 84%|████████▎ | 81/97 [25:24<03:50, 14.43s/it]"
     ]
    },
    {
     "name": "stdout",
     "output_type": "stream",
     "text": [
      "wifi nb_columns:3798->1575\n"
     ]
    },
    {
     "name": "stderr",
     "output_type": "stream",
     "text": [
      "\r",
      " 85%|████████▍ | 82/97 [25:37<03:31, 14.09s/it]"
     ]
    },
    {
     "name": "stdout",
     "output_type": "stream",
     "text": [
      "wifi nb_columns:2326->1802\n"
     ]
    },
    {
     "name": "stderr",
     "output_type": "stream",
     "text": [
      "\r",
      " 86%|████████▌ | 83/97 [25:45<02:49, 12.11s/it]"
     ]
    },
    {
     "name": "stdout",
     "output_type": "stream",
     "text": [
      "wifi nb_columns:3441->2477\n"
     ]
    },
    {
     "name": "stderr",
     "output_type": "stream",
     "text": [
      "\r",
      " 87%|████████▋ | 84/97 [25:53<02:21, 10.90s/it]"
     ]
    },
    {
     "name": "stdout",
     "output_type": "stream",
     "text": [
      "wifi nb_columns:4394->2046\n"
     ]
    },
    {
     "name": "stderr",
     "output_type": "stream",
     "text": [
      "\r",
      " 88%|████████▊ | 85/97 [26:04<02:10, 10.89s/it]"
     ]
    },
    {
     "name": "stdout",
     "output_type": "stream",
     "text": [
      "wifi nb_columns:5331->1845\n"
     ]
    },
    {
     "name": "stderr",
     "output_type": "stream",
     "text": [
      "\r",
      " 89%|████████▊ | 86/97 [26:29<02:47, 15.27s/it]"
     ]
    },
    {
     "name": "stdout",
     "output_type": "stream",
     "text": [
      "wifi nb_columns:2334->1346\n"
     ]
    },
    {
     "name": "stderr",
     "output_type": "stream",
     "text": [
      "\r",
      " 90%|████████▉ | 87/97 [26:45<02:34, 15.50s/it]"
     ]
    },
    {
     "name": "stdout",
     "output_type": "stream",
     "text": [
      "wifi nb_columns:8261->2344\n"
     ]
    },
    {
     "name": "stderr",
     "output_type": "stream",
     "text": [
      "\r",
      " 91%|█████████ | 88/97 [27:12<02:50, 18.97s/it]"
     ]
    },
    {
     "name": "stdout",
     "output_type": "stream",
     "text": [
      "wifi nb_columns:4274->1992\n"
     ]
    },
    {
     "name": "stderr",
     "output_type": "stream",
     "text": [
      "\r",
      " 92%|█████████▏| 89/97 [27:25<02:16, 17.12s/it]"
     ]
    },
    {
     "name": "stdout",
     "output_type": "stream",
     "text": [
      "wifi nb_columns:1739->1415\n"
     ]
    },
    {
     "name": "stderr",
     "output_type": "stream",
     "text": [
      "\r",
      " 93%|█████████▎| 90/97 [27:33<01:40, 14.40s/it]"
     ]
    },
    {
     "name": "stdout",
     "output_type": "stream",
     "text": [
      "wifi nb_columns:2356->2140\n"
     ]
    },
    {
     "name": "stderr",
     "output_type": "stream",
     "text": [
      "\r",
      " 94%|█████████▍| 91/97 [27:40<01:11, 11.97s/it]"
     ]
    },
    {
     "name": "stdout",
     "output_type": "stream",
     "text": [
      "wifi nb_columns:2923->1939\n"
     ]
    },
    {
     "name": "stderr",
     "output_type": "stream",
     "text": [
      "\r",
      " 95%|█████████▍| 92/97 [27:50<00:58, 11.60s/it]"
     ]
    },
    {
     "name": "stdout",
     "output_type": "stream",
     "text": [
      "wifi nb_columns:2115->1526\n"
     ]
    },
    {
     "name": "stderr",
     "output_type": "stream",
     "text": [
      "\r",
      " 96%|█████████▌| 93/97 [27:58<00:41, 10.30s/it]"
     ]
    },
    {
     "name": "stdout",
     "output_type": "stream",
     "text": [
      "wifi nb_columns:3456->1363\n"
     ]
    },
    {
     "name": "stderr",
     "output_type": "stream",
     "text": [
      "\r",
      " 97%|█████████▋| 94/97 [28:18<00:40, 13.35s/it]"
     ]
    },
    {
     "name": "stdout",
     "output_type": "stream",
     "text": [
      "wifi nb_columns:2731->2116\n"
     ]
    },
    {
     "name": "stderr",
     "output_type": "stream",
     "text": [
      "\r",
      " 98%|█████████▊| 95/97 [28:24<00:22, 11.23s/it]"
     ]
    },
    {
     "name": "stdout",
     "output_type": "stream",
     "text": [
      "wifi nb_columns:4779->1648\n"
     ]
    },
    {
     "name": "stderr",
     "output_type": "stream",
     "text": [
      "\r",
      " 99%|█████████▉| 96/97 [28:40<00:12, 12.50s/it]"
     ]
    },
    {
     "name": "stdout",
     "output_type": "stream",
     "text": [
      "wifi nb_columns:3654->1530\n"
     ]
    },
    {
     "name": "stderr",
     "output_type": "stream",
     "text": [
      "100%|██████████| 97/97 [29:15<00:00, 19.35s/it]\n"
     ]
    }
   ],
   "source": [
    "result=[]\n",
    "precision=[]\n",
    "\n",
    "# for mall_id in tqdm(['m_7800','m_690','m_7168','m_6337','m_1377']):\n",
    "for mall_id in tqdm(meta_df.mall_id.unique()):\n",
    "    _x_train=x_train[x_train.mall_id==mall_id]\n",
    "#     _x_val=x_val[x_val.mall_id==mall_id] #\n",
    "    _test_df=test_df[test_df.mall_id==mall_id]\n",
    "    _meta_df=meta_df[meta_df.mall_id==mall_id]\n",
    "    # 构造特征\n",
    "    train_feat=add_feats(_x_train,_x_train)\n",
    "#     val_feat=add_feats(_x_train,_x_val) #\n",
    "    test_feat=add_feats(_x_train,_test_df)\n",
    "    # 降维\n",
    "    nb_wifi_column=train_feat[0].shape[1]\n",
    "    sel = VarianceThreshold(threshold=1)\n",
    "    train_feat[0]=sel.fit_transform(train_feat[0])\n",
    "#     val_feat[0]=sel.transform(val_feat[0]) #\n",
    "    test_feat[0]=sel.transform(test_feat[0])\n",
    "    train_feat=np.concatenate(train_feat,axis=1)\n",
    "#     val_feat=np.concatenate(val_feat,axis=1) #\n",
    "    test_feat=np.concatenate(test_feat,axis=1)\n",
    "    print('wifi nb_columns:{}->{}'.format(nb_wifi_column,train_feat.shape[1]))\n",
    "    # 添加标签\n",
    "    encoder=LabelEncoder()\n",
    "    encoder.fit(_meta_df.shop_id)\n",
    "    train_label=encoder.transform(_x_train.shop_id)\n",
    "#     val_label=encoder.transform(_x_val.shop_id) #\n",
    "    # 训练\n",
    "    nb_class=_meta_df.shape[0]\n",
    "    params = {\n",
    "        'num_class':[nb_class],\n",
    "        'objective': ['multiclass'],\n",
    "        'metric':['multi_error'],\n",
    "        'learning_rate':[0.05],\n",
    "        'feature_fraction': [0.6],\n",
    "        'max_depth': [12],# 14\n",
    "        'num_leaves':[180],# 256\n",
    "        'bagging_fraction': [0.6],\n",
    "        'bagging_freq':[5],\n",
    "        'min_data_in_leaf':[10],\n",
    "        'min_gain_to_split':[0],\n",
    "        'lambda_l1':[1],\n",
    "        'lambda_l2':[1],\n",
    "        'verbose':[0],\n",
    "        'is_unbalance':[True]\n",
    "    }\n",
    "    params=list(ParameterGrid(params))\n",
    "    lgb_train=lgb.Dataset(train_feat,train_label)\n",
    "    model = lgb.train(params[0], lgb_train, num_boost_round=150)\n",
    "    # 模型验证\n",
    "#     proba=model.predict(val_feat)\n",
    "#     predict_label=np.argmax(proba,axis=1)\n",
    "#     ans=pd.DataFrame({'pred':predict_label,'true':val_label})\n",
    "#     score={mall_id:ans[ans.pred==ans.true].shape[0]/ans.shape[0]}\n",
    "#     precision.append(score)\n",
    "#     print(score)\n",
    "    # 预测\n",
    "#     proba=model.predict(test_feat)\n",
    "#     predict_label=np.argmax(proba,axis=1)\n",
    "#     ans=pd.DataFrame({'row_id':_test_df.row_id,'shop_id':encoder.inverse_transform(predict_label)})\n",
    "#     result.append(ans)\n",
    "    # 保存候选集\n",
    "    nb_candidates=7\n",
    "    proba=model.predict(train_feat)\n",
    "    candidates=encoder.inverse_transform(proba.argsort(axis=1)[:,-nb_candidates:])\n",
    "    ans=pd.DataFrame(candidates,index=_x_train.index)\n",
    "    ans.to_hdf('cache/multi/{}_train_full.hdf'.format(mall_id),'data')\n",
    "    proba.sort(axis=1)\n",
    "    ans=pd.DataFrame(proba[:,-nb_candidates:],index=_x_train.index)\n",
    "    ans.to_hdf('cache/multi/{}_train_full.hdf'.format(mall_id),'proba')\n",
    "    ###\n",
    "#     proba=model.predict(val_feat)\n",
    "#     candidates=encoder.inverse_transform(proba.argsort(axis=1)[:,-nb_candidates:])\n",
    "#     ans=pd.DataFrame(candidates,index=_x_val.index)\n",
    "#     ans.to_hdf('cache/multi/{}_val.hdf'.format(mall_id),'data')\n",
    "#     proba.sort(axis=1)\n",
    "#     ans=pd.DataFrame(proba[:,-nb_candidates:],index=_x_val.index)\n",
    "#     ans.to_hdf('cache/multi/{}_val.hdf'.format(mall_id),'proba')\n",
    "    ###\n",
    "    proba=model.predict(test_feat)\n",
    "    candidates=encoder.inverse_transform(proba.argsort(axis=1)[:,-nb_candidates:])\n",
    "    ans=pd.DataFrame(candidates,index=_test_df.row_id)\n",
    "    ans.to_hdf('cache/multi/{}_test.hdf'.format(mall_id),'data')\n",
    "    proba.sort(axis=1)\n",
    "    ans=pd.DataFrame(proba[:,-nb_candidates:],index=_test_df.row_id)\n",
    "    ans.to_hdf('cache/multi/{}_test.hdf'.format(mall_id),'proba')"
   ]
  },
  {
   "cell_type": "code",
   "execution_count": 8,
   "metadata": {
    "scrolled": true
   },
   "outputs": [
    {
     "data": {
      "text/plain": [
       "0.90463675315780256"
      ]
     },
     "execution_count": 8,
     "metadata": {},
     "output_type": "execute_result"
    }
   ],
   "source": [
    "# 线下验证\n",
    "tmp=pd.concat([pd.Series(i) for i in precision])\n",
    "tmp=pd.DataFrame({'mall_id':tmp.index,'precision':tmp.values})\n",
    "t2=x_val[['mall_id','shop_id']].groupby('mall_id',as_index=False)['shop_id'].agg({'count':'count'})\n",
    "t=pd.merge(tmp,t2,on='mall_id',how='inner')\n",
    "sum(t.precision*t['count'])/sum(t['count']) \n",
    "#150：0.90364919322725024\n",
    "#early stopping：0.90777464519520235"
   ]
  },
  {
   "cell_type": "code",
   "execution_count": 62,
   "metadata": {
    "scrolled": true
   },
   "outputs": [
    {
     "name": "stdout",
     "output_type": "stream",
     "text": [
      "(483931, 2)\n"
     ]
    }
   ],
   "source": [
    "# 保存结果\n",
    "tmp=pd.concat(result)\n",
    "print(tmp.shape)\n",
    "tmp.to_csv('result.csv',index=False,sep=',')"
   ]
  },
  {
   "cell_type": "markdown",
   "metadata": {},
   "source": [
    "ideas:\n",
    "\n",
    "1.early_stopping多分类能否提高（貌似没有改善）\n",
    "\n",
    "2.增大候选集到7个（貌似没有改善）/减少到3个\n",
    "\n",
    "3.用户历史\n",
    "\n",
    "4.二分类加入多分类概率信息"
   ]
  },
  {
   "cell_type": "markdown",
   "metadata": {
    "collapsed": true
   },
   "source": [
    "## EDA\n",
    "1.很多错误答案和正确答案的shop经纬度一样\n",
    "\n",
    "2.很多错误答案的置信度分布并不极端，分类器并不自信"
   ]
  },
  {
   "cell_type": "code",
   "execution_count": 138,
   "metadata": {
    "collapsed": true
   },
   "outputs": [],
   "source": [
    "train_proba=model.predict(train_feat)\n",
    "val_proba=model.predict(val_feat)"
   ]
  },
  {
   "cell_type": "code",
   "execution_count": 140,
   "metadata": {
    "scrolled": true
   },
   "outputs": [
    {
     "data": {
      "text/html": [
       "<div>\n",
       "<table border=\"1\" class=\"dataframe\">\n",
       "  <thead>\n",
       "    <tr style=\"text-align: right;\">\n",
       "      <th></th>\n",
       "      <th>0</th>\n",
       "      <th>1</th>\n",
       "      <th>2</th>\n",
       "      <th>3</th>\n",
       "      <th>4</th>\n",
       "    </tr>\n",
       "  </thead>\n",
       "  <tbody>\n",
       "    <tr>\n",
       "      <th>0</th>\n",
       "      <td>s_679110</td>\n",
       "      <td>s_479529</td>\n",
       "      <td>s_712117</td>\n",
       "      <td>s_521874</td>\n",
       "      <td>s_472478</td>\n",
       "    </tr>\n",
       "    <tr>\n",
       "      <th>1</th>\n",
       "      <td>s_685227</td>\n",
       "      <td>s_992598</td>\n",
       "      <td>s_683217</td>\n",
       "      <td>s_682074</td>\n",
       "      <td>s_684555</td>\n",
       "    </tr>\n",
       "    <tr>\n",
       "      <th>2</th>\n",
       "      <td>s_682074</td>\n",
       "      <td>s_683674</td>\n",
       "      <td>s_683671</td>\n",
       "      <td>s_683053</td>\n",
       "      <td>s_684547</td>\n",
       "    </tr>\n",
       "    <tr>\n",
       "      <th>3</th>\n",
       "      <td>s_698556</td>\n",
       "      <td>s_473743</td>\n",
       "      <td>s_539726</td>\n",
       "      <td>s_681760</td>\n",
       "      <td>s_685058</td>\n",
       "    </tr>\n",
       "    <tr>\n",
       "      <th>4</th>\n",
       "      <td>s_809873</td>\n",
       "      <td>s_539726</td>\n",
       "      <td>s_3382317</td>\n",
       "      <td>s_696563</td>\n",
       "      <td>s_461325</td>\n",
       "    </tr>\n",
       "    <tr>\n",
       "      <th>5</th>\n",
       "      <td>s_539726</td>\n",
       "      <td>s_683832</td>\n",
       "      <td>s_1462898</td>\n",
       "      <td>s_685058</td>\n",
       "      <td>s_1114306</td>\n",
       "    </tr>\n",
       "    <tr>\n",
       "      <th>6</th>\n",
       "      <td>s_679110</td>\n",
       "      <td>s_683678</td>\n",
       "      <td>s_685058</td>\n",
       "      <td>s_466068</td>\n",
       "      <td>s_774995</td>\n",
       "    </tr>\n",
       "    <tr>\n",
       "      <th>7</th>\n",
       "      <td>s_683671</td>\n",
       "      <td>s_683821</td>\n",
       "      <td>s_557771</td>\n",
       "      <td>s_2248290</td>\n",
       "      <td>s_635423</td>\n",
       "    </tr>\n",
       "    <tr>\n",
       "      <th>8</th>\n",
       "      <td>s_3382317</td>\n",
       "      <td>s_809873</td>\n",
       "      <td>s_683217</td>\n",
       "      <td>s_696563</td>\n",
       "      <td>s_461325</td>\n",
       "    </tr>\n",
       "    <tr>\n",
       "      <th>9</th>\n",
       "      <td>s_683985</td>\n",
       "      <td>s_465792</td>\n",
       "      <td>s_698556</td>\n",
       "      <td>s_539726</td>\n",
       "      <td>s_685058</td>\n",
       "    </tr>\n",
       "    <tr>\n",
       "      <th>10</th>\n",
       "      <td>s_712117</td>\n",
       "      <td>s_739312</td>\n",
       "      <td>s_521874</td>\n",
       "      <td>s_505726</td>\n",
       "      <td>s_3421010</td>\n",
       "    </tr>\n",
       "    <tr>\n",
       "      <th>11</th>\n",
       "      <td>s_683217</td>\n",
       "      <td>s_503249</td>\n",
       "      <td>s_696563</td>\n",
       "      <td>s_503457</td>\n",
       "      <td>s_3382317</td>\n",
       "    </tr>\n",
       "    <tr>\n",
       "      <th>12</th>\n",
       "      <td>s_539726</td>\n",
       "      <td>s_809873</td>\n",
       "      <td>s_696563</td>\n",
       "      <td>s_684555</td>\n",
       "      <td>s_461325</td>\n",
       "    </tr>\n",
       "    <tr>\n",
       "      <th>13</th>\n",
       "      <td>s_682074</td>\n",
       "      <td>s_683821</td>\n",
       "      <td>s_3812635</td>\n",
       "      <td>s_470182</td>\n",
       "      <td>s_3991685</td>\n",
       "    </tr>\n",
       "    <tr>\n",
       "      <th>14</th>\n",
       "      <td>s_539726</td>\n",
       "      <td>s_681760</td>\n",
       "      <td>s_683832</td>\n",
       "      <td>s_685058</td>\n",
       "      <td>s_1114306</td>\n",
       "    </tr>\n",
       "    <tr>\n",
       "      <th>15</th>\n",
       "      <td>s_479529</td>\n",
       "      <td>s_684245</td>\n",
       "      <td>s_478200</td>\n",
       "      <td>s_3991685</td>\n",
       "      <td>s_3140371</td>\n",
       "    </tr>\n",
       "    <tr>\n",
       "      <th>16</th>\n",
       "      <td>s_465792</td>\n",
       "      <td>s_698556</td>\n",
       "      <td>s_683985</td>\n",
       "      <td>s_685058</td>\n",
       "      <td>s_505726</td>\n",
       "    </tr>\n",
       "    <tr>\n",
       "      <th>17</th>\n",
       "      <td>s_683671</td>\n",
       "      <td>s_684547</td>\n",
       "      <td>s_682074</td>\n",
       "      <td>s_683821</td>\n",
       "      <td>s_684235</td>\n",
       "    </tr>\n",
       "    <tr>\n",
       "      <th>18</th>\n",
       "      <td>s_683217</td>\n",
       "      <td>s_685227</td>\n",
       "      <td>s_683821</td>\n",
       "      <td>s_682074</td>\n",
       "      <td>s_684555</td>\n",
       "    </tr>\n",
       "    <tr>\n",
       "      <th>19</th>\n",
       "      <td>s_683821</td>\n",
       "      <td>s_696563</td>\n",
       "      <td>s_809873</td>\n",
       "      <td>s_539726</td>\n",
       "      <td>s_3382317</td>\n",
       "    </tr>\n",
       "    <tr>\n",
       "      <th>20</th>\n",
       "      <td>s_683671</td>\n",
       "      <td>s_809873</td>\n",
       "      <td>s_683678</td>\n",
       "      <td>s_683985</td>\n",
       "      <td>s_683832</td>\n",
       "    </tr>\n",
       "    <tr>\n",
       "      <th>21</th>\n",
       "      <td>s_684245</td>\n",
       "      <td>s_809873</td>\n",
       "      <td>s_683821</td>\n",
       "      <td>s_684547</td>\n",
       "      <td>s_683671</td>\n",
       "    </tr>\n",
       "    <tr>\n",
       "      <th>22</th>\n",
       "      <td>s_683678</td>\n",
       "      <td>s_683985</td>\n",
       "      <td>s_698556</td>\n",
       "      <td>s_539726</td>\n",
       "      <td>s_685058</td>\n",
       "    </tr>\n",
       "    <tr>\n",
       "      <th>23</th>\n",
       "      <td>s_809873</td>\n",
       "      <td>s_683832</td>\n",
       "      <td>s_683053</td>\n",
       "      <td>s_683678</td>\n",
       "      <td>s_683985</td>\n",
       "    </tr>\n",
       "    <tr>\n",
       "      <th>24</th>\n",
       "      <td>s_684555</td>\n",
       "      <td>s_682074</td>\n",
       "      <td>s_684235</td>\n",
       "      <td>s_683671</td>\n",
       "      <td>s_683821</td>\n",
       "    </tr>\n",
       "    <tr>\n",
       "      <th>25</th>\n",
       "      <td>s_683832</td>\n",
       "      <td>s_683985</td>\n",
       "      <td>s_539726</td>\n",
       "      <td>s_681760</td>\n",
       "      <td>s_685058</td>\n",
       "    </tr>\n",
       "    <tr>\n",
       "      <th>26</th>\n",
       "      <td>s_992598</td>\n",
       "      <td>s_683821</td>\n",
       "      <td>s_685227</td>\n",
       "      <td>s_684555</td>\n",
       "      <td>s_683053</td>\n",
       "    </tr>\n",
       "    <tr>\n",
       "      <th>27</th>\n",
       "      <td>s_592650</td>\n",
       "      <td>s_3140371</td>\n",
       "      <td>s_684245</td>\n",
       "      <td>s_3812635</td>\n",
       "      <td>s_3991685</td>\n",
       "    </tr>\n",
       "    <tr>\n",
       "      <th>28</th>\n",
       "      <td>s_683832</td>\n",
       "      <td>s_684547</td>\n",
       "      <td>s_685227</td>\n",
       "      <td>s_683678</td>\n",
       "      <td>s_683985</td>\n",
       "    </tr>\n",
       "    <tr>\n",
       "      <th>29</th>\n",
       "      <td>s_684547</td>\n",
       "      <td>s_681760</td>\n",
       "      <td>s_685058</td>\n",
       "      <td>s_683985</td>\n",
       "      <td>s_683678</td>\n",
       "    </tr>\n",
       "    <tr>\n",
       "      <th>...</th>\n",
       "      <td>...</td>\n",
       "      <td>...</td>\n",
       "      <td>...</td>\n",
       "      <td>...</td>\n",
       "      <td>...</td>\n",
       "    </tr>\n",
       "    <tr>\n",
       "      <th>1028</th>\n",
       "      <td>s_684547</td>\n",
       "      <td>s_683678</td>\n",
       "      <td>s_683832</td>\n",
       "      <td>s_684235</td>\n",
       "      <td>s_683985</td>\n",
       "    </tr>\n",
       "    <tr>\n",
       "      <th>1029</th>\n",
       "      <td>s_683821</td>\n",
       "      <td>s_684245</td>\n",
       "      <td>s_684547</td>\n",
       "      <td>s_683678</td>\n",
       "      <td>s_683985</td>\n",
       "    </tr>\n",
       "    <tr>\n",
       "      <th>1030</th>\n",
       "      <td>s_683821</td>\n",
       "      <td>s_682074</td>\n",
       "      <td>s_683678</td>\n",
       "      <td>s_683832</td>\n",
       "      <td>s_684235</td>\n",
       "    </tr>\n",
       "    <tr>\n",
       "      <th>1031</th>\n",
       "      <td>s_3167757</td>\n",
       "      <td>s_466068</td>\n",
       "      <td>s_1444403</td>\n",
       "      <td>s_679110</td>\n",
       "      <td>s_662370</td>\n",
       "    </tr>\n",
       "    <tr>\n",
       "      <th>1032</th>\n",
       "      <td>s_2248290</td>\n",
       "      <td>s_685058</td>\n",
       "      <td>s_534067</td>\n",
       "      <td>s_991943</td>\n",
       "      <td>s_696015</td>\n",
       "    </tr>\n",
       "    <tr>\n",
       "      <th>1033</th>\n",
       "      <td>s_712117</td>\n",
       "      <td>s_679110</td>\n",
       "      <td>s_521874</td>\n",
       "      <td>s_479529</td>\n",
       "      <td>s_509650</td>\n",
       "    </tr>\n",
       "    <tr>\n",
       "      <th>1034</th>\n",
       "      <td>s_683985</td>\n",
       "      <td>s_685058</td>\n",
       "      <td>s_683832</td>\n",
       "      <td>s_683678</td>\n",
       "      <td>s_681760</td>\n",
       "    </tr>\n",
       "    <tr>\n",
       "      <th>1035</th>\n",
       "      <td>s_503249</td>\n",
       "      <td>s_809873</td>\n",
       "      <td>s_696563</td>\n",
       "      <td>s_539726</td>\n",
       "      <td>s_3382317</td>\n",
       "    </tr>\n",
       "    <tr>\n",
       "      <th>1036</th>\n",
       "      <td>s_683832</td>\n",
       "      <td>s_539726</td>\n",
       "      <td>s_681760</td>\n",
       "      <td>s_698556</td>\n",
       "      <td>s_685058</td>\n",
       "    </tr>\n",
       "    <tr>\n",
       "      <th>1037</th>\n",
       "      <td>s_465792</td>\n",
       "      <td>s_698556</td>\n",
       "      <td>s_683832</td>\n",
       "      <td>s_685058</td>\n",
       "      <td>s_681760</td>\n",
       "    </tr>\n",
       "    <tr>\n",
       "      <th>1038</th>\n",
       "      <td>s_683671</td>\n",
       "      <td>s_683053</td>\n",
       "      <td>s_684245</td>\n",
       "      <td>s_683674</td>\n",
       "      <td>s_684547</td>\n",
       "    </tr>\n",
       "    <tr>\n",
       "      <th>1039</th>\n",
       "      <td>s_1444403</td>\n",
       "      <td>s_739312</td>\n",
       "      <td>s_679110</td>\n",
       "      <td>s_521874</td>\n",
       "      <td>s_3421010</td>\n",
       "    </tr>\n",
       "    <tr>\n",
       "      <th>1040</th>\n",
       "      <td>s_685227</td>\n",
       "      <td>s_684555</td>\n",
       "      <td>s_683217</td>\n",
       "      <td>s_684235</td>\n",
       "      <td>s_683821</td>\n",
       "    </tr>\n",
       "    <tr>\n",
       "      <th>1041</th>\n",
       "      <td>s_3991685</td>\n",
       "      <td>s_539726</td>\n",
       "      <td>s_683671</td>\n",
       "      <td>s_570408</td>\n",
       "      <td>s_478200</td>\n",
       "    </tr>\n",
       "    <tr>\n",
       "      <th>1042</th>\n",
       "      <td>s_739312</td>\n",
       "      <td>s_679110</td>\n",
       "      <td>s_461325</td>\n",
       "      <td>s_521874</td>\n",
       "      <td>s_3421010</td>\n",
       "    </tr>\n",
       "    <tr>\n",
       "      <th>1043</th>\n",
       "      <td>s_3140371</td>\n",
       "      <td>s_1488950</td>\n",
       "      <td>s_3621982</td>\n",
       "      <td>s_3101804</td>\n",
       "      <td>s_1466124</td>\n",
       "    </tr>\n",
       "    <tr>\n",
       "      <th>1044</th>\n",
       "      <td>s_472478</td>\n",
       "      <td>s_470352</td>\n",
       "      <td>s_521874</td>\n",
       "      <td>s_679110</td>\n",
       "      <td>s_712117</td>\n",
       "    </tr>\n",
       "    <tr>\n",
       "      <th>1045</th>\n",
       "      <td>s_472478</td>\n",
       "      <td>s_470352</td>\n",
       "      <td>s_679110</td>\n",
       "      <td>s_521874</td>\n",
       "      <td>s_712117</td>\n",
       "    </tr>\n",
       "    <tr>\n",
       "      <th>1046</th>\n",
       "      <td>s_683671</td>\n",
       "      <td>s_683985</td>\n",
       "      <td>s_684245</td>\n",
       "      <td>s_684547</td>\n",
       "      <td>s_683678</td>\n",
       "    </tr>\n",
       "    <tr>\n",
       "      <th>1047</th>\n",
       "      <td>s_521874</td>\n",
       "      <td>s_662370</td>\n",
       "      <td>s_470352</td>\n",
       "      <td>s_712117</td>\n",
       "      <td>s_479529</td>\n",
       "    </tr>\n",
       "    <tr>\n",
       "      <th>1048</th>\n",
       "      <td>s_739312</td>\n",
       "      <td>s_679110</td>\n",
       "      <td>s_461325</td>\n",
       "      <td>s_521874</td>\n",
       "      <td>s_3421010</td>\n",
       "    </tr>\n",
       "    <tr>\n",
       "      <th>1049</th>\n",
       "      <td>s_682074</td>\n",
       "      <td>s_684245</td>\n",
       "      <td>s_809873</td>\n",
       "      <td>s_684547</td>\n",
       "      <td>s_683671</td>\n",
       "    </tr>\n",
       "    <tr>\n",
       "      <th>1050</th>\n",
       "      <td>s_684245</td>\n",
       "      <td>s_684235</td>\n",
       "      <td>s_683671</td>\n",
       "      <td>s_684547</td>\n",
       "      <td>s_683821</td>\n",
       "    </tr>\n",
       "    <tr>\n",
       "      <th>1051</th>\n",
       "      <td>s_683671</td>\n",
       "      <td>s_3382317</td>\n",
       "      <td>s_809873</td>\n",
       "      <td>s_696563</td>\n",
       "      <td>s_539726</td>\n",
       "    </tr>\n",
       "    <tr>\n",
       "      <th>1052</th>\n",
       "      <td>s_809873</td>\n",
       "      <td>s_683821</td>\n",
       "      <td>s_3382317</td>\n",
       "      <td>s_539726</td>\n",
       "      <td>s_696563</td>\n",
       "    </tr>\n",
       "    <tr>\n",
       "      <th>1053</th>\n",
       "      <td>s_3382317</td>\n",
       "      <td>s_683821</td>\n",
       "      <td>s_696563</td>\n",
       "      <td>s_735757</td>\n",
       "      <td>s_503457</td>\n",
       "    </tr>\n",
       "    <tr>\n",
       "      <th>1054</th>\n",
       "      <td>s_712117</td>\n",
       "      <td>s_679110</td>\n",
       "      <td>s_472478</td>\n",
       "      <td>s_470352</td>\n",
       "      <td>s_521874</td>\n",
       "    </tr>\n",
       "    <tr>\n",
       "      <th>1055</th>\n",
       "      <td>s_684245</td>\n",
       "      <td>s_685058</td>\n",
       "      <td>s_683671</td>\n",
       "      <td>s_3284083</td>\n",
       "      <td>s_3257365</td>\n",
       "    </tr>\n",
       "    <tr>\n",
       "      <th>1056</th>\n",
       "      <td>s_3621982</td>\n",
       "      <td>s_683821</td>\n",
       "      <td>s_1488950</td>\n",
       "      <td>s_1466124</td>\n",
       "      <td>s_3101804</td>\n",
       "    </tr>\n",
       "    <tr>\n",
       "      <th>1057</th>\n",
       "      <td>s_505087</td>\n",
       "      <td>s_685058</td>\n",
       "      <td>s_684245</td>\n",
       "      <td>s_3847867</td>\n",
       "      <td>s_2230096</td>\n",
       "    </tr>\n",
       "  </tbody>\n",
       "</table>\n",
       "<p>1058 rows × 5 columns</p>\n",
       "</div>"
      ],
      "text/plain": [
       "              0          1          2          3          4\n",
       "0      s_679110   s_479529   s_712117   s_521874   s_472478\n",
       "1      s_685227   s_992598   s_683217   s_682074   s_684555\n",
       "2      s_682074   s_683674   s_683671   s_683053   s_684547\n",
       "3      s_698556   s_473743   s_539726   s_681760   s_685058\n",
       "4      s_809873   s_539726  s_3382317   s_696563   s_461325\n",
       "5      s_539726   s_683832  s_1462898   s_685058  s_1114306\n",
       "6      s_679110   s_683678   s_685058   s_466068   s_774995\n",
       "7      s_683671   s_683821   s_557771  s_2248290   s_635423\n",
       "8     s_3382317   s_809873   s_683217   s_696563   s_461325\n",
       "9      s_683985   s_465792   s_698556   s_539726   s_685058\n",
       "10     s_712117   s_739312   s_521874   s_505726  s_3421010\n",
       "11     s_683217   s_503249   s_696563   s_503457  s_3382317\n",
       "12     s_539726   s_809873   s_696563   s_684555   s_461325\n",
       "13     s_682074   s_683821  s_3812635   s_470182  s_3991685\n",
       "14     s_539726   s_681760   s_683832   s_685058  s_1114306\n",
       "15     s_479529   s_684245   s_478200  s_3991685  s_3140371\n",
       "16     s_465792   s_698556   s_683985   s_685058   s_505726\n",
       "17     s_683671   s_684547   s_682074   s_683821   s_684235\n",
       "18     s_683217   s_685227   s_683821   s_682074   s_684555\n",
       "19     s_683821   s_696563   s_809873   s_539726  s_3382317\n",
       "20     s_683671   s_809873   s_683678   s_683985   s_683832\n",
       "21     s_684245   s_809873   s_683821   s_684547   s_683671\n",
       "22     s_683678   s_683985   s_698556   s_539726   s_685058\n",
       "23     s_809873   s_683832   s_683053   s_683678   s_683985\n",
       "24     s_684555   s_682074   s_684235   s_683671   s_683821\n",
       "25     s_683832   s_683985   s_539726   s_681760   s_685058\n",
       "26     s_992598   s_683821   s_685227   s_684555   s_683053\n",
       "27     s_592650  s_3140371   s_684245  s_3812635  s_3991685\n",
       "28     s_683832   s_684547   s_685227   s_683678   s_683985\n",
       "29     s_684547   s_681760   s_685058   s_683985   s_683678\n",
       "...         ...        ...        ...        ...        ...\n",
       "1028   s_684547   s_683678   s_683832   s_684235   s_683985\n",
       "1029   s_683821   s_684245   s_684547   s_683678   s_683985\n",
       "1030   s_683821   s_682074   s_683678   s_683832   s_684235\n",
       "1031  s_3167757   s_466068  s_1444403   s_679110   s_662370\n",
       "1032  s_2248290   s_685058   s_534067   s_991943   s_696015\n",
       "1033   s_712117   s_679110   s_521874   s_479529   s_509650\n",
       "1034   s_683985   s_685058   s_683832   s_683678   s_681760\n",
       "1035   s_503249   s_809873   s_696563   s_539726  s_3382317\n",
       "1036   s_683832   s_539726   s_681760   s_698556   s_685058\n",
       "1037   s_465792   s_698556   s_683832   s_685058   s_681760\n",
       "1038   s_683671   s_683053   s_684245   s_683674   s_684547\n",
       "1039  s_1444403   s_739312   s_679110   s_521874  s_3421010\n",
       "1040   s_685227   s_684555   s_683217   s_684235   s_683821\n",
       "1041  s_3991685   s_539726   s_683671   s_570408   s_478200\n",
       "1042   s_739312   s_679110   s_461325   s_521874  s_3421010\n",
       "1043  s_3140371  s_1488950  s_3621982  s_3101804  s_1466124\n",
       "1044   s_472478   s_470352   s_521874   s_679110   s_712117\n",
       "1045   s_472478   s_470352   s_679110   s_521874   s_712117\n",
       "1046   s_683671   s_683985   s_684245   s_684547   s_683678\n",
       "1047   s_521874   s_662370   s_470352   s_712117   s_479529\n",
       "1048   s_739312   s_679110   s_461325   s_521874  s_3421010\n",
       "1049   s_682074   s_684245   s_809873   s_684547   s_683671\n",
       "1050   s_684245   s_684235   s_683671   s_684547   s_683821\n",
       "1051   s_683671  s_3382317   s_809873   s_696563   s_539726\n",
       "1052   s_809873   s_683821  s_3382317   s_539726   s_696563\n",
       "1053  s_3382317   s_683821   s_696563   s_735757   s_503457\n",
       "1054   s_712117   s_679110   s_472478   s_470352   s_521874\n",
       "1055   s_684245   s_685058   s_683671  s_3284083  s_3257365\n",
       "1056  s_3621982   s_683821  s_1488950  s_1466124  s_3101804\n",
       "1057   s_505087   s_685058   s_684245  s_3847867  s_2230096\n",
       "\n",
       "[1058 rows x 5 columns]"
      ]
     },
     "execution_count": 140,
     "metadata": {},
     "output_type": "execute_result"
    }
   ],
   "source": [
    "pd.DataFrame(encoder.inverse_transform(val_proba.argsort(axis=1)[:,-5:]))"
   ]
  },
  {
   "cell_type": "code",
   "execution_count": 146,
   "metadata": {
    "scrolled": true
   },
   "outputs": [
    {
     "data": {
      "text/html": [
       "<div>\n",
       "<table border=\"1\" class=\"dataframe\">\n",
       "  <thead>\n",
       "    <tr style=\"text-align: right;\">\n",
       "      <th></th>\n",
       "      <th>0</th>\n",
       "      <th>1</th>\n",
       "      <th>2</th>\n",
       "      <th>3</th>\n",
       "      <th>4</th>\n",
       "    </tr>\n",
       "  </thead>\n",
       "  <tbody>\n",
       "    <tr>\n",
       "      <th>0</th>\n",
       "      <td>0.003684</td>\n",
       "      <td>0.004195</td>\n",
       "      <td>0.004405</td>\n",
       "      <td>0.009055</td>\n",
       "      <td>0.950170</td>\n",
       "    </tr>\n",
       "    <tr>\n",
       "      <th>1</th>\n",
       "      <td>0.020446</td>\n",
       "      <td>0.031947</td>\n",
       "      <td>0.125492</td>\n",
       "      <td>0.317416</td>\n",
       "      <td>0.410895</td>\n",
       "    </tr>\n",
       "    <tr>\n",
       "      <th>2</th>\n",
       "      <td>0.063578</td>\n",
       "      <td>0.069018</td>\n",
       "      <td>0.123614</td>\n",
       "      <td>0.140901</td>\n",
       "      <td>0.298582</td>\n",
       "    </tr>\n",
       "    <tr>\n",
       "      <th>3</th>\n",
       "      <td>0.007020</td>\n",
       "      <td>0.007237</td>\n",
       "      <td>0.007717</td>\n",
       "      <td>0.013129</td>\n",
       "      <td>0.887729</td>\n",
       "    </tr>\n",
       "    <tr>\n",
       "      <th>4</th>\n",
       "      <td>0.000812</td>\n",
       "      <td>0.001812</td>\n",
       "      <td>0.002056</td>\n",
       "      <td>0.002456</td>\n",
       "      <td>0.975247</td>\n",
       "    </tr>\n",
       "    <tr>\n",
       "      <th>5</th>\n",
       "      <td>0.000688</td>\n",
       "      <td>0.000830</td>\n",
       "      <td>0.000881</td>\n",
       "      <td>0.001080</td>\n",
       "      <td>0.987465</td>\n",
       "    </tr>\n",
       "    <tr>\n",
       "      <th>6</th>\n",
       "      <td>0.000191</td>\n",
       "      <td>0.000213</td>\n",
       "      <td>0.000249</td>\n",
       "      <td>0.000264</td>\n",
       "      <td>0.993952</td>\n",
       "    </tr>\n",
       "    <tr>\n",
       "      <th>7</th>\n",
       "      <td>0.000455</td>\n",
       "      <td>0.000478</td>\n",
       "      <td>0.000830</td>\n",
       "      <td>0.005798</td>\n",
       "      <td>0.983089</td>\n",
       "    </tr>\n",
       "    <tr>\n",
       "      <th>8</th>\n",
       "      <td>0.004922</td>\n",
       "      <td>0.007463</td>\n",
       "      <td>0.007641</td>\n",
       "      <td>0.007736</td>\n",
       "      <td>0.922186</td>\n",
       "    </tr>\n",
       "    <tr>\n",
       "      <th>9</th>\n",
       "      <td>0.000608</td>\n",
       "      <td>0.001486</td>\n",
       "      <td>0.002664</td>\n",
       "      <td>0.011097</td>\n",
       "      <td>0.976144</td>\n",
       "    </tr>\n",
       "    <tr>\n",
       "      <th>10</th>\n",
       "      <td>0.001443</td>\n",
       "      <td>0.001758</td>\n",
       "      <td>0.002282</td>\n",
       "      <td>0.008772</td>\n",
       "      <td>0.955609</td>\n",
       "    </tr>\n",
       "    <tr>\n",
       "      <th>11</th>\n",
       "      <td>0.023507</td>\n",
       "      <td>0.028622</td>\n",
       "      <td>0.072714</td>\n",
       "      <td>0.176717</td>\n",
       "      <td>0.385810</td>\n",
       "    </tr>\n",
       "    <tr>\n",
       "      <th>12</th>\n",
       "      <td>0.001677</td>\n",
       "      <td>0.001827</td>\n",
       "      <td>0.003914</td>\n",
       "      <td>0.013921</td>\n",
       "      <td>0.957454</td>\n",
       "    </tr>\n",
       "    <tr>\n",
       "      <th>13</th>\n",
       "      <td>0.000351</td>\n",
       "      <td>0.000718</td>\n",
       "      <td>0.000877</td>\n",
       "      <td>0.003322</td>\n",
       "      <td>0.987705</td>\n",
       "    </tr>\n",
       "    <tr>\n",
       "      <th>14</th>\n",
       "      <td>0.001133</td>\n",
       "      <td>0.001314</td>\n",
       "      <td>0.002501</td>\n",
       "      <td>0.003545</td>\n",
       "      <td>0.978139</td>\n",
       "    </tr>\n",
       "    <tr>\n",
       "      <th>15</th>\n",
       "      <td>0.001275</td>\n",
       "      <td>0.002163</td>\n",
       "      <td>0.002661</td>\n",
       "      <td>0.004313</td>\n",
       "      <td>0.969699</td>\n",
       "    </tr>\n",
       "    <tr>\n",
       "      <th>16</th>\n",
       "      <td>0.001115</td>\n",
       "      <td>0.001133</td>\n",
       "      <td>0.002715</td>\n",
       "      <td>0.035594</td>\n",
       "      <td>0.940639</td>\n",
       "    </tr>\n",
       "    <tr>\n",
       "      <th>17</th>\n",
       "      <td>0.010984</td>\n",
       "      <td>0.016801</td>\n",
       "      <td>0.036138</td>\n",
       "      <td>0.383106</td>\n",
       "      <td>0.468645</td>\n",
       "    </tr>\n",
       "    <tr>\n",
       "      <th>18</th>\n",
       "      <td>0.024845</td>\n",
       "      <td>0.026866</td>\n",
       "      <td>0.030644</td>\n",
       "      <td>0.078951</td>\n",
       "      <td>0.715026</td>\n",
       "    </tr>\n",
       "    <tr>\n",
       "      <th>19</th>\n",
       "      <td>0.006636</td>\n",
       "      <td>0.009058</td>\n",
       "      <td>0.037770</td>\n",
       "      <td>0.061219</td>\n",
       "      <td>0.805258</td>\n",
       "    </tr>\n",
       "    <tr>\n",
       "      <th>20</th>\n",
       "      <td>0.025907</td>\n",
       "      <td>0.030099</td>\n",
       "      <td>0.086045</td>\n",
       "      <td>0.278122</td>\n",
       "      <td>0.334110</td>\n",
       "    </tr>\n",
       "    <tr>\n",
       "      <th>21</th>\n",
       "      <td>0.027014</td>\n",
       "      <td>0.059246</td>\n",
       "      <td>0.059762</td>\n",
       "      <td>0.098087</td>\n",
       "      <td>0.598737</td>\n",
       "    </tr>\n",
       "    <tr>\n",
       "      <th>22</th>\n",
       "      <td>0.000370</td>\n",
       "      <td>0.000424</td>\n",
       "      <td>0.000445</td>\n",
       "      <td>0.001109</td>\n",
       "      <td>0.992229</td>\n",
       "    </tr>\n",
       "    <tr>\n",
       "      <th>23</th>\n",
       "      <td>0.006721</td>\n",
       "      <td>0.007942</td>\n",
       "      <td>0.023656</td>\n",
       "      <td>0.079379</td>\n",
       "      <td>0.830607</td>\n",
       "    </tr>\n",
       "    <tr>\n",
       "      <th>24</th>\n",
       "      <td>0.014720</td>\n",
       "      <td>0.022354</td>\n",
       "      <td>0.024658</td>\n",
       "      <td>0.028978</td>\n",
       "      <td>0.741725</td>\n",
       "    </tr>\n",
       "    <tr>\n",
       "      <th>25</th>\n",
       "      <td>0.000921</td>\n",
       "      <td>0.000986</td>\n",
       "      <td>0.001284</td>\n",
       "      <td>0.004107</td>\n",
       "      <td>0.985367</td>\n",
       "    </tr>\n",
       "    <tr>\n",
       "      <th>26</th>\n",
       "      <td>0.060685</td>\n",
       "      <td>0.068686</td>\n",
       "      <td>0.113606</td>\n",
       "      <td>0.119689</td>\n",
       "      <td>0.269165</td>\n",
       "    </tr>\n",
       "    <tr>\n",
       "      <th>27</th>\n",
       "      <td>0.004339</td>\n",
       "      <td>0.004711</td>\n",
       "      <td>0.004938</td>\n",
       "      <td>0.011276</td>\n",
       "      <td>0.936420</td>\n",
       "    </tr>\n",
       "    <tr>\n",
       "      <th>28</th>\n",
       "      <td>0.029862</td>\n",
       "      <td>0.033410</td>\n",
       "      <td>0.047250</td>\n",
       "      <td>0.104227</td>\n",
       "      <td>0.451290</td>\n",
       "    </tr>\n",
       "    <tr>\n",
       "      <th>29</th>\n",
       "      <td>0.042393</td>\n",
       "      <td>0.084225</td>\n",
       "      <td>0.096742</td>\n",
       "      <td>0.132326</td>\n",
       "      <td>0.182004</td>\n",
       "    </tr>\n",
       "    <tr>\n",
       "      <th>...</th>\n",
       "      <td>...</td>\n",
       "      <td>...</td>\n",
       "      <td>...</td>\n",
       "      <td>...</td>\n",
       "      <td>...</td>\n",
       "    </tr>\n",
       "    <tr>\n",
       "      <th>1028</th>\n",
       "      <td>0.045040</td>\n",
       "      <td>0.054379</td>\n",
       "      <td>0.067280</td>\n",
       "      <td>0.097401</td>\n",
       "      <td>0.387378</td>\n",
       "    </tr>\n",
       "    <tr>\n",
       "      <th>1029</th>\n",
       "      <td>0.045052</td>\n",
       "      <td>0.100179</td>\n",
       "      <td>0.129040</td>\n",
       "      <td>0.236550</td>\n",
       "      <td>0.293642</td>\n",
       "    </tr>\n",
       "    <tr>\n",
       "      <th>1030</th>\n",
       "      <td>0.074129</td>\n",
       "      <td>0.074834</td>\n",
       "      <td>0.107827</td>\n",
       "      <td>0.146878</td>\n",
       "      <td>0.252947</td>\n",
       "    </tr>\n",
       "    <tr>\n",
       "      <th>1031</th>\n",
       "      <td>0.000693</td>\n",
       "      <td>0.000737</td>\n",
       "      <td>0.001005</td>\n",
       "      <td>0.001150</td>\n",
       "      <td>0.988692</td>\n",
       "    </tr>\n",
       "    <tr>\n",
       "      <th>1032</th>\n",
       "      <td>0.000974</td>\n",
       "      <td>0.001260</td>\n",
       "      <td>0.002268</td>\n",
       "      <td>0.007356</td>\n",
       "      <td>0.970884</td>\n",
       "    </tr>\n",
       "    <tr>\n",
       "      <th>1033</th>\n",
       "      <td>0.000537</td>\n",
       "      <td>0.001306</td>\n",
       "      <td>0.001361</td>\n",
       "      <td>0.002889</td>\n",
       "      <td>0.986046</td>\n",
       "    </tr>\n",
       "    <tr>\n",
       "      <th>1034</th>\n",
       "      <td>0.067638</td>\n",
       "      <td>0.068399</td>\n",
       "      <td>0.079462</td>\n",
       "      <td>0.107454</td>\n",
       "      <td>0.378131</td>\n",
       "    </tr>\n",
       "    <tr>\n",
       "      <th>1035</th>\n",
       "      <td>0.008824</td>\n",
       "      <td>0.025150</td>\n",
       "      <td>0.133332</td>\n",
       "      <td>0.339760</td>\n",
       "      <td>0.393793</td>\n",
       "    </tr>\n",
       "    <tr>\n",
       "      <th>1036</th>\n",
       "      <td>0.015672</td>\n",
       "      <td>0.034298</td>\n",
       "      <td>0.073710</td>\n",
       "      <td>0.074141</td>\n",
       "      <td>0.716045</td>\n",
       "    </tr>\n",
       "    <tr>\n",
       "      <th>1037</th>\n",
       "      <td>0.021948</td>\n",
       "      <td>0.046410</td>\n",
       "      <td>0.077229</td>\n",
       "      <td>0.096359</td>\n",
       "      <td>0.625534</td>\n",
       "    </tr>\n",
       "    <tr>\n",
       "      <th>1038</th>\n",
       "      <td>0.021058</td>\n",
       "      <td>0.041675</td>\n",
       "      <td>0.116753</td>\n",
       "      <td>0.329594</td>\n",
       "      <td>0.356226</td>\n",
       "    </tr>\n",
       "    <tr>\n",
       "      <th>1039</th>\n",
       "      <td>0.001788</td>\n",
       "      <td>0.002339</td>\n",
       "      <td>0.002786</td>\n",
       "      <td>0.006286</td>\n",
       "      <td>0.936168</td>\n",
       "    </tr>\n",
       "    <tr>\n",
       "      <th>1040</th>\n",
       "      <td>0.017647</td>\n",
       "      <td>0.032910</td>\n",
       "      <td>0.040867</td>\n",
       "      <td>0.161275</td>\n",
       "      <td>0.692777</td>\n",
       "    </tr>\n",
       "    <tr>\n",
       "      <th>1041</th>\n",
       "      <td>0.001261</td>\n",
       "      <td>0.001598</td>\n",
       "      <td>0.001780</td>\n",
       "      <td>0.002578</td>\n",
       "      <td>0.976866</td>\n",
       "    </tr>\n",
       "    <tr>\n",
       "      <th>1042</th>\n",
       "      <td>0.000536</td>\n",
       "      <td>0.000573</td>\n",
       "      <td>0.000615</td>\n",
       "      <td>0.001830</td>\n",
       "      <td>0.982398</td>\n",
       "    </tr>\n",
       "    <tr>\n",
       "      <th>1043</th>\n",
       "      <td>0.001572</td>\n",
       "      <td>0.002152</td>\n",
       "      <td>0.007043</td>\n",
       "      <td>0.059045</td>\n",
       "      <td>0.903893</td>\n",
       "    </tr>\n",
       "    <tr>\n",
       "      <th>1044</th>\n",
       "      <td>0.000434</td>\n",
       "      <td>0.000943</td>\n",
       "      <td>0.001014</td>\n",
       "      <td>0.001139</td>\n",
       "      <td>0.991185</td>\n",
       "    </tr>\n",
       "    <tr>\n",
       "      <th>1045</th>\n",
       "      <td>0.003061</td>\n",
       "      <td>0.003937</td>\n",
       "      <td>0.004928</td>\n",
       "      <td>0.005851</td>\n",
       "      <td>0.960425</td>\n",
       "    </tr>\n",
       "    <tr>\n",
       "      <th>1046</th>\n",
       "      <td>0.037827</td>\n",
       "      <td>0.055616</td>\n",
       "      <td>0.061792</td>\n",
       "      <td>0.236528</td>\n",
       "      <td>0.293332</td>\n",
       "    </tr>\n",
       "    <tr>\n",
       "      <th>1047</th>\n",
       "      <td>0.000333</td>\n",
       "      <td>0.000344</td>\n",
       "      <td>0.000348</td>\n",
       "      <td>0.001011</td>\n",
       "      <td>0.994118</td>\n",
       "    </tr>\n",
       "    <tr>\n",
       "      <th>1048</th>\n",
       "      <td>0.000518</td>\n",
       "      <td>0.000624</td>\n",
       "      <td>0.000641</td>\n",
       "      <td>0.001977</td>\n",
       "      <td>0.981660</td>\n",
       "    </tr>\n",
       "    <tr>\n",
       "      <th>1049</th>\n",
       "      <td>0.002516</td>\n",
       "      <td>0.004170</td>\n",
       "      <td>0.004828</td>\n",
       "      <td>0.022099</td>\n",
       "      <td>0.949855</td>\n",
       "    </tr>\n",
       "    <tr>\n",
       "      <th>1050</th>\n",
       "      <td>0.032544</td>\n",
       "      <td>0.055206</td>\n",
       "      <td>0.112943</td>\n",
       "      <td>0.163941</td>\n",
       "      <td>0.442794</td>\n",
       "    </tr>\n",
       "    <tr>\n",
       "      <th>1051</th>\n",
       "      <td>0.004216</td>\n",
       "      <td>0.004685</td>\n",
       "      <td>0.004926</td>\n",
       "      <td>0.076437</td>\n",
       "      <td>0.879856</td>\n",
       "    </tr>\n",
       "    <tr>\n",
       "      <th>1052</th>\n",
       "      <td>0.004580</td>\n",
       "      <td>0.005262</td>\n",
       "      <td>0.027565</td>\n",
       "      <td>0.053758</td>\n",
       "      <td>0.878782</td>\n",
       "    </tr>\n",
       "    <tr>\n",
       "      <th>1053</th>\n",
       "      <td>0.001529</td>\n",
       "      <td>0.001537</td>\n",
       "      <td>0.002254</td>\n",
       "      <td>0.002672</td>\n",
       "      <td>0.966694</td>\n",
       "    </tr>\n",
       "    <tr>\n",
       "      <th>1054</th>\n",
       "      <td>0.000811</td>\n",
       "      <td>0.001211</td>\n",
       "      <td>0.001238</td>\n",
       "      <td>0.001821</td>\n",
       "      <td>0.982830</td>\n",
       "    </tr>\n",
       "    <tr>\n",
       "      <th>1055</th>\n",
       "      <td>0.000805</td>\n",
       "      <td>0.000819</td>\n",
       "      <td>0.001213</td>\n",
       "      <td>0.004199</td>\n",
       "      <td>0.979308</td>\n",
       "    </tr>\n",
       "    <tr>\n",
       "      <th>1056</th>\n",
       "      <td>0.001172</td>\n",
       "      <td>0.001810</td>\n",
       "      <td>0.006992</td>\n",
       "      <td>0.117052</td>\n",
       "      <td>0.851001</td>\n",
       "    </tr>\n",
       "    <tr>\n",
       "      <th>1057</th>\n",
       "      <td>0.000487</td>\n",
       "      <td>0.000613</td>\n",
       "      <td>0.000654</td>\n",
       "      <td>0.000899</td>\n",
       "      <td>0.991713</td>\n",
       "    </tr>\n",
       "  </tbody>\n",
       "</table>\n",
       "<p>1058 rows × 5 columns</p>\n",
       "</div>"
      ],
      "text/plain": [
       "             0         1         2         3         4\n",
       "0     0.003684  0.004195  0.004405  0.009055  0.950170\n",
       "1     0.020446  0.031947  0.125492  0.317416  0.410895\n",
       "2     0.063578  0.069018  0.123614  0.140901  0.298582\n",
       "3     0.007020  0.007237  0.007717  0.013129  0.887729\n",
       "4     0.000812  0.001812  0.002056  0.002456  0.975247\n",
       "5     0.000688  0.000830  0.000881  0.001080  0.987465\n",
       "6     0.000191  0.000213  0.000249  0.000264  0.993952\n",
       "7     0.000455  0.000478  0.000830  0.005798  0.983089\n",
       "8     0.004922  0.007463  0.007641  0.007736  0.922186\n",
       "9     0.000608  0.001486  0.002664  0.011097  0.976144\n",
       "10    0.001443  0.001758  0.002282  0.008772  0.955609\n",
       "11    0.023507  0.028622  0.072714  0.176717  0.385810\n",
       "12    0.001677  0.001827  0.003914  0.013921  0.957454\n",
       "13    0.000351  0.000718  0.000877  0.003322  0.987705\n",
       "14    0.001133  0.001314  0.002501  0.003545  0.978139\n",
       "15    0.001275  0.002163  0.002661  0.004313  0.969699\n",
       "16    0.001115  0.001133  0.002715  0.035594  0.940639\n",
       "17    0.010984  0.016801  0.036138  0.383106  0.468645\n",
       "18    0.024845  0.026866  0.030644  0.078951  0.715026\n",
       "19    0.006636  0.009058  0.037770  0.061219  0.805258\n",
       "20    0.025907  0.030099  0.086045  0.278122  0.334110\n",
       "21    0.027014  0.059246  0.059762  0.098087  0.598737\n",
       "22    0.000370  0.000424  0.000445  0.001109  0.992229\n",
       "23    0.006721  0.007942  0.023656  0.079379  0.830607\n",
       "24    0.014720  0.022354  0.024658  0.028978  0.741725\n",
       "25    0.000921  0.000986  0.001284  0.004107  0.985367\n",
       "26    0.060685  0.068686  0.113606  0.119689  0.269165\n",
       "27    0.004339  0.004711  0.004938  0.011276  0.936420\n",
       "28    0.029862  0.033410  0.047250  0.104227  0.451290\n",
       "29    0.042393  0.084225  0.096742  0.132326  0.182004\n",
       "...        ...       ...       ...       ...       ...\n",
       "1028  0.045040  0.054379  0.067280  0.097401  0.387378\n",
       "1029  0.045052  0.100179  0.129040  0.236550  0.293642\n",
       "1030  0.074129  0.074834  0.107827  0.146878  0.252947\n",
       "1031  0.000693  0.000737  0.001005  0.001150  0.988692\n",
       "1032  0.000974  0.001260  0.002268  0.007356  0.970884\n",
       "1033  0.000537  0.001306  0.001361  0.002889  0.986046\n",
       "1034  0.067638  0.068399  0.079462  0.107454  0.378131\n",
       "1035  0.008824  0.025150  0.133332  0.339760  0.393793\n",
       "1036  0.015672  0.034298  0.073710  0.074141  0.716045\n",
       "1037  0.021948  0.046410  0.077229  0.096359  0.625534\n",
       "1038  0.021058  0.041675  0.116753  0.329594  0.356226\n",
       "1039  0.001788  0.002339  0.002786  0.006286  0.936168\n",
       "1040  0.017647  0.032910  0.040867  0.161275  0.692777\n",
       "1041  0.001261  0.001598  0.001780  0.002578  0.976866\n",
       "1042  0.000536  0.000573  0.000615  0.001830  0.982398\n",
       "1043  0.001572  0.002152  0.007043  0.059045  0.903893\n",
       "1044  0.000434  0.000943  0.001014  0.001139  0.991185\n",
       "1045  0.003061  0.003937  0.004928  0.005851  0.960425\n",
       "1046  0.037827  0.055616  0.061792  0.236528  0.293332\n",
       "1047  0.000333  0.000344  0.000348  0.001011  0.994118\n",
       "1048  0.000518  0.000624  0.000641  0.001977  0.981660\n",
       "1049  0.002516  0.004170  0.004828  0.022099  0.949855\n",
       "1050  0.032544  0.055206  0.112943  0.163941  0.442794\n",
       "1051  0.004216  0.004685  0.004926  0.076437  0.879856\n",
       "1052  0.004580  0.005262  0.027565  0.053758  0.878782\n",
       "1053  0.001529  0.001537  0.002254  0.002672  0.966694\n",
       "1054  0.000811  0.001211  0.001238  0.001821  0.982830\n",
       "1055  0.000805  0.000819  0.001213  0.004199  0.979308\n",
       "1056  0.001172  0.001810  0.006992  0.117052  0.851001\n",
       "1057  0.000487  0.000613  0.000654  0.000899  0.991713\n",
       "\n",
       "[1058 rows x 5 columns]"
      ]
     },
     "execution_count": 146,
     "metadata": {},
     "output_type": "execute_result"
    }
   ],
   "source": [
    "val_proba.sort(axis=1)\n",
    "pd.DataFrame(val_proba[:,-5:])"
   ]
  },
  {
   "cell_type": "code",
   "execution_count": null,
   "metadata": {
    "collapsed": true
   },
   "outputs": [],
   "source": []
  }
 ],
 "metadata": {
  "kernelspec": {
   "display_name": "Python 3",
   "language": "python",
   "name": "python3"
  },
  "language_info": {
   "codemirror_mode": {
    "name": "ipython",
    "version": 3
   },
   "file_extension": ".py",
   "mimetype": "text/x-python",
   "name": "python",
   "nbconvert_exporter": "python",
   "pygments_lexer": "ipython3",
   "version": "3.4.3"
  }
 },
 "nbformat": 4,
 "nbformat_minor": 2
}
